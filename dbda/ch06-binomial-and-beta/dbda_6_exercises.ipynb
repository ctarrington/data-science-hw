{
  "nbformat": 4,
  "nbformat_minor": 0,
  "metadata": {
    "colab": {
      "name": "dbda-6-exercises.ipynb",
      "provenance": [],
      "authorship_tag": "ABX9TyPI0xKhajSBqJgLrvJdoqwW",
      "include_colab_link": true
    },
    "kernelspec": {
      "name": "python3",
      "display_name": "Python 3"
    }
  },
  "cells": [
    {
      "cell_type": "markdown",
      "metadata": {
        "id": "view-in-github",
        "colab_type": "text"
      },
      "source": [
        "<a href=\"https://colab.research.google.com/github/ctarrington/data-science-hw/blob/master/dbda/ch06-binomial-and-beta/dbda_6_exercises.ipynb\" target=\"_parent\"><img src=\"https://colab.research.google.com/assets/colab-badge.svg\" alt=\"Open In Colab\"/></a>"
      ]
    },
    {
      "cell_type": "code",
      "metadata": {
        "id": "3ih_c33axbCC",
        "colab_type": "code",
        "colab": {}
      },
      "source": [
        "from scipy.stats import beta\n"
      ],
      "execution_count": 1,
      "outputs": []
    },
    {
      "cell_type": "code",
      "metadata": {
        "id": "zq8OOl8kxeYr",
        "colab_type": "code",
        "colab": {
          "base_uri": "https://localhost:8080/",
          "height": 51
        },
        "outputId": "0329fdd7-4a9c-4c2f-a0d5-09bf66d20acf"
      },
      "source": [
        "# Exercise 6.2\n",
        "prior = (1,1)\n",
        "first = (58, 42)\n",
        "second = (57, 43)\n",
        "\n",
        "first_round = beta(prior[0]+first[0], prior[1]+ first[1])\n",
        "ci = first_round.ppf([0.025, 0.975])\n",
        "print('95 CI after first round', ci)\n",
        "\n",
        "second_round = beta(prior[0]+first[0]+second[0], prior[1]+first[1]+second[1])\n",
        "ci = second_round.ppf([0.025, 0.975])\n",
        "print('95 CI after second round', ci)\n",
        "\n"
      ],
      "execution_count": 10,
      "outputs": [
        {
          "output_type": "stream",
          "text": [
            "95 CI after first round [0.4818182  0.67213012]\n",
            "95 CI after second round [0.50561668 0.6415051 ]\n"
          ],
          "name": "stdout"
        }
      ]
    },
    {
      "cell_type": "code",
      "metadata": {
        "id": "CVgSpk7iyI7h",
        "colab_type": "code",
        "colab": {
          "base_uri": "https://localhost:8080/",
          "height": 34
        },
        "outputId": "b48439e7-b52c-479f-bc44-603138cc3e92"
      },
      "source": [
        "prior[0]"
      ],
      "execution_count": 7,
      "outputs": [
        {
          "output_type": "execute_result",
          "data": {
            "text/plain": [
              "1"
            ]
          },
          "metadata": {
            "tags": []
          },
          "execution_count": 7
        }
      ]
    },
    {
      "cell_type": "code",
      "metadata": {
        "id": "ddZRztVOzuWM",
        "colab_type": "code",
        "colab": {}
      },
      "source": [
        ""
      ],
      "execution_count": null,
      "outputs": []
    }
  ]
}