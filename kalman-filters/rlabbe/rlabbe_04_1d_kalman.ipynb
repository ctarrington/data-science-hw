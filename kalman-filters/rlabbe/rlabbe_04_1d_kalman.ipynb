{
  "nbformat": 4,
  "nbformat_minor": 0,
  "metadata": {
    "colab": {
      "name": "rlabbe_04_1d_kalman.ipynb",
      "provenance": [],
      "authorship_tag": "ABX9TyOWXdxzB6zzGzcY/8tj1MRO",
      "include_colab_link": true
    },
    "kernelspec": {
      "name": "python3",
      "display_name": "Python 3"
    },
    "widgets": {
      "application/vnd.jupyter.widget-state+json": {
        "58998509cbe144cba7157b40d3b81e36": {
          "model_module": "@jupyter-widgets/controls",
          "model_name": "VBoxModel",
          "state": {
            "_view_name": "VBoxView",
            "_dom_classes": [
              "widget-interact"
            ],
            "_model_name": "VBoxModel",
            "_view_module": "@jupyter-widgets/controls",
            "_model_module_version": "1.5.0",
            "_view_count": null,
            "_view_module_version": "1.5.0",
            "box_style": "",
            "layout": "IPY_MODEL_6c51fdf28f3b44329eae2d6a5e127724",
            "_model_module": "@jupyter-widgets/controls",
            "children": [
              "IPY_MODEL_9bdd5df315e840c49c26c296059bf65d",
              "IPY_MODEL_faf2474a442a455980f6b79bfed350be",
              "IPY_MODEL_37f5fd9fc25943b49e6bef598c38a558",
              "IPY_MODEL_86bd2ebfc403449c884821267d3e13dc",
              "IPY_MODEL_d669f97bbf9247369bc0c54e04f0a0a5"
            ]
          }
        },
        "6c51fdf28f3b44329eae2d6a5e127724": {
          "model_module": "@jupyter-widgets/base",
          "model_name": "LayoutModel",
          "state": {
            "_view_name": "LayoutView",
            "grid_template_rows": null,
            "right": null,
            "justify_content": null,
            "_view_module": "@jupyter-widgets/base",
            "overflow": null,
            "_model_module_version": "1.2.0",
            "_view_count": null,
            "flex_flow": null,
            "width": null,
            "min_width": null,
            "border": null,
            "align_items": null,
            "bottom": null,
            "_model_module": "@jupyter-widgets/base",
            "top": null,
            "grid_column": null,
            "overflow_y": null,
            "overflow_x": null,
            "grid_auto_flow": null,
            "grid_area": null,
            "grid_template_columns": null,
            "flex": null,
            "_model_name": "LayoutModel",
            "justify_items": null,
            "grid_row": null,
            "max_height": null,
            "align_content": null,
            "visibility": null,
            "align_self": null,
            "height": null,
            "min_height": null,
            "padding": null,
            "grid_auto_rows": null,
            "grid_gap": null,
            "max_width": null,
            "order": null,
            "_view_module_version": "1.2.0",
            "grid_template_areas": null,
            "object_position": null,
            "object_fit": null,
            "grid_auto_columns": null,
            "margin": null,
            "display": null,
            "left": null
          }
        },
        "9bdd5df315e840c49c26c296059bf65d": {
          "model_module": "@jupyter-widgets/controls",
          "model_name": "FloatSliderModel",
          "state": {
            "_view_name": "FloatSliderView",
            "style": "IPY_MODEL_1d0e7fcafbeb434cb50d8fa778dbcf5c",
            "_dom_classes": [],
            "description": "mean1",
            "step": 0.1,
            "_model_name": "FloatSliderModel",
            "orientation": "horizontal",
            "max": 10,
            "_view_module": "@jupyter-widgets/controls",
            "_model_module_version": "1.5.0",
            "value": 2,
            "_view_count": null,
            "disabled": false,
            "_view_module_version": "1.5.0",
            "min": 0,
            "continuous_update": true,
            "readout_format": ".2f",
            "description_tooltip": null,
            "readout": true,
            "_model_module": "@jupyter-widgets/controls",
            "layout": "IPY_MODEL_2f353d6560444d5f925ca3feb7bda3f9"
          }
        },
        "faf2474a442a455980f6b79bfed350be": {
          "model_module": "@jupyter-widgets/controls",
          "model_name": "FloatSliderModel",
          "state": {
            "_view_name": "FloatSliderView",
            "style": "IPY_MODEL_b4df1176fdbb432cacd3f4e8743d4bbb",
            "_dom_classes": [],
            "description": "var1",
            "step": 0.1,
            "_model_name": "FloatSliderModel",
            "orientation": "horizontal",
            "max": 3,
            "_view_module": "@jupyter-widgets/controls",
            "_model_module_version": "1.5.0",
            "value": 1,
            "_view_count": null,
            "disabled": false,
            "_view_module_version": "1.5.0",
            "min": 0.2,
            "continuous_update": true,
            "readout_format": ".2f",
            "description_tooltip": null,
            "readout": true,
            "_model_module": "@jupyter-widgets/controls",
            "layout": "IPY_MODEL_dd32fa617f5c4c8fb3b9172f991d2e2a"
          }
        },
        "37f5fd9fc25943b49e6bef598c38a558": {
          "model_module": "@jupyter-widgets/controls",
          "model_name": "FloatSliderModel",
          "state": {
            "_view_name": "FloatSliderView",
            "style": "IPY_MODEL_64997395fa9a4d3290b5df5fe6a6746d",
            "_dom_classes": [],
            "description": "mean2",
            "step": 0.1,
            "_model_name": "FloatSliderModel",
            "orientation": "horizontal",
            "max": 10,
            "_view_module": "@jupyter-widgets/controls",
            "_model_module_version": "1.5.0",
            "value": 4,
            "_view_count": null,
            "disabled": false,
            "_view_module_version": "1.5.0",
            "min": 0,
            "continuous_update": true,
            "readout_format": ".2f",
            "description_tooltip": null,
            "readout": true,
            "_model_module": "@jupyter-widgets/controls",
            "layout": "IPY_MODEL_12f030def3ec4d32851fa35e88f717b5"
          }
        },
        "86bd2ebfc403449c884821267d3e13dc": {
          "model_module": "@jupyter-widgets/controls",
          "model_name": "FloatSliderModel",
          "state": {
            "_view_name": "FloatSliderView",
            "style": "IPY_MODEL_2e8e2ece606f42f89b81a1adba9acab8",
            "_dom_classes": [],
            "description": "var2",
            "step": 0.1,
            "_model_name": "FloatSliderModel",
            "orientation": "horizontal",
            "max": 3,
            "_view_module": "@jupyter-widgets/controls",
            "_model_module_version": "1.5.0",
            "value": 1.5,
            "_view_count": null,
            "disabled": false,
            "_view_module_version": "1.5.0",
            "min": 0.2,
            "continuous_update": true,
            "readout_format": ".2f",
            "description_tooltip": null,
            "readout": true,
            "_model_module": "@jupyter-widgets/controls",
            "layout": "IPY_MODEL_eb15b025f6714f9e9980da096b48385a"
          }
        },
        "d669f97bbf9247369bc0c54e04f0a0a5": {
          "model_module": "@jupyter-widgets/output",
          "model_name": "OutputModel",
          "state": {
            "_view_name": "OutputView",
            "msg_id": "",
            "_dom_classes": [],
            "_model_name": "OutputModel",
            "outputs": [
              {
                "output_type": "display_data",
                "metadata": {
                  "tags": [],
                  "needs_background": "light"
                },
                "image/png": "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\n",
                "text/plain": "<Figure size 432x288 with 1 Axes>"
              }
            ],
            "_view_module": "@jupyter-widgets/output",
            "_model_module_version": "1.0.0",
            "_view_count": null,
            "_view_module_version": "1.0.0",
            "layout": "IPY_MODEL_ad3468b237ab45d1ae09738d871f19ce",
            "_model_module": "@jupyter-widgets/output"
          }
        },
        "1d0e7fcafbeb434cb50d8fa778dbcf5c": {
          "model_module": "@jupyter-widgets/controls",
          "model_name": "SliderStyleModel",
          "state": {
            "_view_name": "StyleView",
            "handle_color": null,
            "_model_name": "SliderStyleModel",
            "description_width": "",
            "_view_module": "@jupyter-widgets/base",
            "_model_module_version": "1.5.0",
            "_view_count": null,
            "_view_module_version": "1.2.0",
            "_model_module": "@jupyter-widgets/controls"
          }
        },
        "2f353d6560444d5f925ca3feb7bda3f9": {
          "model_module": "@jupyter-widgets/base",
          "model_name": "LayoutModel",
          "state": {
            "_view_name": "LayoutView",
            "grid_template_rows": null,
            "right": null,
            "justify_content": null,
            "_view_module": "@jupyter-widgets/base",
            "overflow": null,
            "_model_module_version": "1.2.0",
            "_view_count": null,
            "flex_flow": null,
            "width": null,
            "min_width": null,
            "border": null,
            "align_items": null,
            "bottom": null,
            "_model_module": "@jupyter-widgets/base",
            "top": null,
            "grid_column": null,
            "overflow_y": null,
            "overflow_x": null,
            "grid_auto_flow": null,
            "grid_area": null,
            "grid_template_columns": null,
            "flex": null,
            "_model_name": "LayoutModel",
            "justify_items": null,
            "grid_row": null,
            "max_height": null,
            "align_content": null,
            "visibility": null,
            "align_self": null,
            "height": null,
            "min_height": null,
            "padding": null,
            "grid_auto_rows": null,
            "grid_gap": null,
            "max_width": null,
            "order": null,
            "_view_module_version": "1.2.0",
            "grid_template_areas": null,
            "object_position": null,
            "object_fit": null,
            "grid_auto_columns": null,
            "margin": null,
            "display": null,
            "left": null
          }
        },
        "b4df1176fdbb432cacd3f4e8743d4bbb": {
          "model_module": "@jupyter-widgets/controls",
          "model_name": "SliderStyleModel",
          "state": {
            "_view_name": "StyleView",
            "handle_color": null,
            "_model_name": "SliderStyleModel",
            "description_width": "",
            "_view_module": "@jupyter-widgets/base",
            "_model_module_version": "1.5.0",
            "_view_count": null,
            "_view_module_version": "1.2.0",
            "_model_module": "@jupyter-widgets/controls"
          }
        },
        "dd32fa617f5c4c8fb3b9172f991d2e2a": {
          "model_module": "@jupyter-widgets/base",
          "model_name": "LayoutModel",
          "state": {
            "_view_name": "LayoutView",
            "grid_template_rows": null,
            "right": null,
            "justify_content": null,
            "_view_module": "@jupyter-widgets/base",
            "overflow": null,
            "_model_module_version": "1.2.0",
            "_view_count": null,
            "flex_flow": null,
            "width": null,
            "min_width": null,
            "border": null,
            "align_items": null,
            "bottom": null,
            "_model_module": "@jupyter-widgets/base",
            "top": null,
            "grid_column": null,
            "overflow_y": null,
            "overflow_x": null,
            "grid_auto_flow": null,
            "grid_area": null,
            "grid_template_columns": null,
            "flex": null,
            "_model_name": "LayoutModel",
            "justify_items": null,
            "grid_row": null,
            "max_height": null,
            "align_content": null,
            "visibility": null,
            "align_self": null,
            "height": null,
            "min_height": null,
            "padding": null,
            "grid_auto_rows": null,
            "grid_gap": null,
            "max_width": null,
            "order": null,
            "_view_module_version": "1.2.0",
            "grid_template_areas": null,
            "object_position": null,
            "object_fit": null,
            "grid_auto_columns": null,
            "margin": null,
            "display": null,
            "left": null
          }
        },
        "64997395fa9a4d3290b5df5fe6a6746d": {
          "model_module": "@jupyter-widgets/controls",
          "model_name": "SliderStyleModel",
          "state": {
            "_view_name": "StyleView",
            "handle_color": null,
            "_model_name": "SliderStyleModel",
            "description_width": "",
            "_view_module": "@jupyter-widgets/base",
            "_model_module_version": "1.5.0",
            "_view_count": null,
            "_view_module_version": "1.2.0",
            "_model_module": "@jupyter-widgets/controls"
          }
        },
        "12f030def3ec4d32851fa35e88f717b5": {
          "model_module": "@jupyter-widgets/base",
          "model_name": "LayoutModel",
          "state": {
            "_view_name": "LayoutView",
            "grid_template_rows": null,
            "right": null,
            "justify_content": null,
            "_view_module": "@jupyter-widgets/base",
            "overflow": null,
            "_model_module_version": "1.2.0",
            "_view_count": null,
            "flex_flow": null,
            "width": null,
            "min_width": null,
            "border": null,
            "align_items": null,
            "bottom": null,
            "_model_module": "@jupyter-widgets/base",
            "top": null,
            "grid_column": null,
            "overflow_y": null,
            "overflow_x": null,
            "grid_auto_flow": null,
            "grid_area": null,
            "grid_template_columns": null,
            "flex": null,
            "_model_name": "LayoutModel",
            "justify_items": null,
            "grid_row": null,
            "max_height": null,
            "align_content": null,
            "visibility": null,
            "align_self": null,
            "height": null,
            "min_height": null,
            "padding": null,
            "grid_auto_rows": null,
            "grid_gap": null,
            "max_width": null,
            "order": null,
            "_view_module_version": "1.2.0",
            "grid_template_areas": null,
            "object_position": null,
            "object_fit": null,
            "grid_auto_columns": null,
            "margin": null,
            "display": null,
            "left": null
          }
        },
        "2e8e2ece606f42f89b81a1adba9acab8": {
          "model_module": "@jupyter-widgets/controls",
          "model_name": "SliderStyleModel",
          "state": {
            "_view_name": "StyleView",
            "handle_color": null,
            "_model_name": "SliderStyleModel",
            "description_width": "",
            "_view_module": "@jupyter-widgets/base",
            "_model_module_version": "1.5.0",
            "_view_count": null,
            "_view_module_version": "1.2.0",
            "_model_module": "@jupyter-widgets/controls"
          }
        },
        "eb15b025f6714f9e9980da096b48385a": {
          "model_module": "@jupyter-widgets/base",
          "model_name": "LayoutModel",
          "state": {
            "_view_name": "LayoutView",
            "grid_template_rows": null,
            "right": null,
            "justify_content": null,
            "_view_module": "@jupyter-widgets/base",
            "overflow": null,
            "_model_module_version": "1.2.0",
            "_view_count": null,
            "flex_flow": null,
            "width": null,
            "min_width": null,
            "border": null,
            "align_items": null,
            "bottom": null,
            "_model_module": "@jupyter-widgets/base",
            "top": null,
            "grid_column": null,
            "overflow_y": null,
            "overflow_x": null,
            "grid_auto_flow": null,
            "grid_area": null,
            "grid_template_columns": null,
            "flex": null,
            "_model_name": "LayoutModel",
            "justify_items": null,
            "grid_row": null,
            "max_height": null,
            "align_content": null,
            "visibility": null,
            "align_self": null,
            "height": null,
            "min_height": null,
            "padding": null,
            "grid_auto_rows": null,
            "grid_gap": null,
            "max_width": null,
            "order": null,
            "_view_module_version": "1.2.0",
            "grid_template_areas": null,
            "object_position": null,
            "object_fit": null,
            "grid_auto_columns": null,
            "margin": null,
            "display": null,
            "left": null
          }
        },
        "ad3468b237ab45d1ae09738d871f19ce": {
          "model_module": "@jupyter-widgets/base",
          "model_name": "LayoutModel",
          "state": {
            "_view_name": "LayoutView",
            "grid_template_rows": null,
            "right": null,
            "justify_content": null,
            "_view_module": "@jupyter-widgets/base",
            "overflow": null,
            "_model_module_version": "1.2.0",
            "_view_count": null,
            "flex_flow": null,
            "width": null,
            "min_width": null,
            "border": null,
            "align_items": null,
            "bottom": null,
            "_model_module": "@jupyter-widgets/base",
            "top": null,
            "grid_column": null,
            "overflow_y": null,
            "overflow_x": null,
            "grid_auto_flow": null,
            "grid_area": null,
            "grid_template_columns": null,
            "flex": null,
            "_model_name": "LayoutModel",
            "justify_items": null,
            "grid_row": null,
            "max_height": null,
            "align_content": null,
            "visibility": null,
            "align_self": null,
            "height": null,
            "min_height": null,
            "padding": null,
            "grid_auto_rows": null,
            "grid_gap": null,
            "max_width": null,
            "order": null,
            "_view_module_version": "1.2.0",
            "grid_template_areas": null,
            "object_position": null,
            "object_fit": null,
            "grid_auto_columns": null,
            "margin": null,
            "display": null,
            "left": null
          }
        },
        "1efe70b07ddc4f2b8bc948713123ad45": {
          "model_module": "@jupyter-widgets/controls",
          "model_name": "VBoxModel",
          "state": {
            "_view_name": "VBoxView",
            "_dom_classes": [
              "widget-interact"
            ],
            "_model_name": "VBoxModel",
            "_view_module": "@jupyter-widgets/controls",
            "_model_module_version": "1.5.0",
            "_view_count": null,
            "_view_module_version": "1.5.0",
            "box_style": "",
            "layout": "IPY_MODEL_9f60faaac04a4668a59078d91ac860b4",
            "_model_module": "@jupyter-widgets/controls",
            "children": [
              "IPY_MODEL_c6f978b8ab8b4b8895e379e37898a767",
              "IPY_MODEL_4054b156a81f4cda8314f00eb204afca",
              "IPY_MODEL_01f6f7ca71f347be93a77690f29c0840",
              "IPY_MODEL_5876c31c16724b5a9d185f50452e252b",
              "IPY_MODEL_b2afdb1edf5d4c9e8727b5e0c0b16c44"
            ]
          }
        },
        "9f60faaac04a4668a59078d91ac860b4": {
          "model_module": "@jupyter-widgets/base",
          "model_name": "LayoutModel",
          "state": {
            "_view_name": "LayoutView",
            "grid_template_rows": null,
            "right": null,
            "justify_content": null,
            "_view_module": "@jupyter-widgets/base",
            "overflow": null,
            "_model_module_version": "1.2.0",
            "_view_count": null,
            "flex_flow": null,
            "width": null,
            "min_width": null,
            "border": null,
            "align_items": null,
            "bottom": null,
            "_model_module": "@jupyter-widgets/base",
            "top": null,
            "grid_column": null,
            "overflow_y": null,
            "overflow_x": null,
            "grid_auto_flow": null,
            "grid_area": null,
            "grid_template_columns": null,
            "flex": null,
            "_model_name": "LayoutModel",
            "justify_items": null,
            "grid_row": null,
            "max_height": null,
            "align_content": null,
            "visibility": null,
            "align_self": null,
            "height": null,
            "min_height": null,
            "padding": null,
            "grid_auto_rows": null,
            "grid_gap": null,
            "max_width": null,
            "order": null,
            "_view_module_version": "1.2.0",
            "grid_template_areas": null,
            "object_position": null,
            "object_fit": null,
            "grid_auto_columns": null,
            "margin": null,
            "display": null,
            "left": null
          }
        },
        "c6f978b8ab8b4b8895e379e37898a767": {
          "model_module": "@jupyter-widgets/controls",
          "model_name": "FloatSliderModel",
          "state": {
            "_view_name": "FloatSliderView",
            "style": "IPY_MODEL_c244f38bfd7545bb958518b59c435201",
            "_dom_classes": [],
            "description": "mean1",
            "step": 0.1,
            "_model_name": "FloatSliderModel",
            "orientation": "horizontal",
            "max": 10,
            "_view_module": "@jupyter-widgets/controls",
            "_model_module_version": "1.5.0",
            "value": 2,
            "_view_count": null,
            "disabled": false,
            "_view_module_version": "1.5.0",
            "min": 0,
            "continuous_update": true,
            "readout_format": ".2f",
            "description_tooltip": null,
            "readout": true,
            "_model_module": "@jupyter-widgets/controls",
            "layout": "IPY_MODEL_654cef80d01e48718ef34d269f900a06"
          }
        },
        "4054b156a81f4cda8314f00eb204afca": {
          "model_module": "@jupyter-widgets/controls",
          "model_name": "FloatSliderModel",
          "state": {
            "_view_name": "FloatSliderView",
            "style": "IPY_MODEL_30c533792cd546419cf17493c006ffe9",
            "_dom_classes": [],
            "description": "var1",
            "step": 0.1,
            "_model_name": "FloatSliderModel",
            "orientation": "horizontal",
            "max": 3,
            "_view_module": "@jupyter-widgets/controls",
            "_model_module_version": "1.5.0",
            "value": 1,
            "_view_count": null,
            "disabled": false,
            "_view_module_version": "1.5.0",
            "min": 0.2,
            "continuous_update": true,
            "readout_format": ".2f",
            "description_tooltip": null,
            "readout": true,
            "_model_module": "@jupyter-widgets/controls",
            "layout": "IPY_MODEL_23fedc66fcfc4c8b8399f93e7f783ab4"
          }
        },
        "01f6f7ca71f347be93a77690f29c0840": {
          "model_module": "@jupyter-widgets/controls",
          "model_name": "FloatSliderModel",
          "state": {
            "_view_name": "FloatSliderView",
            "style": "IPY_MODEL_bf06afa80b664418bfd3d512c7017d73",
            "_dom_classes": [],
            "description": "mean2",
            "step": 0.1,
            "_model_name": "FloatSliderModel",
            "orientation": "horizontal",
            "max": 10,
            "_view_module": "@jupyter-widgets/controls",
            "_model_module_version": "1.5.0",
            "value": 4,
            "_view_count": null,
            "disabled": false,
            "_view_module_version": "1.5.0",
            "min": 0,
            "continuous_update": true,
            "readout_format": ".2f",
            "description_tooltip": null,
            "readout": true,
            "_model_module": "@jupyter-widgets/controls",
            "layout": "IPY_MODEL_de8109e3d5ac49d9a26b5887851e35e6"
          }
        },
        "5876c31c16724b5a9d185f50452e252b": {
          "model_module": "@jupyter-widgets/controls",
          "model_name": "FloatSliderModel",
          "state": {
            "_view_name": "FloatSliderView",
            "style": "IPY_MODEL_be889340a0c94bd3ae4edcc8a7c93152",
            "_dom_classes": [],
            "description": "var2",
            "step": 0.1,
            "_model_name": "FloatSliderModel",
            "orientation": "horizontal",
            "max": 3,
            "_view_module": "@jupyter-widgets/controls",
            "_model_module_version": "1.5.0",
            "value": 1.5,
            "_view_count": null,
            "disabled": false,
            "_view_module_version": "1.5.0",
            "min": 0.2,
            "continuous_update": true,
            "readout_format": ".2f",
            "description_tooltip": null,
            "readout": true,
            "_model_module": "@jupyter-widgets/controls",
            "layout": "IPY_MODEL_5912ac6aa66148cf8db5208c398194ff"
          }
        },
        "b2afdb1edf5d4c9e8727b5e0c0b16c44": {
          "model_module": "@jupyter-widgets/output",
          "model_name": "OutputModel",
          "state": {
            "_view_name": "OutputView",
            "msg_id": "",
            "_dom_classes": [],
            "_model_name": "OutputModel",
            "outputs": [
              {
                "output_type": "display_data",
                "metadata": {
                  "tags": [],
                  "needs_background": "light"
                },
                "image/png": "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\n",
                "text/plain": "<Figure size 432x288 with 1 Axes>"
              }
            ],
            "_view_module": "@jupyter-widgets/output",
            "_model_module_version": "1.0.0",
            "_view_count": null,
            "_view_module_version": "1.0.0",
            "layout": "IPY_MODEL_2a62d5361a1b4677a1d81ca23f6dfaa1",
            "_model_module": "@jupyter-widgets/output"
          }
        },
        "c244f38bfd7545bb958518b59c435201": {
          "model_module": "@jupyter-widgets/controls",
          "model_name": "SliderStyleModel",
          "state": {
            "_view_name": "StyleView",
            "handle_color": null,
            "_model_name": "SliderStyleModel",
            "description_width": "",
            "_view_module": "@jupyter-widgets/base",
            "_model_module_version": "1.5.0",
            "_view_count": null,
            "_view_module_version": "1.2.0",
            "_model_module": "@jupyter-widgets/controls"
          }
        },
        "654cef80d01e48718ef34d269f900a06": {
          "model_module": "@jupyter-widgets/base",
          "model_name": "LayoutModel",
          "state": {
            "_view_name": "LayoutView",
            "grid_template_rows": null,
            "right": null,
            "justify_content": null,
            "_view_module": "@jupyter-widgets/base",
            "overflow": null,
            "_model_module_version": "1.2.0",
            "_view_count": null,
            "flex_flow": null,
            "width": null,
            "min_width": null,
            "border": null,
            "align_items": null,
            "bottom": null,
            "_model_module": "@jupyter-widgets/base",
            "top": null,
            "grid_column": null,
            "overflow_y": null,
            "overflow_x": null,
            "grid_auto_flow": null,
            "grid_area": null,
            "grid_template_columns": null,
            "flex": null,
            "_model_name": "LayoutModel",
            "justify_items": null,
            "grid_row": null,
            "max_height": null,
            "align_content": null,
            "visibility": null,
            "align_self": null,
            "height": null,
            "min_height": null,
            "padding": null,
            "grid_auto_rows": null,
            "grid_gap": null,
            "max_width": null,
            "order": null,
            "_view_module_version": "1.2.0",
            "grid_template_areas": null,
            "object_position": null,
            "object_fit": null,
            "grid_auto_columns": null,
            "margin": null,
            "display": null,
            "left": null
          }
        },
        "30c533792cd546419cf17493c006ffe9": {
          "model_module": "@jupyter-widgets/controls",
          "model_name": "SliderStyleModel",
          "state": {
            "_view_name": "StyleView",
            "handle_color": null,
            "_model_name": "SliderStyleModel",
            "description_width": "",
            "_view_module": "@jupyter-widgets/base",
            "_model_module_version": "1.5.0",
            "_view_count": null,
            "_view_module_version": "1.2.0",
            "_model_module": "@jupyter-widgets/controls"
          }
        },
        "23fedc66fcfc4c8b8399f93e7f783ab4": {
          "model_module": "@jupyter-widgets/base",
          "model_name": "LayoutModel",
          "state": {
            "_view_name": "LayoutView",
            "grid_template_rows": null,
            "right": null,
            "justify_content": null,
            "_view_module": "@jupyter-widgets/base",
            "overflow": null,
            "_model_module_version": "1.2.0",
            "_view_count": null,
            "flex_flow": null,
            "width": null,
            "min_width": null,
            "border": null,
            "align_items": null,
            "bottom": null,
            "_model_module": "@jupyter-widgets/base",
            "top": null,
            "grid_column": null,
            "overflow_y": null,
            "overflow_x": null,
            "grid_auto_flow": null,
            "grid_area": null,
            "grid_template_columns": null,
            "flex": null,
            "_model_name": "LayoutModel",
            "justify_items": null,
            "grid_row": null,
            "max_height": null,
            "align_content": null,
            "visibility": null,
            "align_self": null,
            "height": null,
            "min_height": null,
            "padding": null,
            "grid_auto_rows": null,
            "grid_gap": null,
            "max_width": null,
            "order": null,
            "_view_module_version": "1.2.0",
            "grid_template_areas": null,
            "object_position": null,
            "object_fit": null,
            "grid_auto_columns": null,
            "margin": null,
            "display": null,
            "left": null
          }
        },
        "bf06afa80b664418bfd3d512c7017d73": {
          "model_module": "@jupyter-widgets/controls",
          "model_name": "SliderStyleModel",
          "state": {
            "_view_name": "StyleView",
            "handle_color": null,
            "_model_name": "SliderStyleModel",
            "description_width": "",
            "_view_module": "@jupyter-widgets/base",
            "_model_module_version": "1.5.0",
            "_view_count": null,
            "_view_module_version": "1.2.0",
            "_model_module": "@jupyter-widgets/controls"
          }
        },
        "de8109e3d5ac49d9a26b5887851e35e6": {
          "model_module": "@jupyter-widgets/base",
          "model_name": "LayoutModel",
          "state": {
            "_view_name": "LayoutView",
            "grid_template_rows": null,
            "right": null,
            "justify_content": null,
            "_view_module": "@jupyter-widgets/base",
            "overflow": null,
            "_model_module_version": "1.2.0",
            "_view_count": null,
            "flex_flow": null,
            "width": null,
            "min_width": null,
            "border": null,
            "align_items": null,
            "bottom": null,
            "_model_module": "@jupyter-widgets/base",
            "top": null,
            "grid_column": null,
            "overflow_y": null,
            "overflow_x": null,
            "grid_auto_flow": null,
            "grid_area": null,
            "grid_template_columns": null,
            "flex": null,
            "_model_name": "LayoutModel",
            "justify_items": null,
            "grid_row": null,
            "max_height": null,
            "align_content": null,
            "visibility": null,
            "align_self": null,
            "height": null,
            "min_height": null,
            "padding": null,
            "grid_auto_rows": null,
            "grid_gap": null,
            "max_width": null,
            "order": null,
            "_view_module_version": "1.2.0",
            "grid_template_areas": null,
            "object_position": null,
            "object_fit": null,
            "grid_auto_columns": null,
            "margin": null,
            "display": null,
            "left": null
          }
        },
        "be889340a0c94bd3ae4edcc8a7c93152": {
          "model_module": "@jupyter-widgets/controls",
          "model_name": "SliderStyleModel",
          "state": {
            "_view_name": "StyleView",
            "handle_color": null,
            "_model_name": "SliderStyleModel",
            "description_width": "",
            "_view_module": "@jupyter-widgets/base",
            "_model_module_version": "1.5.0",
            "_view_count": null,
            "_view_module_version": "1.2.0",
            "_model_module": "@jupyter-widgets/controls"
          }
        },
        "5912ac6aa66148cf8db5208c398194ff": {
          "model_module": "@jupyter-widgets/base",
          "model_name": "LayoutModel",
          "state": {
            "_view_name": "LayoutView",
            "grid_template_rows": null,
            "right": null,
            "justify_content": null,
            "_view_module": "@jupyter-widgets/base",
            "overflow": null,
            "_model_module_version": "1.2.0",
            "_view_count": null,
            "flex_flow": null,
            "width": null,
            "min_width": null,
            "border": null,
            "align_items": null,
            "bottom": null,
            "_model_module": "@jupyter-widgets/base",
            "top": null,
            "grid_column": null,
            "overflow_y": null,
            "overflow_x": null,
            "grid_auto_flow": null,
            "grid_area": null,
            "grid_template_columns": null,
            "flex": null,
            "_model_name": "LayoutModel",
            "justify_items": null,
            "grid_row": null,
            "max_height": null,
            "align_content": null,
            "visibility": null,
            "align_self": null,
            "height": null,
            "min_height": null,
            "padding": null,
            "grid_auto_rows": null,
            "grid_gap": null,
            "max_width": null,
            "order": null,
            "_view_module_version": "1.2.0",
            "grid_template_areas": null,
            "object_position": null,
            "object_fit": null,
            "grid_auto_columns": null,
            "margin": null,
            "display": null,
            "left": null
          }
        },
        "2a62d5361a1b4677a1d81ca23f6dfaa1": {
          "model_module": "@jupyter-widgets/base",
          "model_name": "LayoutModel",
          "state": {
            "_view_name": "LayoutView",
            "grid_template_rows": null,
            "right": null,
            "justify_content": null,
            "_view_module": "@jupyter-widgets/base",
            "overflow": null,
            "_model_module_version": "1.2.0",
            "_view_count": null,
            "flex_flow": null,
            "width": null,
            "min_width": null,
            "border": null,
            "align_items": null,
            "bottom": null,
            "_model_module": "@jupyter-widgets/base",
            "top": null,
            "grid_column": null,
            "overflow_y": null,
            "overflow_x": null,
            "grid_auto_flow": null,
            "grid_area": null,
            "grid_template_columns": null,
            "flex": null,
            "_model_name": "LayoutModel",
            "justify_items": null,
            "grid_row": null,
            "max_height": null,
            "align_content": null,
            "visibility": null,
            "align_self": null,
            "height": null,
            "min_height": null,
            "padding": null,
            "grid_auto_rows": null,
            "grid_gap": null,
            "max_width": null,
            "order": null,
            "_view_module_version": "1.2.0",
            "grid_template_areas": null,
            "object_position": null,
            "object_fit": null,
            "grid_auto_columns": null,
            "margin": null,
            "display": null,
            "left": null
          }
        },
        "1a6fcd859700419d9debfb14fb86a862": {
          "model_module": "@jupyter-widgets/controls",
          "model_name": "VBoxModel",
          "state": {
            "_view_name": "VBoxView",
            "_dom_classes": [
              "widget-interact"
            ],
            "_model_name": "VBoxModel",
            "_view_module": "@jupyter-widgets/controls",
            "_model_module_version": "1.5.0",
            "_view_count": null,
            "_view_module_version": "1.5.0",
            "box_style": "",
            "layout": "IPY_MODEL_6fa2af13a278497fb6045312f82cfe2d",
            "_model_module": "@jupyter-widgets/controls",
            "children": [
              "IPY_MODEL_a3ab77847e58448fb616457037cf6b6e",
              "IPY_MODEL_1ff16bd0acba4c61b3710273959a2cef",
              "IPY_MODEL_96e36c5fde604e178e6ea5aabf9d75de",
              "IPY_MODEL_9e8d10c6a510482b970514bbf82e242e"
            ]
          }
        },
        "6fa2af13a278497fb6045312f82cfe2d": {
          "model_module": "@jupyter-widgets/base",
          "model_name": "LayoutModel",
          "state": {
            "_view_name": "LayoutView",
            "grid_template_rows": null,
            "right": null,
            "justify_content": null,
            "_view_module": "@jupyter-widgets/base",
            "overflow": null,
            "_model_module_version": "1.2.0",
            "_view_count": null,
            "flex_flow": null,
            "width": null,
            "min_width": null,
            "border": null,
            "align_items": null,
            "bottom": null,
            "_model_module": "@jupyter-widgets/base",
            "top": null,
            "grid_column": null,
            "overflow_y": null,
            "overflow_x": null,
            "grid_auto_flow": null,
            "grid_area": null,
            "grid_template_columns": null,
            "flex": null,
            "_model_name": "LayoutModel",
            "justify_items": null,
            "grid_row": null,
            "max_height": null,
            "align_content": null,
            "visibility": null,
            "align_self": null,
            "height": null,
            "min_height": null,
            "padding": null,
            "grid_auto_rows": null,
            "grid_gap": null,
            "max_width": null,
            "order": null,
            "_view_module_version": "1.2.0",
            "grid_template_areas": null,
            "object_position": null,
            "object_fit": null,
            "grid_auto_columns": null,
            "margin": null,
            "display": null,
            "left": null
          }
        },
        "a3ab77847e58448fb616457037cf6b6e": {
          "model_module": "@jupyter-widgets/controls",
          "model_name": "FloatSliderModel",
          "state": {
            "_view_name": "FloatSliderView",
            "style": "IPY_MODEL_765792338b454f0aaacd9c06cadd34bf",
            "_dom_classes": [],
            "description": "process_var",
            "step": 0.1,
            "_model_name": "FloatSliderModel",
            "orientation": "horizontal",
            "max": 10,
            "_view_module": "@jupyter-widgets/controls",
            "_model_module_version": "1.5.0",
            "value": 1,
            "_view_count": null,
            "disabled": false,
            "_view_module_version": "1.5.0",
            "min": 0.2,
            "continuous_update": true,
            "readout_format": ".2f",
            "description_tooltip": null,
            "readout": true,
            "_model_module": "@jupyter-widgets/controls",
            "layout": "IPY_MODEL_f77b2270ff6e44d589c714a0b6854b11"
          }
        },
        "1ff16bd0acba4c61b3710273959a2cef": {
          "model_module": "@jupyter-widgets/controls",
          "model_name": "FloatSliderModel",
          "state": {
            "_view_name": "FloatSliderView",
            "style": "IPY_MODEL_7128e72bcf3b4489bae25aac8c408361",
            "_dom_classes": [],
            "description": "sensor_var",
            "step": 0.1,
            "_model_name": "FloatSliderModel",
            "orientation": "horizontal",
            "max": 10,
            "_view_module": "@jupyter-widgets/controls",
            "_model_module_version": "1.5.0",
            "value": 5.8,
            "_view_count": null,
            "disabled": false,
            "_view_module_version": "1.5.0",
            "min": 0.2,
            "continuous_update": true,
            "readout_format": ".2f",
            "description_tooltip": null,
            "readout": true,
            "_model_module": "@jupyter-widgets/controls",
            "layout": "IPY_MODEL_5f835f854e8c4040a232b095b66e8b4d"
          }
        },
        "96e36c5fde604e178e6ea5aabf9d75de": {
          "model_module": "@jupyter-widgets/controls",
          "model_name": "FloatSliderModel",
          "state": {
            "_view_name": "FloatSliderView",
            "style": "IPY_MODEL_a044ca14f02a49d48509676d220a339b",
            "_dom_classes": [],
            "description": "x0",
            "step": 0.1,
            "_model_name": "FloatSliderModel",
            "orientation": "horizontal",
            "max": 100,
            "_view_module": "@jupyter-widgets/controls",
            "_model_module_version": "1.5.0",
            "value": 64,
            "_view_count": null,
            "disabled": false,
            "_view_module_version": "1.5.0",
            "min": 0,
            "continuous_update": true,
            "readout_format": ".2f",
            "description_tooltip": null,
            "readout": true,
            "_model_module": "@jupyter-widgets/controls",
            "layout": "IPY_MODEL_15c417f18751407a9c53fd5ea4efb61e"
          }
        },
        "9e8d10c6a510482b970514bbf82e242e": {
          "model_module": "@jupyter-widgets/output",
          "model_name": "OutputModel",
          "state": {
            "_view_name": "OutputView",
            "msg_id": "",
            "_dom_classes": [],
            "_model_name": "OutputModel",
            "outputs": [
              {
                "output_type": "display_data",
                "metadata": {
                  "tags": [],
                  "needs_background": "light"
                },
                "image/png": "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\n",
                "text/plain": "<Figure size 648x504 with 2 Axes>"
              }
            ],
            "_view_module": "@jupyter-widgets/output",
            "_model_module_version": "1.0.0",
            "_view_count": null,
            "_view_module_version": "1.0.0",
            "layout": "IPY_MODEL_19e28b0f530f46caa879c67debe009c2",
            "_model_module": "@jupyter-widgets/output"
          }
        },
        "765792338b454f0aaacd9c06cadd34bf": {
          "model_module": "@jupyter-widgets/controls",
          "model_name": "SliderStyleModel",
          "state": {
            "_view_name": "StyleView",
            "handle_color": null,
            "_model_name": "SliderStyleModel",
            "description_width": "",
            "_view_module": "@jupyter-widgets/base",
            "_model_module_version": "1.5.0",
            "_view_count": null,
            "_view_module_version": "1.2.0",
            "_model_module": "@jupyter-widgets/controls"
          }
        },
        "f77b2270ff6e44d589c714a0b6854b11": {
          "model_module": "@jupyter-widgets/base",
          "model_name": "LayoutModel",
          "state": {
            "_view_name": "LayoutView",
            "grid_template_rows": null,
            "right": null,
            "justify_content": null,
            "_view_module": "@jupyter-widgets/base",
            "overflow": null,
            "_model_module_version": "1.2.0",
            "_view_count": null,
            "flex_flow": null,
            "width": null,
            "min_width": null,
            "border": null,
            "align_items": null,
            "bottom": null,
            "_model_module": "@jupyter-widgets/base",
            "top": null,
            "grid_column": null,
            "overflow_y": null,
            "overflow_x": null,
            "grid_auto_flow": null,
            "grid_area": null,
            "grid_template_columns": null,
            "flex": null,
            "_model_name": "LayoutModel",
            "justify_items": null,
            "grid_row": null,
            "max_height": null,
            "align_content": null,
            "visibility": null,
            "align_self": null,
            "height": null,
            "min_height": null,
            "padding": null,
            "grid_auto_rows": null,
            "grid_gap": null,
            "max_width": null,
            "order": null,
            "_view_module_version": "1.2.0",
            "grid_template_areas": null,
            "object_position": null,
            "object_fit": null,
            "grid_auto_columns": null,
            "margin": null,
            "display": null,
            "left": null
          }
        },
        "7128e72bcf3b4489bae25aac8c408361": {
          "model_module": "@jupyter-widgets/controls",
          "model_name": "SliderStyleModel",
          "state": {
            "_view_name": "StyleView",
            "handle_color": null,
            "_model_name": "SliderStyleModel",
            "description_width": "",
            "_view_module": "@jupyter-widgets/base",
            "_model_module_version": "1.5.0",
            "_view_count": null,
            "_view_module_version": "1.2.0",
            "_model_module": "@jupyter-widgets/controls"
          }
        },
        "5f835f854e8c4040a232b095b66e8b4d": {
          "model_module": "@jupyter-widgets/base",
          "model_name": "LayoutModel",
          "state": {
            "_view_name": "LayoutView",
            "grid_template_rows": null,
            "right": null,
            "justify_content": null,
            "_view_module": "@jupyter-widgets/base",
            "overflow": null,
            "_model_module_version": "1.2.0",
            "_view_count": null,
            "flex_flow": null,
            "width": null,
            "min_width": null,
            "border": null,
            "align_items": null,
            "bottom": null,
            "_model_module": "@jupyter-widgets/base",
            "top": null,
            "grid_column": null,
            "overflow_y": null,
            "overflow_x": null,
            "grid_auto_flow": null,
            "grid_area": null,
            "grid_template_columns": null,
            "flex": null,
            "_model_name": "LayoutModel",
            "justify_items": null,
            "grid_row": null,
            "max_height": null,
            "align_content": null,
            "visibility": null,
            "align_self": null,
            "height": null,
            "min_height": null,
            "padding": null,
            "grid_auto_rows": null,
            "grid_gap": null,
            "max_width": null,
            "order": null,
            "_view_module_version": "1.2.0",
            "grid_template_areas": null,
            "object_position": null,
            "object_fit": null,
            "grid_auto_columns": null,
            "margin": null,
            "display": null,
            "left": null
          }
        },
        "a044ca14f02a49d48509676d220a339b": {
          "model_module": "@jupyter-widgets/controls",
          "model_name": "SliderStyleModel",
          "state": {
            "_view_name": "StyleView",
            "handle_color": null,
            "_model_name": "SliderStyleModel",
            "description_width": "",
            "_view_module": "@jupyter-widgets/base",
            "_model_module_version": "1.5.0",
            "_view_count": null,
            "_view_module_version": "1.2.0",
            "_model_module": "@jupyter-widgets/controls"
          }
        },
        "15c417f18751407a9c53fd5ea4efb61e": {
          "model_module": "@jupyter-widgets/base",
          "model_name": "LayoutModel",
          "state": {
            "_view_name": "LayoutView",
            "grid_template_rows": null,
            "right": null,
            "justify_content": null,
            "_view_module": "@jupyter-widgets/base",
            "overflow": null,
            "_model_module_version": "1.2.0",
            "_view_count": null,
            "flex_flow": null,
            "width": null,
            "min_width": null,
            "border": null,
            "align_items": null,
            "bottom": null,
            "_model_module": "@jupyter-widgets/base",
            "top": null,
            "grid_column": null,
            "overflow_y": null,
            "overflow_x": null,
            "grid_auto_flow": null,
            "grid_area": null,
            "grid_template_columns": null,
            "flex": null,
            "_model_name": "LayoutModel",
            "justify_items": null,
            "grid_row": null,
            "max_height": null,
            "align_content": null,
            "visibility": null,
            "align_self": null,
            "height": null,
            "min_height": null,
            "padding": null,
            "grid_auto_rows": null,
            "grid_gap": null,
            "max_width": null,
            "order": null,
            "_view_module_version": "1.2.0",
            "grid_template_areas": null,
            "object_position": null,
            "object_fit": null,
            "grid_auto_columns": null,
            "margin": null,
            "display": null,
            "left": null
          }
        },
        "19e28b0f530f46caa879c67debe009c2": {
          "model_module": "@jupyter-widgets/base",
          "model_name": "LayoutModel",
          "state": {
            "_view_name": "LayoutView",
            "grid_template_rows": null,
            "right": null,
            "justify_content": null,
            "_view_module": "@jupyter-widgets/base",
            "overflow": null,
            "_model_module_version": "1.2.0",
            "_view_count": null,
            "flex_flow": null,
            "width": null,
            "min_width": null,
            "border": null,
            "align_items": null,
            "bottom": null,
            "_model_module": "@jupyter-widgets/base",
            "top": null,
            "grid_column": null,
            "overflow_y": null,
            "overflow_x": null,
            "grid_auto_flow": null,
            "grid_area": null,
            "grid_template_columns": null,
            "flex": null,
            "_model_name": "LayoutModel",
            "justify_items": null,
            "grid_row": null,
            "max_height": null,
            "align_content": null,
            "visibility": null,
            "align_self": null,
            "height": null,
            "min_height": null,
            "padding": null,
            "grid_auto_rows": null,
            "grid_gap": null,
            "max_width": null,
            "order": null,
            "_view_module_version": "1.2.0",
            "grid_template_areas": null,
            "object_position": null,
            "object_fit": null,
            "grid_auto_columns": null,
            "margin": null,
            "display": null,
            "left": null
          }
        }
      }
    }
  },
  "cells": [
    {
      "cell_type": "markdown",
      "metadata": {
        "id": "view-in-github",
        "colab_type": "text"
      },
      "source": [
        "<a href=\"https://colab.research.google.com/github/ctarrington/data-science-hw/blob/master/kalman-filters/rlabbe/rlabbe_04_1d_kalman.ipynb\" target=\"_parent\"><img src=\"https://colab.research.google.com/assets/colab-badge.svg\" alt=\"Open In Colab\"/></a>"
      ]
    },
    {
      "cell_type": "code",
      "metadata": {
        "id": "EJae-BBlhA7k",
        "colab_type": "code",
        "colab": {}
      },
      "source": [
        "import math\n",
        "\n",
        "import numpy as np\n",
        "\n",
        "from scipy.stats import norm\n",
        "\n",
        "from matplotlib.pyplot import plot\n",
        "from matplotlib import pyplot as plt\n",
        "\n",
        "from ipywidgets import fixed, interact\n",
        "import ipywidgets as widgets"
      ],
      "execution_count": 1,
      "outputs": []
    },
    {
      "cell_type": "code",
      "metadata": {
        "id": "BcJWxYXim8xj",
        "colab_type": "code",
        "colab": {}
      },
      "source": [
        "class Gaussian:\n",
        "  def __init__(self, mean, var, name):\n",
        "    self.mean = mean\n",
        "    self.var = var\n",
        "    self.name = name\n",
        "\n",
        "    self.rv = norm(mean, var)\n",
        "\n",
        "  def add(self, other, name):\n",
        "    return Gaussian(self.mean + other.mean, self.var +other.var, name)\n",
        "\n",
        "  def multiply(self, other, name):\n",
        "    mean = (self.var * other.mean + other.var * self.mean) / (self.var + other.var)\n",
        "    variance = (self.var * other.var) / (self.var + other.var)\n",
        "    return Gaussian(mean, variance, name)\n",
        "\n",
        "  def min_plot_value(self):\n",
        "    return self.mean - 1.5 * self.var\n",
        "\n",
        "  def max_plot_value(self):\n",
        "    return self.mean + 1.5 * self.var\n",
        "\n",
        "  def print(self):\n",
        "    print('%s: Gaussian(%.2f, %.2f)' % (self.name, self.mean, self.var))\n",
        "\n",
        "  def pdf(self, xs):\n",
        "    return self.rv.pdf(xs)\n"
      ],
      "execution_count": 2,
      "outputs": []
    },
    {
      "cell_type": "code",
      "metadata": {
        "id": "5htr7CsNjrMG",
        "colab_type": "code",
        "colab": {}
      },
      "source": [
        "def show_filter_value(actuals, measurements, estimates):\n",
        "  burn_in = 6\n",
        "  measurement_error = measurements[burn_in:] - actuals[burn_in:]\n",
        "  estimate_error = estimates[burn_in:] - actuals[burn_in:]\n",
        "  estimate_advantage = np.abs(measurement_error) - np.abs(estimate_error)\n",
        "  mean_advantage = np.mean(estimate_advantage)\n",
        "\n",
        "  # everything together\n",
        "  _, subplots = plt.subplots(1,2, figsize=(9, 7), constrained_layout=True)\n",
        "  subplots[0].plot(actuals, '-b', label='Actuals')\n",
        "  subplots[0].plot(measurements, 'yo', label='Measurements')\n",
        "  subplots[0].plot(estimates, '--gx', label='Estimates')\n",
        "  subplots[0].legend()\n",
        "\n",
        "  # advantage\n",
        "  burnt_times = range(burn_in, len(estimates))\n",
        "  subplots[1].plot(burnt_times, estimate_advantage, 'go')\n",
        "  subplots[1].set_xlim(left=0)\n",
        "  subplots[1].hlines(0, burn_in, len(estimates))\n",
        "  subplots[1].set_title('Mean estimate advantage %.1f' % mean_advantage)\n",
        "  \n",
        "  plt.show()"
      ],
      "execution_count": 16,
      "outputs": []
    },
    {
      "cell_type": "code",
      "metadata": {
        "id": "enahtM63hO_B",
        "colab_type": "code",
        "colab": {}
      },
      "source": [
        "def data_and_noise(x0 = 0, v = 2, a = 0, var = 1, count = 30, seed = 123):\n",
        "  np.random.seed(seed)\n",
        "\n",
        "  std = math.sqrt(var)\n",
        "  xs = np.array([x0 + t * v + 0.5 * a * t ** 2 for t in range(count)])\n",
        "  noise = np.array(np.random.normal(0, std, count))\n",
        "  return (xs, xs + noise)"
      ],
      "execution_count": 4,
      "outputs": []
    },
    {
      "cell_type": "code",
      "metadata": {
        "id": "9Bm8MOjMvk2H",
        "colab_type": "code",
        "colab": {}
      },
      "source": [
        "def show_sum(mean1, var1, name1, mean2, var2, name2):\n",
        "  one = Gaussian(mean1, var1, name1)\n",
        "  two = Gaussian(mean2, var2, name2)\n",
        "\n",
        "  sum_name = '%s + %s' % (name1, name2)\n",
        "  sum = one.add(two, sum_name)\n",
        "\n",
        "  min_point = min(one.min_plot_value(), two.min_plot_value(), sum.min_plot_value(), 0)\n",
        "  max_point = max(one.max_plot_value(), two.max_plot_value(), sum.max_plot_value(), 16)\n",
        "\n",
        "  points = np.arange(min_point, max_point, 0.1)\n",
        "  plot(points, one.pdf(points), label=name1)\n",
        "  plot(points, two.pdf(points), label=name2)\n",
        "  plot(points, sum.pdf(points), label=sum_name)\n",
        "\n",
        "  plt.legend()\n",
        "  plt.show()\n"
      ],
      "execution_count": 5,
      "outputs": []
    },
    {
      "cell_type": "code",
      "metadata": {
        "id": "kOub8fAJ4S61",
        "colab_type": "code",
        "colab": {}
      },
      "source": [
        "def show_product(mean1, var1, name1, mean2, var2, name2):\n",
        "  one = Gaussian(mean1, var1, name1)\n",
        "  two = Gaussian(mean2, var2, name2)\n",
        "\n",
        "  product_name = '%s * %s' % (name1, name2)\n",
        "  product = one.multiply(two, product_name)\n",
        "\n",
        "  min_point = min(one.min_plot_value(), two.min_plot_value(), product.min_plot_value(), 0)\n",
        "  max_point = max(one.max_plot_value(), two.max_plot_value(), product.max_plot_value(), 16)\n",
        "\n",
        "  points = np.arange(min_point, max_point, 0.1)\n",
        "  plot(points, one.pdf(points), label=name1)\n",
        "  plot(points, two.pdf(points), label=name2)\n",
        "  plot(points, product.pdf(points), label=product_name)\n",
        "\n",
        "  plt.legend()\n",
        "  plt.show()"
      ],
      "execution_count": 6,
      "outputs": []
    },
    {
      "cell_type": "code",
      "metadata": {
        "id": "8S4QFlqgwt3E",
        "colab_type": "code",
        "colab": {
          "base_uri": "https://localhost:8080/",
          "height": 265
        },
        "outputId": "0736156b-6a64-4be4-a09d-dc455aa5177e"
      },
      "source": [
        "show_sum(2, 1, 'x', 4, 1.5, 'y')"
      ],
      "execution_count": 7,
      "outputs": [
        {
          "output_type": "display_data",
          "data": {
            "image/png": "[encoded data removed]",
            "text/plain": [
              "<Figure size 432x288 with 1 Axes>"
            ]
          },
          "metadata": {
            "tags": [],
            "needs_background": "light"
          }
        }
      ]
    },
    {
      "cell_type": "code",
      "metadata": {
        "id": "KPm4i70Zwz2u",
        "colab_type": "code",
        "colab": {
          "base_uri": "https://localhost:8080/",
          "height": 410,
          "referenced_widgets": [
            "58998509cbe144cba7157b40d3b81e36",
            "6c51fdf28f3b44329eae2d6a5e127724",
            "9bdd5df315e840c49c26c296059bf65d",
            "faf2474a442a455980f6b79bfed350be",
            "37f5fd9fc25943b49e6bef598c38a558",
            "86bd2ebfc403449c884821267d3e13dc",
            "d669f97bbf9247369bc0c54e04f0a0a5",
            "1d0e7fcafbeb434cb50d8fa778dbcf5c",
            "2f353d6560444d5f925ca3feb7bda3f9",
            "b4df1176fdbb432cacd3f4e8743d4bbb",
            "dd32fa617f5c4c8fb3b9172f991d2e2a",
            "64997395fa9a4d3290b5df5fe6a6746d",
            "12f030def3ec4d32851fa35e88f717b5",
            "2e8e2ece606f42f89b81a1adba9acab8",
            "eb15b025f6714f9e9980da096b48385a",
            "ad3468b237ab45d1ae09738d871f19ce"
          ]
        },
        "outputId": "5c63bcb0-dd91-427d-cde6-054a99328fb1"
      },
      "source": [
        "interact(show_sum,\n",
        "         mean1=widgets.FloatSlider(2, min=0., max=10.),\n",
        "         var1=widgets.FloatSlider(1, min=0.2, max=3.),\n",
        "         name1=fixed('x'),\n",
        "         mean2=widgets.FloatSlider(4, min=0., max=10.),\n",
        "         var2=widgets.FloatSlider(1.5, min=0.2, max=3.),\n",
        "         name2=fixed('y'))"
      ],
      "execution_count": 8,
      "outputs": [
        {
          "output_type": "display_data",
          "data": {
            "application/vnd.jupyter.widget-view+json": {
              "model_id": "58998509cbe144cba7157b40d3b81e36",
              "version_minor": 0,
              "version_major": 2
            },
            "text/plain": [
              "interactive(children=(FloatSlider(value=2.0, description='mean1', max=10.0), FloatSlider(value=1.0, descriptio…"
            ]
          },
          "metadata": {
            "tags": []
          }
        },
        {
          "output_type": "execute_result",
          "data": {
            "text/plain": [
              "<function __main__.show_sum>"
            ]
          },
          "metadata": {
            "tags": []
          },
          "execution_count": 8
        }
      ]
    },
    {
      "cell_type": "code",
      "metadata": {
        "id": "zL_H712p3wut",
        "colab_type": "code",
        "colab": {
          "base_uri": "https://localhost:8080/",
          "height": 265
        },
        "outputId": "6fb798f6-dfce-4fd8-cd0b-9b38d12b297d"
      },
      "source": [
        "show_product(2, 1, 'x', 4, 1.5, 'y')"
      ],
      "execution_count": 9,
      "outputs": [
        {
          "output_type": "display_data",
          "data": {
            "image/png": "[encoded data removed]",
            "text/plain": [
              "<Figure size 432x288 with 1 Axes>"
            ]
          },
          "metadata": {
            "tags": [],
            "needs_background": "light"
          }
        }
      ]
    },
    {
      "cell_type": "code",
      "metadata": {
        "id": "M-u_X3Jq40na",
        "colab_type": "code",
        "colab": {
          "base_uri": "https://localhost:8080/",
          "height": 410,
          "referenced_widgets": [
            "1efe70b07ddc4f2b8bc948713123ad45",
            "9f60faaac04a4668a59078d91ac860b4",
            "c6f978b8ab8b4b8895e379e37898a767",
            "4054b156a81f4cda8314f00eb204afca",
            "01f6f7ca71f347be93a77690f29c0840",
            "5876c31c16724b5a9d185f50452e252b",
            "b2afdb1edf5d4c9e8727b5e0c0b16c44",
            "c244f38bfd7545bb958518b59c435201",
            "654cef80d01e48718ef34d269f900a06",
            "30c533792cd546419cf17493c006ffe9",
            "23fedc66fcfc4c8b8399f93e7f783ab4",
            "bf06afa80b664418bfd3d512c7017d73",
            "de8109e3d5ac49d9a26b5887851e35e6",
            "be889340a0c94bd3ae4edcc8a7c93152",
            "5912ac6aa66148cf8db5208c398194ff",
            "2a62d5361a1b4677a1d81ca23f6dfaa1"
          ]
        },
        "outputId": "ccab27d3-b9c7-4d86-d901-d72d62a6b09c"
      },
      "source": [
        "interact(show_product,\n",
        "         mean1=widgets.FloatSlider(2, min=0., max=10.),\n",
        "         var1=widgets.FloatSlider(1, min=0.2, max=3.),\n",
        "         name1=fixed('x'),\n",
        "         mean2=widgets.FloatSlider(4, min=0, max=10.),\n",
        "         var2=widgets.FloatSlider(1.5, min=0.2, max=3.),\n",
        "         name2=fixed('y'))"
      ],
      "execution_count": 10,
      "outputs": [
        {
          "output_type": "display_data",
          "data": {
            "application/vnd.jupyter.widget-view+json": {
              "model_id": "1efe70b07ddc4f2b8bc948713123ad45",
              "version_minor": 0,
              "version_major": 2
            },
            "text/plain": [
              "interactive(children=(FloatSlider(value=2.0, description='mean1', max=10.0), FloatSlider(value=1.0, descriptio…"
            ]
          },
          "metadata": {
            "tags": []
          }
        },
        {
          "output_type": "execute_result",
          "data": {
            "text/plain": [
              "<function __main__.show_product>"
            ]
          },
          "metadata": {
            "tags": []
          },
          "execution_count": 10
        }
      ]
    },
    {
      "cell_type": "code",
      "metadata": {
        "id": "KSsOii615BjS",
        "colab_type": "code",
        "colab": {}
      },
      "source": [
        "velocity = 2\n",
        "dt = 1\n",
        "\n",
        "# process variance is in the predicted movement\n",
        "# sensor variance is in the measurement\n",
        "\n",
        "def filter_scenario(process_var, sensor_var, x0):\n",
        "  process_model = Gaussian(velocity*dt, process_var, 'process model')\n",
        "\n",
        "  actuals, z_measurements = data_and_noise(x0=x0, v=velocity, var=sensor_var)\n",
        "  x_state = Gaussian(0, 100, 'prior')   # weak prior\n",
        "\n",
        "  x_values = []\n",
        "  for z in z_measurements:\n",
        "    x_predicted = x_state.add(process_model, 'predicted')\n",
        "    measurement_distribution = Gaussian(z, sensor_var, 'measurement')\n",
        "    x_state = x_predicted.multiply(measurement_distribution, 'new state')\n",
        "    x_values.append(x_state.mean)\n",
        "\n",
        "  show_filter_value(actuals, z_measurements, x_values)"
      ],
      "execution_count": 27,
      "outputs": []
    },
    {
      "cell_type": "code",
      "metadata": {
        "id": "_moJ1K2bdSjm",
        "colab_type": "code",
        "colab": {
          "base_uri": "https://localhost:8080/",
          "height": 642,
          "referenced_widgets": [
            "1a6fcd859700419d9debfb14fb86a862",
            "6fa2af13a278497fb6045312f82cfe2d",
            "a3ab77847e58448fb616457037cf6b6e",
            "1ff16bd0acba4c61b3710273959a2cef",
            "96e36c5fde604e178e6ea5aabf9d75de",
            "9e8d10c6a510482b970514bbf82e242e",
            "765792338b454f0aaacd9c06cadd34bf",
            "f77b2270ff6e44d589c714a0b6854b11",
            "7128e72bcf3b4489bae25aac8c408361",
            "5f835f854e8c4040a232b095b66e8b4d",
            "a044ca14f02a49d48509676d220a339b",
            "15c417f18751407a9c53fd5ea4efb61e",
            "19e28b0f530f46caa879c67debe009c2"
          ]
        },
        "outputId": "05339dfb-e624-4624-94bf-dec121803c8e"
      },
      "source": [
        "interact(filter_scenario, \n",
        "         process_var=widgets.FloatSlider(1, min=0.2, max=10.),\n",
        "         sensor_var=widgets.FloatSlider(3, min=0.2, max=10),\n",
        "         x0=widgets.FloatSlider(0, min=0, max=100))"
      ],
      "execution_count": 28,
      "outputs": [
        {
          "output_type": "display_data",
          "data": {
            "application/vnd.jupyter.widget-view+json": {
              "model_id": "1a6fcd859700419d9debfb14fb86a862",
              "version_minor": 0,
              "version_major": 2
            },
            "text/plain": [
              "interactive(children=(FloatSlider(value=1.0, description='process_var', max=10.0, min=0.2), FloatSlider(value=…"
            ]
          },
          "metadata": {
            "tags": []
          }
        },
        {
          "output_type": "execute_result",
          "data": {
            "text/plain": [
              "<function __main__.filter_scenario>"
            ]
          },
          "metadata": {
            "tags": []
          },
          "execution_count": 28
        }
      ]
    },
    {
      "cell_type": "code",
      "metadata": {
        "id": "zxFu_jBskdGb",
        "colab_type": "code",
        "colab": {}
      },
      "source": [
        ""
      ],
      "execution_count": 13,
      "outputs": []
    }
  ]
}