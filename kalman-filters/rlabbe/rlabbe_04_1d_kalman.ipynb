{
  "nbformat": 4,
  "nbformat_minor": 0,
  "metadata": {
    "colab": {
      "name": "rlabbe_04_1d_kalman.ipynb",
      "provenance": [],
      "authorship_tag": "ABX9TyP0817dLEX0msFabV/lQXit",
      "include_colab_link": true
    },
    "kernelspec": {
      "name": "python3",
      "display_name": "Python 3"
    },
    "widgets": {
      "application/vnd.jupyter.widget-state+json": {
        "a0be5666edf6461b8f9ac1783e5806d1": {
          "model_module": "@jupyter-widgets/controls",
          "model_name": "VBoxModel",
          "state": {
            "_view_name": "VBoxView",
            "_dom_classes": [
              "widget-interact"
            ],
            "_model_name": "VBoxModel",
            "_view_module": "@jupyter-widgets/controls",
            "_model_module_version": "1.5.0",
            "_view_count": null,
            "_view_module_version": "1.5.0",
            "box_style": "",
            "layout": "IPY_MODEL_56f1707961f44e848e15a1551863f846",
            "_model_module": "@jupyter-widgets/controls",
            "children": [
              "IPY_MODEL_3cd7d2a62f6a4929aa2d8933f5c3ed9b",
              "IPY_MODEL_95ffdd38f0064535a7b663e79f8c440f",
              "IPY_MODEL_cf79af22d1d84d49826d63070316a843",
              "IPY_MODEL_3ae86b80f6814539ad8af83bb684a015",
              "IPY_MODEL_040cd7f3da984c8cb18fa3d787e1e65c"
            ]
          }
        },
        "56f1707961f44e848e15a1551863f846": {
          "model_module": "@jupyter-widgets/base",
          "model_name": "LayoutModel",
          "state": {
            "_view_name": "LayoutView",
            "grid_template_rows": null,
            "right": null,
            "justify_content": null,
            "_view_module": "@jupyter-widgets/base",
            "overflow": null,
            "_model_module_version": "1.2.0",
            "_view_count": null,
            "flex_flow": null,
            "width": null,
            "min_width": null,
            "border": null,
            "align_items": null,
            "bottom": null,
            "_model_module": "@jupyter-widgets/base",
            "top": null,
            "grid_column": null,
            "overflow_y": null,
            "overflow_x": null,
            "grid_auto_flow": null,
            "grid_area": null,
            "grid_template_columns": null,
            "flex": null,
            "_model_name": "LayoutModel",
            "justify_items": null,
            "grid_row": null,
            "max_height": null,
            "align_content": null,
            "visibility": null,
            "align_self": null,
            "height": null,
            "min_height": null,
            "padding": null,
            "grid_auto_rows": null,
            "grid_gap": null,
            "max_width": null,
            "order": null,
            "_view_module_version": "1.2.0",
            "grid_template_areas": null,
            "object_position": null,
            "object_fit": null,
            "grid_auto_columns": null,
            "margin": null,
            "display": null,
            "left": null
          }
        },
        "3cd7d2a62f6a4929aa2d8933f5c3ed9b": {
          "model_module": "@jupyter-widgets/controls",
          "model_name": "FloatSliderModel",
          "state": {
            "_view_name": "FloatSliderView",
            "style": "IPY_MODEL_d01f6c12631b44a5aaa4ea6ac9724365",
            "_dom_classes": [],
            "description": "mean1",
            "step": 0.1,
            "_model_name": "FloatSliderModel",
            "orientation": "horizontal",
            "max": 10,
            "_view_module": "@jupyter-widgets/controls",
            "_model_module_version": "1.5.0",
            "value": 5,
            "_view_count": null,
            "disabled": false,
            "_view_module_version": "1.5.0",
            "min": 0,
            "continuous_update": true,
            "readout_format": ".2f",
            "description_tooltip": null,
            "readout": true,
            "_model_module": "@jupyter-widgets/controls",
            "layout": "IPY_MODEL_51b155fa0bfc438f9dcdb5ebcf1230f4"
          }
        },
        "95ffdd38f0064535a7b663e79f8c440f": {
          "model_module": "@jupyter-widgets/controls",
          "model_name": "FloatSliderModel",
          "state": {
            "_view_name": "FloatSliderView",
            "style": "IPY_MODEL_f8fbcf8ff5fc478188b333ec01570bc5",
            "_dom_classes": [],
            "description": "var1",
            "step": 0.1,
            "_model_name": "FloatSliderModel",
            "orientation": "horizontal",
            "max": 3,
            "_view_module": "@jupyter-widgets/controls",
            "_model_module_version": "1.5.0",
            "value": 0.3,
            "_view_count": null,
            "disabled": false,
            "_view_module_version": "1.5.0",
            "min": 0.2,
            "continuous_update": true,
            "readout_format": ".2f",
            "description_tooltip": null,
            "readout": true,
            "_model_module": "@jupyter-widgets/controls",
            "layout": "IPY_MODEL_9cb99f92821445f3a0871c402e769550"
          }
        },
        "cf79af22d1d84d49826d63070316a843": {
          "model_module": "@jupyter-widgets/controls",
          "model_name": "FloatSliderModel",
          "state": {
            "_view_name": "FloatSliderView",
            "style": "IPY_MODEL_5908b94e8bf44946b56f7d1fdc6afb72",
            "_dom_classes": [],
            "description": "mean2",
            "step": 0.1,
            "_model_name": "FloatSliderModel",
            "orientation": "horizontal",
            "max": 10,
            "_view_module": "@jupyter-widgets/controls",
            "_model_module_version": "1.5.0",
            "value": 9,
            "_view_count": null,
            "disabled": false,
            "_view_module_version": "1.5.0",
            "min": 0,
            "continuous_update": true,
            "readout_format": ".2f",
            "description_tooltip": null,
            "readout": true,
            "_model_module": "@jupyter-widgets/controls",
            "layout": "IPY_MODEL_efbf348f98f94ee9b83827f3c40b5cdc"
          }
        },
        "3ae86b80f6814539ad8af83bb684a015": {
          "model_module": "@jupyter-widgets/controls",
          "model_name": "FloatSliderModel",
          "state": {
            "_view_name": "FloatSliderView",
            "style": "IPY_MODEL_471a0cee34c74d1b93abb577339749da",
            "_dom_classes": [],
            "description": "var2",
            "step": 0.1,
            "_model_name": "FloatSliderModel",
            "orientation": "horizontal",
            "max": 3,
            "_view_module": "@jupyter-widgets/controls",
            "_model_module_version": "1.5.0",
            "value": 0.3,
            "_view_count": null,
            "disabled": false,
            "_view_module_version": "1.5.0",
            "min": 0.2,
            "continuous_update": true,
            "readout_format": ".2f",
            "description_tooltip": null,
            "readout": true,
            "_model_module": "@jupyter-widgets/controls",
            "layout": "IPY_MODEL_9192899a50184e1c9ff109e8d3c2b01e"
          }
        },
        "040cd7f3da984c8cb18fa3d787e1e65c": {
          "model_module": "@jupyter-widgets/output",
          "model_name": "OutputModel",
          "state": {
            "_view_name": "OutputView",
            "msg_id": "",
            "_dom_classes": [],
            "_model_name": "OutputModel",
            "outputs": [
              {
                "output_type": "display_data",
                "metadata": {
                  "tags": [],
                  "needs_background": "light"
                },
                "image/png": "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\n",
                "text/plain": "<Figure size 432x288 with 1 Axes>"
              }
            ],
            "_view_module": "@jupyter-widgets/output",
            "_model_module_version": "1.0.0",
            "_view_count": null,
            "_view_module_version": "1.0.0",
            "layout": "IPY_MODEL_af34b74d1db44740a9698f94ac7db307",
            "_model_module": "@jupyter-widgets/output"
          }
        },
        "d01f6c12631b44a5aaa4ea6ac9724365": {
          "model_module": "@jupyter-widgets/controls",
          "model_name": "SliderStyleModel",
          "state": {
            "_view_name": "StyleView",
            "handle_color": null,
            "_model_name": "SliderStyleModel",
            "description_width": "",
            "_view_module": "@jupyter-widgets/base",
            "_model_module_version": "1.5.0",
            "_view_count": null,
            "_view_module_version": "1.2.0",
            "_model_module": "@jupyter-widgets/controls"
          }
        },
        "51b155fa0bfc438f9dcdb5ebcf1230f4": {
          "model_module": "@jupyter-widgets/base",
          "model_name": "LayoutModel",
          "state": {
            "_view_name": "LayoutView",
            "grid_template_rows": null,
            "right": null,
            "justify_content": null,
            "_view_module": "@jupyter-widgets/base",
            "overflow": null,
            "_model_module_version": "1.2.0",
            "_view_count": null,
            "flex_flow": null,
            "width": null,
            "min_width": null,
            "border": null,
            "align_items": null,
            "bottom": null,
            "_model_module": "@jupyter-widgets/base",
            "top": null,
            "grid_column": null,
            "overflow_y": null,
            "overflow_x": null,
            "grid_auto_flow": null,
            "grid_area": null,
            "grid_template_columns": null,
            "flex": null,
            "_model_name": "LayoutModel",
            "justify_items": null,
            "grid_row": null,
            "max_height": null,
            "align_content": null,
            "visibility": null,
            "align_self": null,
            "height": null,
            "min_height": null,
            "padding": null,
            "grid_auto_rows": null,
            "grid_gap": null,
            "max_width": null,
            "order": null,
            "_view_module_version": "1.2.0",
            "grid_template_areas": null,
            "object_position": null,
            "object_fit": null,
            "grid_auto_columns": null,
            "margin": null,
            "display": null,
            "left": null
          }
        },
        "f8fbcf8ff5fc478188b333ec01570bc5": {
          "model_module": "@jupyter-widgets/controls",
          "model_name": "SliderStyleModel",
          "state": {
            "_view_name": "StyleView",
            "handle_color": null,
            "_model_name": "SliderStyleModel",
            "description_width": "",
            "_view_module": "@jupyter-widgets/base",
            "_model_module_version": "1.5.0",
            "_view_count": null,
            "_view_module_version": "1.2.0",
            "_model_module": "@jupyter-widgets/controls"
          }
        },
        "9cb99f92821445f3a0871c402e769550": {
          "model_module": "@jupyter-widgets/base",
          "model_name": "LayoutModel",
          "state": {
            "_view_name": "LayoutView",
            "grid_template_rows": null,
            "right": null,
            "justify_content": null,
            "_view_module": "@jupyter-widgets/base",
            "overflow": null,
            "_model_module_version": "1.2.0",
            "_view_count": null,
            "flex_flow": null,
            "width": null,
            "min_width": null,
            "border": null,
            "align_items": null,
            "bottom": null,
            "_model_module": "@jupyter-widgets/base",
            "top": null,
            "grid_column": null,
            "overflow_y": null,
            "overflow_x": null,
            "grid_auto_flow": null,
            "grid_area": null,
            "grid_template_columns": null,
            "flex": null,
            "_model_name": "LayoutModel",
            "justify_items": null,
            "grid_row": null,
            "max_height": null,
            "align_content": null,
            "visibility": null,
            "align_self": null,
            "height": null,
            "min_height": null,
            "padding": null,
            "grid_auto_rows": null,
            "grid_gap": null,
            "max_width": null,
            "order": null,
            "_view_module_version": "1.2.0",
            "grid_template_areas": null,
            "object_position": null,
            "object_fit": null,
            "grid_auto_columns": null,
            "margin": null,
            "display": null,
            "left": null
          }
        },
        "5908b94e8bf44946b56f7d1fdc6afb72": {
          "model_module": "@jupyter-widgets/controls",
          "model_name": "SliderStyleModel",
          "state": {
            "_view_name": "StyleView",
            "handle_color": null,
            "_model_name": "SliderStyleModel",
            "description_width": "",
            "_view_module": "@jupyter-widgets/base",
            "_model_module_version": "1.5.0",
            "_view_count": null,
            "_view_module_version": "1.2.0",
            "_model_module": "@jupyter-widgets/controls"
          }
        },
        "efbf348f98f94ee9b83827f3c40b5cdc": {
          "model_module": "@jupyter-widgets/base",
          "model_name": "LayoutModel",
          "state": {
            "_view_name": "LayoutView",
            "grid_template_rows": null,
            "right": null,
            "justify_content": null,
            "_view_module": "@jupyter-widgets/base",
            "overflow": null,
            "_model_module_version": "1.2.0",
            "_view_count": null,
            "flex_flow": null,
            "width": null,
            "min_width": null,
            "border": null,
            "align_items": null,
            "bottom": null,
            "_model_module": "@jupyter-widgets/base",
            "top": null,
            "grid_column": null,
            "overflow_y": null,
            "overflow_x": null,
            "grid_auto_flow": null,
            "grid_area": null,
            "grid_template_columns": null,
            "flex": null,
            "_model_name": "LayoutModel",
            "justify_items": null,
            "grid_row": null,
            "max_height": null,
            "align_content": null,
            "visibility": null,
            "align_self": null,
            "height": null,
            "min_height": null,
            "padding": null,
            "grid_auto_rows": null,
            "grid_gap": null,
            "max_width": null,
            "order": null,
            "_view_module_version": "1.2.0",
            "grid_template_areas": null,
            "object_position": null,
            "object_fit": null,
            "grid_auto_columns": null,
            "margin": null,
            "display": null,
            "left": null
          }
        },
        "471a0cee34c74d1b93abb577339749da": {
          "model_module": "@jupyter-widgets/controls",
          "model_name": "SliderStyleModel",
          "state": {
            "_view_name": "StyleView",
            "handle_color": null,
            "_model_name": "SliderStyleModel",
            "description_width": "",
            "_view_module": "@jupyter-widgets/base",
            "_model_module_version": "1.5.0",
            "_view_count": null,
            "_view_module_version": "1.2.0",
            "_model_module": "@jupyter-widgets/controls"
          }
        },
        "9192899a50184e1c9ff109e8d3c2b01e": {
          "model_module": "@jupyter-widgets/base",
          "model_name": "LayoutModel",
          "state": {
            "_view_name": "LayoutView",
            "grid_template_rows": null,
            "right": null,
            "justify_content": null,
            "_view_module": "@jupyter-widgets/base",
            "overflow": null,
            "_model_module_version": "1.2.0",
            "_view_count": null,
            "flex_flow": null,
            "width": null,
            "min_width": null,
            "border": null,
            "align_items": null,
            "bottom": null,
            "_model_module": "@jupyter-widgets/base",
            "top": null,
            "grid_column": null,
            "overflow_y": null,
            "overflow_x": null,
            "grid_auto_flow": null,
            "grid_area": null,
            "grid_template_columns": null,
            "flex": null,
            "_model_name": "LayoutModel",
            "justify_items": null,
            "grid_row": null,
            "max_height": null,
            "align_content": null,
            "visibility": null,
            "align_self": null,
            "height": null,
            "min_height": null,
            "padding": null,
            "grid_auto_rows": null,
            "grid_gap": null,
            "max_width": null,
            "order": null,
            "_view_module_version": "1.2.0",
            "grid_template_areas": null,
            "object_position": null,
            "object_fit": null,
            "grid_auto_columns": null,
            "margin": null,
            "display": null,
            "left": null
          }
        },
        "af34b74d1db44740a9698f94ac7db307": {
          "model_module": "@jupyter-widgets/base",
          "model_name": "LayoutModel",
          "state": {
            "_view_name": "LayoutView",
            "grid_template_rows": null,
            "right": null,
            "justify_content": null,
            "_view_module": "@jupyter-widgets/base",
            "overflow": null,
            "_model_module_version": "1.2.0",
            "_view_count": null,
            "flex_flow": null,
            "width": null,
            "min_width": null,
            "border": null,
            "align_items": null,
            "bottom": null,
            "_model_module": "@jupyter-widgets/base",
            "top": null,
            "grid_column": null,
            "overflow_y": null,
            "overflow_x": null,
            "grid_auto_flow": null,
            "grid_area": null,
            "grid_template_columns": null,
            "flex": null,
            "_model_name": "LayoutModel",
            "justify_items": null,
            "grid_row": null,
            "max_height": null,
            "align_content": null,
            "visibility": null,
            "align_self": null,
            "height": null,
            "min_height": null,
            "padding": null,
            "grid_auto_rows": null,
            "grid_gap": null,
            "max_width": null,
            "order": null,
            "_view_module_version": "1.2.0",
            "grid_template_areas": null,
            "object_position": null,
            "object_fit": null,
            "grid_auto_columns": null,
            "margin": null,
            "display": null,
            "left": null
          }
        },
        "8143ffb7e8b04478b50a88add96c6a0d": {
          "model_module": "@jupyter-widgets/controls",
          "model_name": "VBoxModel",
          "state": {
            "_view_name": "VBoxView",
            "_dom_classes": [
              "widget-interact"
            ],
            "_model_name": "VBoxModel",
            "_view_module": "@jupyter-widgets/controls",
            "_model_module_version": "1.5.0",
            "_view_count": null,
            "_view_module_version": "1.5.0",
            "box_style": "",
            "layout": "IPY_MODEL_7bafd5e91cb84dd5a5b3ca6c883b8aeb",
            "_model_module": "@jupyter-widgets/controls",
            "children": [
              "IPY_MODEL_9a9d74501fe440678425eb473af41869",
              "IPY_MODEL_653a64e993c14d22b95dd5144bc29396",
              "IPY_MODEL_46c6a8b1aea241fcace22d394ecc9924",
              "IPY_MODEL_347dceb8434e4b8aa188ddf81e9e12b6",
              "IPY_MODEL_aa6a928ab419454c96debc0eb6fb8f0f"
            ]
          }
        },
        "7bafd5e91cb84dd5a5b3ca6c883b8aeb": {
          "model_module": "@jupyter-widgets/base",
          "model_name": "LayoutModel",
          "state": {
            "_view_name": "LayoutView",
            "grid_template_rows": null,
            "right": null,
            "justify_content": null,
            "_view_module": "@jupyter-widgets/base",
            "overflow": null,
            "_model_module_version": "1.2.0",
            "_view_count": null,
            "flex_flow": null,
            "width": null,
            "min_width": null,
            "border": null,
            "align_items": null,
            "bottom": null,
            "_model_module": "@jupyter-widgets/base",
            "top": null,
            "grid_column": null,
            "overflow_y": null,
            "overflow_x": null,
            "grid_auto_flow": null,
            "grid_area": null,
            "grid_template_columns": null,
            "flex": null,
            "_model_name": "LayoutModel",
            "justify_items": null,
            "grid_row": null,
            "max_height": null,
            "align_content": null,
            "visibility": null,
            "align_self": null,
            "height": null,
            "min_height": null,
            "padding": null,
            "grid_auto_rows": null,
            "grid_gap": null,
            "max_width": null,
            "order": null,
            "_view_module_version": "1.2.0",
            "grid_template_areas": null,
            "object_position": null,
            "object_fit": null,
            "grid_auto_columns": null,
            "margin": null,
            "display": null,
            "left": null
          }
        },
        "9a9d74501fe440678425eb473af41869": {
          "model_module": "@jupyter-widgets/controls",
          "model_name": "FloatSliderModel",
          "state": {
            "_view_name": "FloatSliderView",
            "style": "IPY_MODEL_0a844eb5b6b346d0a161c6e2d7919336",
            "_dom_classes": [],
            "description": "mean1",
            "step": 0.1,
            "_model_name": "FloatSliderModel",
            "orientation": "horizontal",
            "max": 10,
            "_view_module": "@jupyter-widgets/controls",
            "_model_module_version": "1.5.0",
            "value": 2,
            "_view_count": null,
            "disabled": false,
            "_view_module_version": "1.5.0",
            "min": 0,
            "continuous_update": true,
            "readout_format": ".2f",
            "description_tooltip": null,
            "readout": true,
            "_model_module": "@jupyter-widgets/controls",
            "layout": "IPY_MODEL_3623723cb2c04cfda14ca5cd2fdbc6c2"
          }
        },
        "653a64e993c14d22b95dd5144bc29396": {
          "model_module": "@jupyter-widgets/controls",
          "model_name": "FloatSliderModel",
          "state": {
            "_view_name": "FloatSliderView",
            "style": "IPY_MODEL_e297db86c9ea4dcf82602b8ddfd1203a",
            "_dom_classes": [],
            "description": "var1",
            "step": 0.1,
            "_model_name": "FloatSliderModel",
            "orientation": "horizontal",
            "max": 3,
            "_view_module": "@jupyter-widgets/controls",
            "_model_module_version": "1.5.0",
            "value": 1,
            "_view_count": null,
            "disabled": false,
            "_view_module_version": "1.5.0",
            "min": 0.2,
            "continuous_update": true,
            "readout_format": ".2f",
            "description_tooltip": null,
            "readout": true,
            "_model_module": "@jupyter-widgets/controls",
            "layout": "IPY_MODEL_a6e674b50eb449f5ab97bbd8bfd282f4"
          }
        },
        "46c6a8b1aea241fcace22d394ecc9924": {
          "model_module": "@jupyter-widgets/controls",
          "model_name": "FloatSliderModel",
          "state": {
            "_view_name": "FloatSliderView",
            "style": "IPY_MODEL_a1edf2b3a3714c1a996a463a44b4e36b",
            "_dom_classes": [],
            "description": "mean2",
            "step": 0.1,
            "_model_name": "FloatSliderModel",
            "orientation": "horizontal",
            "max": 10,
            "_view_module": "@jupyter-widgets/controls",
            "_model_module_version": "1.5.0",
            "value": 4,
            "_view_count": null,
            "disabled": false,
            "_view_module_version": "1.5.0",
            "min": 0,
            "continuous_update": true,
            "readout_format": ".2f",
            "description_tooltip": null,
            "readout": true,
            "_model_module": "@jupyter-widgets/controls",
            "layout": "IPY_MODEL_5e711f5d65e843f38222549aac388a9b"
          }
        },
        "347dceb8434e4b8aa188ddf81e9e12b6": {
          "model_module": "@jupyter-widgets/controls",
          "model_name": "FloatSliderModel",
          "state": {
            "_view_name": "FloatSliderView",
            "style": "IPY_MODEL_4f27937fb579420abd351228c4caf29d",
            "_dom_classes": [],
            "description": "var2",
            "step": 0.1,
            "_model_name": "FloatSliderModel",
            "orientation": "horizontal",
            "max": 3,
            "_view_module": "@jupyter-widgets/controls",
            "_model_module_version": "1.5.0",
            "value": 1.5,
            "_view_count": null,
            "disabled": false,
            "_view_module_version": "1.5.0",
            "min": 0.2,
            "continuous_update": true,
            "readout_format": ".2f",
            "description_tooltip": null,
            "readout": true,
            "_model_module": "@jupyter-widgets/controls",
            "layout": "IPY_MODEL_aa9b133318ce4c32b77b311a3154f66a"
          }
        },
        "aa6a928ab419454c96debc0eb6fb8f0f": {
          "model_module": "@jupyter-widgets/output",
          "model_name": "OutputModel",
          "state": {
            "_view_name": "OutputView",
            "msg_id": "",
            "_dom_classes": [],
            "_model_name": "OutputModel",
            "outputs": [
              {
                "output_type": "display_data",
                "metadata": {
                  "tags": [],
                  "needs_background": "light"
                },
                "image/png": "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\n",
                "text/plain": "<Figure size 432x288 with 1 Axes>"
              }
            ],
            "_view_module": "@jupyter-widgets/output",
            "_model_module_version": "1.0.0",
            "_view_count": null,
            "_view_module_version": "1.0.0",
            "layout": "IPY_MODEL_b42a3acfdcbf435582cbf5aacd38f112",
            "_model_module": "@jupyter-widgets/output"
          }
        },
        "0a844eb5b6b346d0a161c6e2d7919336": {
          "model_module": "@jupyter-widgets/controls",
          "model_name": "SliderStyleModel",
          "state": {
            "_view_name": "StyleView",
            "handle_color": null,
            "_model_name": "SliderStyleModel",
            "description_width": "",
            "_view_module": "@jupyter-widgets/base",
            "_model_module_version": "1.5.0",
            "_view_count": null,
            "_view_module_version": "1.2.0",
            "_model_module": "@jupyter-widgets/controls"
          }
        },
        "3623723cb2c04cfda14ca5cd2fdbc6c2": {
          "model_module": "@jupyter-widgets/base",
          "model_name": "LayoutModel",
          "state": {
            "_view_name": "LayoutView",
            "grid_template_rows": null,
            "right": null,
            "justify_content": null,
            "_view_module": "@jupyter-widgets/base",
            "overflow": null,
            "_model_module_version": "1.2.0",
            "_view_count": null,
            "flex_flow": null,
            "width": null,
            "min_width": null,
            "border": null,
            "align_items": null,
            "bottom": null,
            "_model_module": "@jupyter-widgets/base",
            "top": null,
            "grid_column": null,
            "overflow_y": null,
            "overflow_x": null,
            "grid_auto_flow": null,
            "grid_area": null,
            "grid_template_columns": null,
            "flex": null,
            "_model_name": "LayoutModel",
            "justify_items": null,
            "grid_row": null,
            "max_height": null,
            "align_content": null,
            "visibility": null,
            "align_self": null,
            "height": null,
            "min_height": null,
            "padding": null,
            "grid_auto_rows": null,
            "grid_gap": null,
            "max_width": null,
            "order": null,
            "_view_module_version": "1.2.0",
            "grid_template_areas": null,
            "object_position": null,
            "object_fit": null,
            "grid_auto_columns": null,
            "margin": null,
            "display": null,
            "left": null
          }
        },
        "e297db86c9ea4dcf82602b8ddfd1203a": {
          "model_module": "@jupyter-widgets/controls",
          "model_name": "SliderStyleModel",
          "state": {
            "_view_name": "StyleView",
            "handle_color": null,
            "_model_name": "SliderStyleModel",
            "description_width": "",
            "_view_module": "@jupyter-widgets/base",
            "_model_module_version": "1.5.0",
            "_view_count": null,
            "_view_module_version": "1.2.0",
            "_model_module": "@jupyter-widgets/controls"
          }
        },
        "a6e674b50eb449f5ab97bbd8bfd282f4": {
          "model_module": "@jupyter-widgets/base",
          "model_name": "LayoutModel",
          "state": {
            "_view_name": "LayoutView",
            "grid_template_rows": null,
            "right": null,
            "justify_content": null,
            "_view_module": "@jupyter-widgets/base",
            "overflow": null,
            "_model_module_version": "1.2.0",
            "_view_count": null,
            "flex_flow": null,
            "width": null,
            "min_width": null,
            "border": null,
            "align_items": null,
            "bottom": null,
            "_model_module": "@jupyter-widgets/base",
            "top": null,
            "grid_column": null,
            "overflow_y": null,
            "overflow_x": null,
            "grid_auto_flow": null,
            "grid_area": null,
            "grid_template_columns": null,
            "flex": null,
            "_model_name": "LayoutModel",
            "justify_items": null,
            "grid_row": null,
            "max_height": null,
            "align_content": null,
            "visibility": null,
            "align_self": null,
            "height": null,
            "min_height": null,
            "padding": null,
            "grid_auto_rows": null,
            "grid_gap": null,
            "max_width": null,
            "order": null,
            "_view_module_version": "1.2.0",
            "grid_template_areas": null,
            "object_position": null,
            "object_fit": null,
            "grid_auto_columns": null,
            "margin": null,
            "display": null,
            "left": null
          }
        },
        "a1edf2b3a3714c1a996a463a44b4e36b": {
          "model_module": "@jupyter-widgets/controls",
          "model_name": "SliderStyleModel",
          "state": {
            "_view_name": "StyleView",
            "handle_color": null,
            "_model_name": "SliderStyleModel",
            "description_width": "",
            "_view_module": "@jupyter-widgets/base",
            "_model_module_version": "1.5.0",
            "_view_count": null,
            "_view_module_version": "1.2.0",
            "_model_module": "@jupyter-widgets/controls"
          }
        },
        "5e711f5d65e843f38222549aac388a9b": {
          "model_module": "@jupyter-widgets/base",
          "model_name": "LayoutModel",
          "state": {
            "_view_name": "LayoutView",
            "grid_template_rows": null,
            "right": null,
            "justify_content": null,
            "_view_module": "@jupyter-widgets/base",
            "overflow": null,
            "_model_module_version": "1.2.0",
            "_view_count": null,
            "flex_flow": null,
            "width": null,
            "min_width": null,
            "border": null,
            "align_items": null,
            "bottom": null,
            "_model_module": "@jupyter-widgets/base",
            "top": null,
            "grid_column": null,
            "overflow_y": null,
            "overflow_x": null,
            "grid_auto_flow": null,
            "grid_area": null,
            "grid_template_columns": null,
            "flex": null,
            "_model_name": "LayoutModel",
            "justify_items": null,
            "grid_row": null,
            "max_height": null,
            "align_content": null,
            "visibility": null,
            "align_self": null,
            "height": null,
            "min_height": null,
            "padding": null,
            "grid_auto_rows": null,
            "grid_gap": null,
            "max_width": null,
            "order": null,
            "_view_module_version": "1.2.0",
            "grid_template_areas": null,
            "object_position": null,
            "object_fit": null,
            "grid_auto_columns": null,
            "margin": null,
            "display": null,
            "left": null
          }
        },
        "4f27937fb579420abd351228c4caf29d": {
          "model_module": "@jupyter-widgets/controls",
          "model_name": "SliderStyleModel",
          "state": {
            "_view_name": "StyleView",
            "handle_color": null,
            "_model_name": "SliderStyleModel",
            "description_width": "",
            "_view_module": "@jupyter-widgets/base",
            "_model_module_version": "1.5.0",
            "_view_count": null,
            "_view_module_version": "1.2.0",
            "_model_module": "@jupyter-widgets/controls"
          }
        },
        "aa9b133318ce4c32b77b311a3154f66a": {
          "model_module": "@jupyter-widgets/base",
          "model_name": "LayoutModel",
          "state": {
            "_view_name": "LayoutView",
            "grid_template_rows": null,
            "right": null,
            "justify_content": null,
            "_view_module": "@jupyter-widgets/base",
            "overflow": null,
            "_model_module_version": "1.2.0",
            "_view_count": null,
            "flex_flow": null,
            "width": null,
            "min_width": null,
            "border": null,
            "align_items": null,
            "bottom": null,
            "_model_module": "@jupyter-widgets/base",
            "top": null,
            "grid_column": null,
            "overflow_y": null,
            "overflow_x": null,
            "grid_auto_flow": null,
            "grid_area": null,
            "grid_template_columns": null,
            "flex": null,
            "_model_name": "LayoutModel",
            "justify_items": null,
            "grid_row": null,
            "max_height": null,
            "align_content": null,
            "visibility": null,
            "align_self": null,
            "height": null,
            "min_height": null,
            "padding": null,
            "grid_auto_rows": null,
            "grid_gap": null,
            "max_width": null,
            "order": null,
            "_view_module_version": "1.2.0",
            "grid_template_areas": null,
            "object_position": null,
            "object_fit": null,
            "grid_auto_columns": null,
            "margin": null,
            "display": null,
            "left": null
          }
        },
        "b42a3acfdcbf435582cbf5aacd38f112": {
          "model_module": "@jupyter-widgets/base",
          "model_name": "LayoutModel",
          "state": {
            "_view_name": "LayoutView",
            "grid_template_rows": null,
            "right": null,
            "justify_content": null,
            "_view_module": "@jupyter-widgets/base",
            "overflow": null,
            "_model_module_version": "1.2.0",
            "_view_count": null,
            "flex_flow": null,
            "width": null,
            "min_width": null,
            "border": null,
            "align_items": null,
            "bottom": null,
            "_model_module": "@jupyter-widgets/base",
            "top": null,
            "grid_column": null,
            "overflow_y": null,
            "overflow_x": null,
            "grid_auto_flow": null,
            "grid_area": null,
            "grid_template_columns": null,
            "flex": null,
            "_model_name": "LayoutModel",
            "justify_items": null,
            "grid_row": null,
            "max_height": null,
            "align_content": null,
            "visibility": null,
            "align_self": null,
            "height": null,
            "min_height": null,
            "padding": null,
            "grid_auto_rows": null,
            "grid_gap": null,
            "max_width": null,
            "order": null,
            "_view_module_version": "1.2.0",
            "grid_template_areas": null,
            "object_position": null,
            "object_fit": null,
            "grid_auto_columns": null,
            "margin": null,
            "display": null,
            "left": null
          }
        }
      }
    }
  },
  "cells": [
    {
      "cell_type": "markdown",
      "metadata": {
        "id": "view-in-github",
        "colab_type": "text"
      },
      "source": [
        "<a href=\"https://colab.research.google.com/github/ctarrington/data-science-hw/blob/master/kalman-filters/rlabbe/rlabbe_04_1d_kalman.ipynb\" target=\"_parent\"><img src=\"https://colab.research.google.com/assets/colab-badge.svg\" alt=\"Open In Colab\"/></a>"
      ]
    },
    {
      "cell_type": "code",
      "metadata": {
        "id": "EJae-BBlhA7k",
        "colab_type": "code",
        "colab": {}
      },
      "source": [
        "import math\n",
        "\n",
        "import numpy as np\n",
        "\n",
        "from scipy.stats import norm\n",
        "\n",
        "from matplotlib.pyplot import plot\n",
        "from matplotlib import pyplot as plt\n",
        "\n",
        "from ipywidgets import fixed, interact\n",
        "import ipywidgets as widgets"
      ],
      "execution_count": 1,
      "outputs": []
    },
    {
      "cell_type": "code",
      "metadata": {
        "id": "BcJWxYXim8xj",
        "colab_type": "code",
        "colab": {}
      },
      "source": [
        "class Gaussian:\n",
        "  def __init__(self, mean, var, name):\n",
        "    self.mean = mean\n",
        "    self.var = var\n",
        "    self.name = name\n",
        "\n",
        "    self.rv = norm(mean, var)\n",
        "\n",
        "  def add(self, other, name):\n",
        "    return Gaussian(self.mean + other.mean, self.var +other.var, name)\n",
        "\n",
        "  def multiply(self, other, name):\n",
        "    mean = (self.var * other.mean + other.var * self.mean) / (self.var + other.var)\n",
        "    variance = (self.var * other.var) / (self.var + other.var)\n",
        "    return Gaussian(mean, variance, name)\n",
        "\n",
        "  def min_plot_value(self):\n",
        "    return self.mean - 1.5 * self.var\n",
        "\n",
        "  def max_plot_value(self):\n",
        "    return self.mean + 1.5 * self.var\n",
        "\n",
        "  def print(self):\n",
        "    print('%s: Gaussian(%.2f, %.2f)' % (self.name, self.mean, self.var))\n",
        "\n",
        "  def pdf(self, xs):\n",
        "    return self.rv.pdf(xs)\n"
      ],
      "execution_count": 2,
      "outputs": []
    },
    {
      "cell_type": "code",
      "metadata": {
        "id": "enahtM63hO_B",
        "colab_type": "code",
        "colab": {}
      },
      "source": [
        "def data_and_noise(x0 = 0, v = 2, a = 0, std = 1, count = 30, seed = 123):\n",
        "  np.random.seed(seed)\n",
        "\n",
        "  xs = np.array([x0 + t * v + 0.5 * a * t ** 2 for t in range(count)])\n",
        "  noise = np.array(np.random.normal(0, std, count))\n",
        "  return (xs, xs + noise)"
      ],
      "execution_count": 3,
      "outputs": []
    },
    {
      "cell_type": "code",
      "metadata": {
        "id": "9Bm8MOjMvk2H",
        "colab_type": "code",
        "colab": {}
      },
      "source": [
        "def show_sum(mean1, var1, name1, mean2, var2, name2):\n",
        "  one = Gaussian(mean1, var1, name1)\n",
        "  two = Gaussian(mean2, var2, name2)\n",
        "\n",
        "  sum_name = '%s + %s' % (name1, name2)\n",
        "  sum = one.add(two, sum_name)\n",
        "\n",
        "  min_point = min(one.min_plot_value(), two.min_plot_value(), sum.min_plot_value(), 0)\n",
        "  max_point = max(one.max_plot_value(), two.max_plot_value(), sum.max_plot_value(), 16)\n",
        "\n",
        "  points = np.arange(min_point, max_point, 0.1)\n",
        "  plot(points, one.pdf(points), label=name1)\n",
        "  plot(points, two.pdf(points), label=name2)\n",
        "  plot(points, sum.pdf(points), label=sum_name)\n",
        "\n",
        "  plt.legend()\n",
        "  plt.show()\n"
      ],
      "execution_count": 4,
      "outputs": []
    },
    {
      "cell_type": "code",
      "metadata": {
        "id": "kOub8fAJ4S61",
        "colab_type": "code",
        "colab": {}
      },
      "source": [
        "def show_product(mean1, var1, name1, mean2, var2, name2):\n",
        "  one = Gaussian(mean1, var1, name1)\n",
        "  two = Gaussian(mean2, var2, name2)\n",
        "\n",
        "  product_name = '%s * %s' % (name1, name2)\n",
        "  product = one.multiply(two, product_name)\n",
        "\n",
        "  min_point = min(one.min_plot_value(), two.min_plot_value(), product.min_plot_value(), 0)\n",
        "  max_point = max(one.max_plot_value(), two.max_plot_value(), product.max_plot_value(), 16)\n",
        "\n",
        "  points = np.arange(min_point, max_point, 0.1)\n",
        "  plot(points, one.pdf(points), label=name1)\n",
        "  plot(points, two.pdf(points), label=name2)\n",
        "  plot(points, product.pdf(points), label=product_name)\n",
        "\n",
        "  plt.legend()\n",
        "  plt.show()"
      ],
      "execution_count": 5,
      "outputs": []
    },
    {
      "cell_type": "code",
      "metadata": {
        "id": "8S4QFlqgwt3E",
        "colab_type": "code",
        "colab": {
          "base_uri": "https://localhost:8080/",
          "height": 265
        },
        "outputId": "a72ce453-95db-459b-a6f4-91b39b67c63a"
      },
      "source": [
        "show_sum(2, 1, 'x', 4, 1.5, 'y')"
      ],
      "execution_count": 6,
      "outputs": [
        {
          "output_type": "display_data",
          "data": {
            "image/png": "[encoded data removed]",
            "text/plain": [
              "<Figure size 432x288 with 1 Axes>"
            ]
          },
          "metadata": {
            "tags": [],
            "needs_background": "light"
          }
        }
      ]
    },
    {
      "cell_type": "code",
      "metadata": {
        "id": "KPm4i70Zwz2u",
        "colab_type": "code",
        "colab": {
          "base_uri": "https://localhost:8080/",
          "height": 410,
          "referenced_widgets": [
            "a0be5666edf6461b8f9ac1783e5806d1",
            "56f1707961f44e848e15a1551863f846",
            "3cd7d2a62f6a4929aa2d8933f5c3ed9b",
            "95ffdd38f0064535a7b663e79f8c440f",
            "cf79af22d1d84d49826d63070316a843",
            "3ae86b80f6814539ad8af83bb684a015",
            "040cd7f3da984c8cb18fa3d787e1e65c",
            "d01f6c12631b44a5aaa4ea6ac9724365",
            "51b155fa0bfc438f9dcdb5ebcf1230f4",
            "f8fbcf8ff5fc478188b333ec01570bc5",
            "9cb99f92821445f3a0871c402e769550",
            "5908b94e8bf44946b56f7d1fdc6afb72",
            "efbf348f98f94ee9b83827f3c40b5cdc",
            "471a0cee34c74d1b93abb577339749da",
            "9192899a50184e1c9ff109e8d3c2b01e",
            "af34b74d1db44740a9698f94ac7db307"
          ]
        },
        "outputId": "dc6c6739-bb70-47a5-9eff-ad251a4c5dc6"
      },
      "source": [
        "interact(show_sum,\n",
        "         mean1=widgets.FloatSlider(2, min=0., max=10.),\n",
        "         var1=widgets.FloatSlider(1, min=0.2, max=3.),\n",
        "         name1=fixed('x'),\n",
        "         mean2=widgets.FloatSlider(4, min=0., max=10.),\n",
        "         var2=widgets.FloatSlider(1.5, min=0.2, max=3.),\n",
        "         name2=fixed('y'))"
      ],
      "execution_count": 7,
      "outputs": [
        {
          "output_type": "display_data",
          "data": {
            "application/vnd.jupyter.widget-view+json": {
              "model_id": "a0be5666edf6461b8f9ac1783e5806d1",
              "version_minor": 0,
              "version_major": 2
            },
            "text/plain": [
              "interactive(children=(FloatSlider(value=2.0, description='mean1', max=10.0), FloatSlider(value=1.0, descriptio…"
            ]
          },
          "metadata": {
            "tags": []
          }
        },
        {
          "output_type": "execute_result",
          "data": {
            "text/plain": [
              "<function __main__.show_sum>"
            ]
          },
          "metadata": {
            "tags": []
          },
          "execution_count": 7
        }
      ]
    },
    {
      "cell_type": "code",
      "metadata": {
        "id": "zL_H712p3wut",
        "colab_type": "code",
        "colab": {
          "base_uri": "https://localhost:8080/",
          "height": 265
        },
        "outputId": "b895edf8-a1ce-4ed5-d653-b42a553c3b19"
      },
      "source": [
        "show_product(2, 1, 'x', 4, 1.5, 'y')"
      ],
      "execution_count": 8,
      "outputs": [
        {
          "output_type": "display_data",
          "data": {
            "image/png": "[encoded data removed]",
            "text/plain": [
              "<Figure size 432x288 with 1 Axes>"
            ]
          },
          "metadata": {
            "tags": [],
            "needs_background": "light"
          }
        }
      ]
    },
    {
      "cell_type": "code",
      "metadata": {
        "id": "M-u_X3Jq40na",
        "colab_type": "code",
        "colab": {
          "base_uri": "https://localhost:8080/",
          "height": 410,
          "referenced_widgets": [
            "8143ffb7e8b04478b50a88add96c6a0d",
            "7bafd5e91cb84dd5a5b3ca6c883b8aeb",
            "9a9d74501fe440678425eb473af41869",
            "653a64e993c14d22b95dd5144bc29396",
            "46c6a8b1aea241fcace22d394ecc9924",
            "347dceb8434e4b8aa188ddf81e9e12b6",
            "aa6a928ab419454c96debc0eb6fb8f0f",
            "0a844eb5b6b346d0a161c6e2d7919336",
            "3623723cb2c04cfda14ca5cd2fdbc6c2",
            "e297db86c9ea4dcf82602b8ddfd1203a",
            "a6e674b50eb449f5ab97bbd8bfd282f4",
            "a1edf2b3a3714c1a996a463a44b4e36b",
            "5e711f5d65e843f38222549aac388a9b",
            "4f27937fb579420abd351228c4caf29d",
            "aa9b133318ce4c32b77b311a3154f66a",
            "b42a3acfdcbf435582cbf5aacd38f112"
          ]
        },
        "outputId": "55c21a62-644d-4ecd-f1b6-ddfce08a00df"
      },
      "source": [
        "interact(show_product,\n",
        "         mean1=widgets.FloatSlider(2, min=0., max=10.),\n",
        "         var1=widgets.FloatSlider(1, min=0.2, max=3.),\n",
        "         name1=fixed('x'),\n",
        "         mean2=widgets.FloatSlider(4, min=0, max=10.),\n",
        "         var2=widgets.FloatSlider(1.5, min=0.2, max=3.),\n",
        "         name2=fixed('y'))"
      ],
      "execution_count": 9,
      "outputs": [
        {
          "output_type": "display_data",
          "data": {
            "application/vnd.jupyter.widget-view+json": {
              "model_id": "8143ffb7e8b04478b50a88add96c6a0d",
              "version_minor": 0,
              "version_major": 2
            },
            "text/plain": [
              "interactive(children=(FloatSlider(value=2.0, description='mean1', max=10.0), FloatSlider(value=1.0, descriptio…"
            ]
          },
          "metadata": {
            "tags": []
          }
        },
        {
          "output_type": "execute_result",
          "data": {
            "text/plain": [
              "<function __main__.show_product>"
            ]
          },
          "metadata": {
            "tags": []
          },
          "execution_count": 9
        }
      ]
    },
    {
      "cell_type": "code",
      "metadata": {
        "id": "KSsOii615BjS",
        "colab_type": "code",
        "colab": {}
      },
      "source": [
        ""
      ],
      "execution_count": 9,
      "outputs": []
    }
  ]
}