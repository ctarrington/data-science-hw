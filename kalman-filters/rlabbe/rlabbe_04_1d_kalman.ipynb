{
  "nbformat": 4,
  "nbformat_minor": 0,
  "metadata": {
    "colab": {
      "name": "rlabbe_04_1d_kalman.ipynb",
      "provenance": [],
      "authorship_tag": "ABX9TyPdrHvp4mcc9C+kSoC6SRln",
      "include_colab_link": true
    },
    "kernelspec": {
      "name": "python3",
      "display_name": "Python 3"
    }
  },
  "cells": [
    {
      "cell_type": "markdown",
      "metadata": {
        "id": "view-in-github",
        "colab_type": "text"
      },
      "source": [
        "<a href=\"https://colab.research.google.com/github/ctarrington/data-science-hw/blob/master/kalman-filters/rlabbe/rlabbe_04_1d_kalman.ipynb\" target=\"_parent\"><img src=\"https://colab.research.google.com/assets/colab-badge.svg\" alt=\"Open In Colab\"/></a>"
      ]
    },
    {
      "cell_type": "code",
      "metadata": {
        "id": "EJae-BBlhA7k",
        "colab_type": "code",
        "colab": {}
      },
      "source": [
        "import math\n",
        "\n",
        "import numpy as np\n",
        "\n",
        "from scipy.stats import norm\n",
        "\n",
        "from matplotlib.pyplot import plot\n",
        "from matplotlib import pyplot as plt\n",
        "\n",
        "from ipywidgets import fixed, interact\n",
        "import ipywidgets as widgets"
      ],
      "execution_count": 2,
      "outputs": []
    },
    {
      "cell_type": "code",
      "metadata": {
        "id": "BcJWxYXim8xj",
        "colab_type": "code",
        "colab": {}
      },
      "source": [
        "class Gaussian:\n",
        "  def __init__(self, mean, var, name):\n",
        "    self.mean = mean\n",
        "    self.var = var\n",
        "    self.name = name\n",
        "\n",
        "    self.rv = norm(mean, var)\n",
        "\n",
        "  def add(self, other, name):\n",
        "    return Gaussian(self.mean + other.mean, self.var +other.var, name)\n",
        "\n",
        "  def multiply(self, other, name):\n",
        "    mean = (self.var * other.mean + other.var * self.mean) / (self.var + other.var)\n",
        "    variance = (self.var * other.var) / (self.var + other.var)\n",
        "    return Gaussian(mean, variance, name)\n",
        "\n",
        "  def min_plot_value(self):\n",
        "    return self.mean - 1.5 * self.var\n",
        "\n",
        "  def max_plot_value(self):\n",
        "    return self.mean + 1.5 * self.var\n",
        "\n",
        "  def print(self):\n",
        "    print('%s: Gaussian(%.2f, %.2f)' % (self.name, self.mean, self.var))\n",
        "\n",
        "  def pdf(self, xs):\n",
        "    return self.rv.pdf(xs)\n"
      ],
      "execution_count": 17,
      "outputs": []
    },
    {
      "cell_type": "code",
      "metadata": {
        "id": "enahtM63hO_B",
        "colab_type": "code",
        "colab": {}
      },
      "source": [
        "def data_and_noise(x0 = 0, v = 2, a = 0, std = 1, count = 30, seed = 123):\n",
        "  np.random.seed(seed)\n",
        "\n",
        "  xs = np.array([x0 + t * v + 0.5 * a * t ** 2 for t in range(count)])\n",
        "  noise = np.array(np.random.normal(0, std, count))\n",
        "  return (xs, xs + noise)"
      ],
      "execution_count": 4,
      "outputs": []
    },
    {
      "cell_type": "code",
      "metadata": {
        "id": "9Bm8MOjMvk2H",
        "colab_type": "code",
        "colab": {}
      },
      "source": [
        "def show_sum(mean1, var1, name1, mean2, var2, name2):\n",
        "  one = Gaussian(mean1, var1, name1)\n",
        "  two = Gaussian(mean2, var2, name2)\n",
        "\n",
        "  sum_name = '%s + %s' % (name1, name2)\n",
        "  sum = one.add(two, sum_name)\n",
        "\n",
        "  min_point = min(one.min_plot_value(), two.min_plot_value(), sum.min_plot_value())\n",
        "  max_point = max(one.max_plot_value(), two.max_plot_value(), sum.max_plot_value())\n",
        "\n",
        "  points = np.arange(min_point, max_point, 0.1)\n",
        "  plot(points, one.pdf(points), label=name1)\n",
        "  plot(points, two.pdf(points), label=name2)\n",
        "  plot(points, sum.pdf(points), label=sum_name)\n",
        "\n",
        "  plt.legend()\n",
        "  plt.show()\n"
      ],
      "execution_count": 18,
      "outputs": []
    },
    {
      "cell_type": "code",
      "metadata": {
        "id": "8S4QFlqgwt3E",
        "colab_type": "code",
        "colab": {
          "base_uri": "https://localhost:8080/",
          "height": 265
        },
        "outputId": "9254a2fa-87c4-4131-9a04-fc4bfc84e875"
      },
      "source": [
        "show_sum(4, 1, 'x', 2, 1.5, 'y')"
      ],
      "execution_count": 19,
      "outputs": [
        {
          "output_type": "display_data",
          "data": {
            "image/png": "[encoded data removed]",
            "text/plain": [
              "<Figure size 432x288 with 1 Axes>"
            ]
          },
          "metadata": {
            "tags": [],
            "needs_background": "light"
          }
        }
      ]
    },
    {
      "cell_type": "code",
      "metadata": {
        "id": "KPm4i70Zwz2u",
        "colab_type": "code",
        "colab": {}
      },
      "source": [
        ""
      ],
      "execution_count": null,
      "outputs": []
    }
  ]
}