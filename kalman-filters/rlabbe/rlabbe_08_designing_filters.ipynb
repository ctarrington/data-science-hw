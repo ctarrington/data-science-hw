{
  "nbformat": 4,
  "nbformat_minor": 0,
  "metadata": {
    "colab": {
      "name": "rlabbe_08_designing_filters.ipynb",
      "provenance": [],
      "authorship_tag": "ABX9TyMOJN+mlXFuQfJdbXKzvrnh",
      "include_colab_link": true
    },
    "kernelspec": {
      "name": "python3",
      "display_name": "Python 3"
    }
  },
  "cells": [
    {
      "cell_type": "markdown",
      "metadata": {
        "id": "view-in-github",
        "colab_type": "text"
      },
      "source": [
        "<a href=\"https://colab.research.google.com/github/ctarrington/data-science-hw/blob/master/kalman-filters/rlabbe/rlabbe_08_designing_filters.ipynb\" target=\"_parent\"><img src=\"https://colab.research.google.com/assets/colab-badge.svg\" alt=\"Open In Colab\"/></a>"
      ]
    },
    {
      "cell_type": "code",
      "metadata": {
        "id": "P1DkTNdpwyx0",
        "colab_type": "code",
        "colab": {
          "base_uri": "https://localhost:8080/",
          "height": 190
        },
        "outputId": "01cea07c-309a-42f0-8538-de4082c0322a"
      },
      "source": [
        "!pip install filterpy"
      ],
      "execution_count": 1,
      "outputs": [
        {
          "output_type": "stream",
          "text": [
            "Requirement already satisfied: filterpy in /usr/local/lib/python3.6/dist-packages (1.4.5)\n",
            "Requirement already satisfied: matplotlib in /usr/local/lib/python3.6/dist-packages (from filterpy) (3.2.2)\n",
            "Requirement already satisfied: scipy in /usr/local/lib/python3.6/dist-packages (from filterpy) (1.4.1)\n",
            "Requirement already satisfied: numpy in /usr/local/lib/python3.6/dist-packages (from filterpy) (1.18.5)\n",
            "Requirement already satisfied: pyparsing!=2.0.4,!=2.1.2,!=2.1.6,>=2.0.1 in /usr/local/lib/python3.6/dist-packages (from matplotlib->filterpy) (2.4.7)\n",
            "Requirement already satisfied: cycler>=0.10 in /usr/local/lib/python3.6/dist-packages (from matplotlib->filterpy) (0.10.0)\n",
            "Requirement already satisfied: kiwisolver>=1.0.1 in /usr/local/lib/python3.6/dist-packages (from matplotlib->filterpy) (1.2.0)\n",
            "Requirement already satisfied: python-dateutil>=2.1 in /usr/local/lib/python3.6/dist-packages (from matplotlib->filterpy) (2.8.1)\n",
            "Requirement already satisfied: six in /usr/local/lib/python3.6/dist-packages (from cycler>=0.10->matplotlib->filterpy) (1.15.0)\n"
          ],
          "name": "stdout"
        }
      ]
    },
    {
      "cell_type": "code",
      "metadata": {
        "id": "9Bqb18nGxGwI",
        "colab_type": "code",
        "colab": {}
      },
      "source": [
        "import math\n",
        "\n",
        "import numpy as np\n",
        "\n",
        "from scipy.linalg import block_diag\n",
        "\n",
        "from matplotlib.pyplot import plot\n",
        "from matplotlib import pyplot as plt\n",
        "\n",
        "from filterpy.kalman import KalmanFilter\n",
        "from filterpy.common import Q_discrete_white_noise"
      ],
      "execution_count": 2,
      "outputs": []
    },
    {
      "cell_type": "code",
      "metadata": {
        "id": "r3qj0M5Sxe5Y",
        "colab_type": "code",
        "colab": {}
      },
      "source": [
        "def data_and_noise_2d(x0 = 0, y0 = 0, v_x = 1, v_y = 1, a_x = 0, a_y = 0, var = 1, count = 3, seed = 123):\n",
        "  np.random.seed(seed)\n",
        "\n",
        "  std = math.sqrt(var)\n",
        "  xs = np.array([(x0 + t * v_x + 0.5 * a_x * t ** 2) for t in range(count)])\n",
        "  ys = np.array([(y0 + t * v_y + 0.5 * a_y * t ** 2) for t in range(count)])\n",
        "\n",
        "  offset_y = np.array([0 if t < count/2 else 4 for t in range(count)])\n",
        "  print('offset_y\\n', offset_y)\n",
        "  ys = np.add(ys, offset_y)\n",
        "\n",
        "  x_noise = np.array(np.random.normal(0, std, count))\n",
        "  y_noise = np.array(np.random.normal(0, std, count))\n",
        "\n",
        "  actuals = np.vstack((xs, ys)).T\n",
        "  measurements = np.vstack((xs+x_noise, ys+y_noise)).T\n",
        "  return (actuals, measurements)"
      ],
      "execution_count": 3,
      "outputs": []
    },
    {
      "cell_type": "code",
      "metadata": {
        "id": "IpQZL0E00IeF",
        "colab_type": "code",
        "colab": {
          "base_uri": "https://localhost:8080/",
          "height": 901
        },
        "outputId": "eea01b82-ef2c-4614-e493-7e0073a9d9ae"
      },
      "source": [
        "actuals, measurements = data_and_noise_2d(x0=20, y0=10, var=0.2, count=30)\n",
        "\n",
        "dt = 1\n",
        "kf = KalmanFilter(dim_x=4, dim_z=2)\n",
        "\n",
        "# state transition function\n",
        "kf.F = np.array([[1, dt, 0, 0],\n",
        "                 [0,  1, 0, 0],\n",
        "                 [0,  0, 1, dt],\n",
        "                 [0,  0, 0, 1],\n",
        "                 ])\n",
        "\n",
        "# Process noise\n",
        "q = Q_discrete_white_noise(dim=2, dt=dt, var=0.001)\n",
        "kf.Q = block_diag(q, q)\n",
        "\n",
        "# measurement matrix state -> measurement space\n",
        "kf.H = np.array([[1,0,0,0],\n",
        "                 [0,0,1,0]])\n",
        "\n",
        "# initial state\n",
        "kf.x = np.array([[0, 0, 0, 0]]).T\n",
        "\n",
        "# initial covariance matrix - weak flat prior\n",
        "kf.P = np.eye(4) * 500.\n",
        "\n",
        "# Measurement noise\n",
        "kf.R = np.eye(2).dot(8.)\n",
        "\n",
        "print('kf\\n', kf)\n",
        "\n",
        "results = kf.batch_filter(measurements)\n",
        "means = results[0]"
      ],
      "execution_count": 4,
      "outputs": [
        {
          "output_type": "stream",
          "text": [
            "offset_y\n",
            " [0 0 0 0 0 0 0 0 0 0 0 0 0 0 0 4 4 4 4 4 4 4 4 4 4 4 4 4 4 4]\n",
            "kf\n",
            " KalmanFilter object\n",
            "dim_x = 4\n",
            "dim_z = 2\n",
            "dim_u = 0\n",
            "x = [[0 0 0 0]].T\n",
            "P = [[500.   0.   0.   0.]\n",
            "     [  0. 500.   0.   0.]\n",
            "     [  0.   0. 500.   0.]\n",
            "     [  0.   0.   0. 500.]]\n",
            "x_prior = [[0. 0. 0. 0.]].T\n",
            "P_prior = [[1. 0. 0. 0.]\n",
            "           [0. 1. 0. 0.]\n",
            "           [0. 0. 1. 0.]\n",
            "           [0. 0. 0. 1.]]\n",
            "x_post = [[0. 0. 0. 0.]].T\n",
            "P_post = [[1. 0. 0. 0.]\n",
            "          [0. 1. 0. 0.]\n",
            "          [0. 0. 1. 0.]\n",
            "          [0. 0. 0. 1.]]\n",
            "F = [[1 1 0 0]\n",
            "     [0 1 0 0]\n",
            "     [0 0 1 1]\n",
            "     [0 0 0 1]]\n",
            "Q = [[0.00025 0.0005  0.      0.     ]\n",
            "     [0.0005  0.001   0.      0.     ]\n",
            "     [0.      0.      0.00025 0.0005 ]\n",
            "     [0.      0.      0.0005  0.001  ]]\n",
            "R = [[8. 0.]\n",
            "     [0. 8.]]\n",
            "H = [[1 0 0 0]\n",
            "     [0 0 1 0]]\n",
            "K = [[0. 0.]\n",
            "     [0. 0.]\n",
            "     [0. 0.]\n",
            "     [0. 0.]]\n",
            "y = [[0. 0.]].T\n",
            "S = [[0. 0.]\n",
            "     [0. 0.]]\n",
            "SI = [[0. 0.]\n",
            "      [0. 0.]]\n",
            "M = [[0. 0.]\n",
            "     [0. 0.]]\n",
            "B = None\n",
            "z = [[None None]].T\n",
            "log-likelihood = -708.3964185322641\n",
            "likelihood = 2.2250738585072014e-308\n",
            "mahalanobis = 0.0\n",
            "alpha = 1.0\n",
            "inv = <function inv at 0x7fb434c126a8>\n"
          ],
          "name": "stdout"
        }
      ]
    },
    {
      "cell_type": "code",
      "metadata": {
        "id": "tgjAV6ID0COw",
        "colab_type": "code",
        "colab": {
          "base_uri": "https://localhost:8080/",
          "height": 265
        },
        "outputId": "efa9319e-5067-41c3-a99e-1cd8cf928d90"
      },
      "source": [
        "plot(actuals[:,0], actuals[:, 1], label='Actual')\n",
        "plot(measurements[:,0], measurements[:,1], '.', label='Measurement')\n",
        "plot(means[:,0], means[:,2], '.', label='Estimates')\n",
        "plt.legend()\n",
        "plt.show()"
      ],
      "execution_count": 5,
      "outputs": [
        {
          "output_type": "display_data",
          "data": {
            "image/png": "[encoded data removed]",
            "text/plain": [
              "<Figure size 432x288 with 1 Axes>"
            ]
          },
          "metadata": {
            "tags": [],
            "needs_background": "light"
          }
        }
      ]
    },
    {
      "cell_type": "code",
      "metadata": {
        "id": "DdUdaBYudsQI",
        "colab_type": "code",
        "colab": {}
      },
      "source": [
        ""
      ],
      "execution_count": 5,
      "outputs": []
    }
  ]
}