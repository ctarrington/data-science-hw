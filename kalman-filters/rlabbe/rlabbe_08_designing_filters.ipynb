{
  "nbformat": 4,
  "nbformat_minor": 0,
  "metadata": {
    "colab": {
      "name": "rlabbe_08_designing_filters.ipynb",
      "provenance": [],
      "authorship_tag": "ABX9TyO6uMpwd4Zi6CocVSQZYleN",
      "include_colab_link": true
    },
    "kernelspec": {
      "name": "python3",
      "display_name": "Python 3"
    }
  },
  "cells": [
    {
      "cell_type": "markdown",
      "metadata": {
        "id": "view-in-github",
        "colab_type": "text"
      },
      "source": [
        "<a href=\"https://colab.research.google.com/github/ctarrington/data-science-hw/blob/master/kalman-filters/rlabbe/rlabbe_08_designing_filters.ipynb\" target=\"_parent\"><img src=\"https://colab.research.google.com/assets/colab-badge.svg\" alt=\"Open In Colab\"/></a>"
      ]
    },
    {
      "cell_type": "code",
      "metadata": {
        "id": "P1DkTNdpwyx0",
        "colab_type": "code",
        "colab": {
          "base_uri": "https://localhost:8080/",
          "height": 343
        },
        "outputId": "afcd9b12-e6c1-4e33-8afc-985983bd7220"
      },
      "source": [
        "!pip install filterpy"
      ],
      "execution_count": 1,
      "outputs": [
        {
          "output_type": "stream",
          "text": [
            "Collecting filterpy\n",
            "\u001b[?25l  Downloading https://files.pythonhosted.org/packages/f6/1d/ac8914360460fafa1990890259b7fa5ef7ba4cd59014e782e4ab3ab144d8/filterpy-1.4.5.zip (177kB)\n",
            "\u001b[K     |████████████████████████████████| 184kB 2.6MB/s \n",
            "\u001b[?25hRequirement already satisfied: numpy in /usr/local/lib/python3.6/dist-packages (from filterpy) (1.18.5)\n",
            "Requirement already satisfied: scipy in /usr/local/lib/python3.6/dist-packages (from filterpy) (1.4.1)\n",
            "Requirement already satisfied: matplotlib in /usr/local/lib/python3.6/dist-packages (from filterpy) (3.2.2)\n",
            "Requirement already satisfied: pyparsing!=2.0.4,!=2.1.2,!=2.1.6,>=2.0.1 in /usr/local/lib/python3.6/dist-packages (from matplotlib->filterpy) (2.4.7)\n",
            "Requirement already satisfied: python-dateutil>=2.1 in /usr/local/lib/python3.6/dist-packages (from matplotlib->filterpy) (2.8.1)\n",
            "Requirement already satisfied: kiwisolver>=1.0.1 in /usr/local/lib/python3.6/dist-packages (from matplotlib->filterpy) (1.2.0)\n",
            "Requirement already satisfied: cycler>=0.10 in /usr/local/lib/python3.6/dist-packages (from matplotlib->filterpy) (0.10.0)\n",
            "Requirement already satisfied: six>=1.5 in /usr/local/lib/python3.6/dist-packages (from python-dateutil>=2.1->matplotlib->filterpy) (1.15.0)\n",
            "Building wheels for collected packages: filterpy\n",
            "  Building wheel for filterpy (setup.py) ... \u001b[?25l\u001b[?25hdone\n",
            "  Created wheel for filterpy: filename=filterpy-1.4.5-cp36-none-any.whl size=110450 sha256=1a690bf3c9b65665a2432b212868a9d0e2221ec160ed252fc5b383f9835e794c\n",
            "  Stored in directory: /root/.cache/pip/wheels/c3/0c/dd/e92392c3f38a41371602d99fc77d6c1d42aadbf0c6afccdd02\n",
            "Successfully built filterpy\n",
            "Installing collected packages: filterpy\n",
            "Successfully installed filterpy-1.4.5\n"
          ],
          "name": "stdout"
        }
      ]
    },
    {
      "cell_type": "code",
      "metadata": {
        "id": "9Bqb18nGxGwI",
        "colab_type": "code",
        "colab": {}
      },
      "source": [
        "import math\n",
        "\n",
        "import numpy as np\n",
        "\n",
        "from scipy.linalg import block_diag\n",
        "\n",
        "from matplotlib.pyplot import plot\n",
        "from matplotlib import pyplot as plt\n",
        "\n",
        "from filterpy.kalman import KalmanFilter\n",
        "from filterpy.common import Q_discrete_white_noise"
      ],
      "execution_count": 22,
      "outputs": []
    },
    {
      "cell_type": "code",
      "metadata": {
        "id": "r3qj0M5Sxe5Y",
        "colab_type": "code",
        "colab": {}
      },
      "source": [
        "def data_and_noise_2d(v_x = 1, v_y = 1, a_x = 0, a_y = 0, var = 1, count = 3, seed = 123):\n",
        "  np.random.seed(seed)\n",
        "\n",
        "  std = math.sqrt(var)\n",
        "  xs = np.array([(t * v_x + 0.5 * a_x * t ** 2) for t in range(count)])\n",
        "  ys = np.array([(t * v_y + 0.5 * a_y * t ** 2) for t in range(count)])\n",
        "  x_noise = np.array(np.random.normal(0, std, count))\n",
        "  y_noise = np.array(np.random.normal(0, std, count))\n",
        "\n",
        "  actuals = np.vstack((xs, ys)).T\n",
        "  measurements = np.vstack((xs+x_noise, ys+y_noise)).T\n",
        "  return (actuals, measurements)"
      ],
      "execution_count": 23,
      "outputs": []
    },
    {
      "cell_type": "code",
      "metadata": {
        "id": "tgjAV6ID0COw",
        "colab_type": "code",
        "colab": {
          "base_uri": "https://localhost:8080/",
          "height": 265
        },
        "outputId": "9b0e7b63-a0c0-42b5-b1f9-0568afcb3d97"
      },
      "source": [
        "actuals, measurements = data_and_noise_2d(var=0.2, count=30)\n",
        "plot(actuals[:,0], actuals[:, 1], '.', label='Actual')\n",
        "plot(measurements[:,0], measurements[:,1], '.', label='Measurement')\n",
        "plt.legend()\n",
        "plt.show()"
      ],
      "execution_count": 24,
      "outputs": [
        {
          "output_type": "display_data",
          "data": {
            "image/png": "[encoded data removed]",
            "text/plain": [
              "<Figure size 432x288 with 1 Axes>"
            ]
          },
          "metadata": {
            "tags": [],
            "needs_background": "light"
          }
        }
      ]
    },
    {
      "cell_type": "code",
      "metadata": {
        "id": "IpQZL0E00IeF",
        "colab_type": "code",
        "colab": {}
      },
      "source": [
        "dt = 1\n",
        "kf = KalmanFilter(dim_x=4, dim_z=2)\n",
        "\n",
        "kf.F = np.array([[1, dt, 0, 0],\n",
        "                 [0,  1, 0, 0],\n",
        "                 [0,  0, 1, dt],\n",
        "                 [0,  0, 0, 1],\n",
        "                 ])\n",
        "\n",
        "q = Q_discrete_white_noise(dim=2, dt=dt, var=0.001)\n",
        "kf.Q = block_diag(q, q)\n",
        "\n",
        "kf.H = np.array([[1,0,0,0],\n",
        "                 [0,0,1,0]])"
      ],
      "execution_count": 26,
      "outputs": []
    },
    {
      "cell_type": "code",
      "metadata": {
        "id": "mdJvSaKb3q4f",
        "colab_type": "code",
        "colab": {}
      },
      "source": [
        ""
      ],
      "execution_count": null,
      "outputs": []
    }
  ]
}