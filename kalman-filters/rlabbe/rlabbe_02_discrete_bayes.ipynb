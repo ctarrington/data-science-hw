{
  "nbformat": 4,
  "nbformat_minor": 0,
  "metadata": {
    "colab": {
      "name": "rlabbe_02_discrete_bayes.ipynb",
      "provenance": [],
      "authorship_tag": "ABX9TyOhJwCus0xpOEHJgxkCVKQ6",
      "include_colab_link": true
    },
    "kernelspec": {
      "name": "python3",
      "display_name": "Python 3"
    }
  },
  "cells": [
    {
      "cell_type": "markdown",
      "metadata": {
        "id": "view-in-github",
        "colab_type": "text"
      },
      "source": [
        "<a href=\"https://colab.research.google.com/github/ctarrington/data-science-hw/blob/master/kalman-filters/rlabbe/rlabbe_02_discrete_bayes.ipynb\" target=\"_parent\"><img src=\"https://colab.research.google.com/assets/colab-badge.svg\" alt=\"Open In Colab\"/></a>"
      ]
    },
    {
      "cell_type": "code",
      "metadata": {
        "id": "ZnMhsZJsisXx",
        "colab_type": "code",
        "colab": {
          "base_uri": "https://localhost:8080/",
          "height": 170
        },
        "outputId": "6026da9b-0374-4e96-ce0a-9328c92142eb"
      },
      "source": [
        "!pip install filterpy"
      ],
      "execution_count": 1,
      "outputs": [
        {
          "output_type": "stream",
          "text": [
            "Requirement already satisfied: filterpy in /usr/local/lib/python3.6/dist-packages (1.4.5)\n",
            "Requirement already satisfied: matplotlib in /usr/local/lib/python3.6/dist-packages (from filterpy) (3.2.2)\n",
            "Requirement already satisfied: scipy in /usr/local/lib/python3.6/dist-packages (from filterpy) (1.4.1)\n",
            "Requirement already satisfied: numpy in /usr/local/lib/python3.6/dist-packages (from filterpy) (1.18.5)\n",
            "Requirement already satisfied: pyparsing!=2.0.4,!=2.1.2,!=2.1.6,>=2.0.1 in /usr/local/lib/python3.6/dist-packages (from matplotlib->filterpy) (2.4.7)\n",
            "Requirement already satisfied: kiwisolver>=1.0.1 in /usr/local/lib/python3.6/dist-packages (from matplotlib->filterpy) (1.2.0)\n",
            "Requirement already satisfied: python-dateutil>=2.1 in /usr/local/lib/python3.6/dist-packages (from matplotlib->filterpy) (2.8.1)\n",
            "Requirement already satisfied: cycler>=0.10 in /usr/local/lib/python3.6/dist-packages (from matplotlib->filterpy) (0.10.0)\n",
            "Requirement already satisfied: six>=1.5 in /usr/local/lib/python3.6/dist-packages (from python-dateutil>=2.1->matplotlib->filterpy) (1.15.0)\n"
          ],
          "name": "stdout"
        }
      ]
    },
    {
      "cell_type": "code",
      "metadata": {
        "id": "lKCbA2Mwh-Iq",
        "colab_type": "code",
        "colab": {}
      },
      "source": [
        "import math\n",
        "\n",
        "import numpy as np\n",
        "\n",
        "from matplotlib.pyplot import bar, plot\n",
        "from matplotlib import pyplot as plt\n",
        "\n",
        "from ipywidgets import fixed, interact\n",
        "import ipywidgets as widgets"
      ],
      "execution_count": 2,
      "outputs": []
    },
    {
      "cell_type": "code",
      "metadata": {
        "id": "ZfbAySKz2NQV",
        "colab_type": "code",
        "colab": {}
      },
      "source": [
        "def plot_discrete_distribution(heights, title = ''):\n",
        "  buckets = range(len(heights))\n",
        "  bar(buckets, heights)\n",
        "  plt.title(title)\n",
        "  plt.show()"
      ],
      "execution_count": 3,
      "outputs": []
    },
    {
      "cell_type": "code",
      "metadata": {
        "id": "By_Z7ETb33lQ",
        "colab_type": "code",
        "colab": {}
      },
      "source": [
        "def normalize_discrete(heights):\n",
        "  sum = np.sum(heights)\n",
        "  return heights / sum"
      ],
      "execution_count": 14,
      "outputs": []
    },
    {
      "cell_type": "code",
      "metadata": {
        "id": "ZWDDpAYNh13X",
        "colab_type": "code",
        "colab": {}
      },
      "source": [
        "def likelihood_hallway(hallway, z_door, confidence):\n",
        "  try:\n",
        "    scale = confidence / (1.-confidence)\n",
        "  except ZeroDivisionError:\n",
        "    scale = 1e8\n",
        "\n",
        "  lh = np.ones(len(hallway))\n",
        "  lh[hallway == z_door] *= scale\n",
        "  return lh"
      ],
      "execution_count": 8,
      "outputs": []
    },
    {
      "cell_type": "code",
      "metadata": {
        "id": "paoUC1ctizch",
        "colab_type": "code",
        "colab": {}
      },
      "source": [
        "flat_belief = np.array([1/10]*10)  # no clue where the thing is\n",
        "hallway = np.array([1,1, 0,0,0,0,0,0, 1, 0])  # doors at positions 0,1 and 8\n"
      ],
      "execution_count": 9,
      "outputs": []
    },
    {
      "cell_type": "code",
      "metadata": {
        "id": "UK9vl9nImpzt",
        "colab_type": "code",
        "colab": {
          "base_uri": "https://localhost:8080/",
          "height": 281
        },
        "outputId": "f9c543f7-7545-4538-ceb4-6c5e16843714"
      },
      "source": [
        "likelihood = likelihood_hallway(hallway, 1, 0.75)\n",
        "posterior = normalize_discrete(likelihood * flat_belief)\n",
        "plot_discrete_distribution(posterior, 'posterior')"
      ],
      "execution_count": 19,
      "outputs": [
        {
          "output_type": "display_data",
          "data": {
            "image/png": "[encoded data removed]",
            "text/plain": [
              "<Figure size 432x288 with 1 Axes>"
            ]
          },
          "metadata": {
            "tags": [],
            "needs_background": "light"
          }
        }
      ]
    },
    {
      "cell_type": "code",
      "metadata": {
        "id": "TCf95Dh4mwla",
        "colab_type": "code",
        "colab": {
          "base_uri": "https://localhost:8080/",
          "height": 34
        },
        "outputId": "2445f99e-4889-4dcb-c183-94d531c57c66"
      },
      "source": [
        "print(normalize_discrete(np.array([2,4])))"
      ],
      "execution_count": 15,
      "outputs": [
        {
          "output_type": "stream",
          "text": [
            "[0.33333333 0.66666667]\n"
          ],
          "name": "stdout"
        }
      ]
    },
    {
      "cell_type": "code",
      "metadata": {
        "id": "kAJoFR3A4pKZ",
        "colab_type": "code",
        "colab": {}
      },
      "source": [
        ""
      ],
      "execution_count": null,
      "outputs": []
    }
  ]
}