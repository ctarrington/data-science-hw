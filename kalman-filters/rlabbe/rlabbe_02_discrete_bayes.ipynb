{
  "nbformat": 4,
  "nbformat_minor": 0,
  "metadata": {
    "colab": {
      "name": "rlabbe_02_discrete_bayes.ipynb",
      "provenance": [],
      "include_colab_link": true
    },
    "kernelspec": {
      "name": "python3",
      "display_name": "Python 3"
    }
  },
  "cells": [
    {
      "cell_type": "markdown",
      "metadata": {
        "id": "view-in-github",
        "colab_type": "text"
      },
      "source": [
        "<a href=\"https://colab.research.google.com/github/ctarrington/data-science-hw/blob/master/kalman-filters/rlabbe/rlabbe_02_discrete_bayes.ipynb\" target=\"_parent\"><img src=\"https://colab.research.google.com/assets/colab-badge.svg\" alt=\"Open In Colab\"/></a>"
      ]
    },
    {
      "cell_type": "code",
      "metadata": {
        "id": "lKCbA2Mwh-Iq",
        "colab_type": "code",
        "colab": {}
      },
      "source": [
        "import math\n",
        "\n",
        "import numpy as np\n",
        "\n",
        "from matplotlib.pyplot import bar, plot\n",
        "from matplotlib import pyplot as plt\n",
        "\n",
        "from ipywidgets import fixed, interact\n",
        "import ipywidgets as widgets"
      ],
      "execution_count": 48,
      "outputs": []
    },
    {
      "cell_type": "code",
      "metadata": {
        "id": "ZfbAySKz2NQV",
        "colab_type": "code",
        "colab": {}
      },
      "source": [
        "def plot_discrete_distribution(heights, title = ''):\n",
        "  buckets = range(len(heights))\n",
        "  bar(buckets, heights)\n",
        "  plt.title(title)\n",
        "  plt.show()"
      ],
      "execution_count": 49,
      "outputs": []
    },
    {
      "cell_type": "code",
      "metadata": {
        "id": "1dp02mbMt1W5",
        "colab_type": "code",
        "colab": {}
      },
      "source": [
        "def move_discrete(heights, steps):\n",
        "  return np.roll(heights, steps)"
      ],
      "execution_count": 50,
      "outputs": []
    },
    {
      "cell_type": "code",
      "metadata": {
        "id": "By_Z7ETb33lQ",
        "colab_type": "code",
        "colab": {}
      },
      "source": [
        "def normalize_discrete(heights):\n",
        "  sum = np.sum(heights)\n",
        "  return heights / sum"
      ],
      "execution_count": 51,
      "outputs": []
    },
    {
      "cell_type": "code",
      "metadata": {
        "id": "ZWDDpAYNh13X",
        "colab_type": "code",
        "colab": {}
      },
      "source": [
        "def likelihood_hallway(hallway, z_door, confidence):\n",
        "  try:\n",
        "    scale = confidence / (1.-confidence)\n",
        "  except ZeroDivisionError:\n",
        "    scale = 1e8\n",
        "\n",
        "  lh = np.ones(len(hallway))\n",
        "  lh[hallway == z_door] *= scale\n",
        "  return lh"
      ],
      "execution_count": 52,
      "outputs": []
    },
    {
      "cell_type": "code",
      "metadata": {
        "id": "paoUC1ctizch",
        "colab_type": "code",
        "colab": {}
      },
      "source": [
        "flat_belief = np.array([1/10]*10)  # no clue where the thing is\n",
        "hallway = np.array([1,1, 0,0,0,0,0,0, 1, 0])  # doors at positions 0,1 and 8\n"
      ],
      "execution_count": 53,
      "outputs": []
    },
    {
      "cell_type": "code",
      "metadata": {
        "id": "UK9vl9nImpzt",
        "colab_type": "code",
        "colab": {
          "base_uri": "https://localhost:8080/",
          "height": 298
        },
        "outputId": "778c5ffd-68fe-4eeb-fdc0-44fdad334891"
      },
      "source": [
        "likelihood_saw_door = likelihood_hallway(hallway, 1, 0.75)\n",
        "likelihood_saw_walls = likelihood_hallway(hallway, 0, 0.75)\n",
        "print(likelihood_saw_walls)\n",
        "posterior = normalize_discrete(likelihood_saw_door * flat_belief)\n",
        "plot_discrete_distribution(posterior, 'saw door')"
      ],
      "execution_count": 54,
      "outputs": [
        {
          "output_type": "stream",
          "text": [
            "[1. 1. 3. 3. 3. 3. 3. 3. 1. 3.]\n"
          ],
          "name": "stdout"
        },
        {
          "output_type": "display_data",
          "data": {
            "image/png": "[encoded data removed]",
            "text/plain": [
              "<Figure size 432x288 with 1 Axes>"
            ]
          },
          "metadata": {
            "tags": [],
            "needs_background": "light"
          }
        }
      ]
    },
    {
      "cell_type": "code",
      "metadata": {
        "id": "TCf95Dh4mwla",
        "colab_type": "code",
        "colab": {
          "base_uri": "https://localhost:8080/",
          "height": 281
        },
        "outputId": "3920ee91-cd73-48cb-fb87-ce1b0fdf9a70"
      },
      "source": [
        "moved = move_discrete(posterior, 1)\n",
        "plot_discrete_distribution(moved, 'saw door, moved')"
      ],
      "execution_count": 55,
      "outputs": [
        {
          "output_type": "display_data",
          "data": {
            "image/png": "[encoded data removed]",
            "text/plain": [
              "<Figure size 432x288 with 1 Axes>"
            ]
          },
          "metadata": {
            "tags": [],
            "needs_background": "light"
          }
        }
      ]
    },
    {
      "cell_type": "code",
      "metadata": {
        "id": "kAJoFR3A4pKZ",
        "colab_type": "code",
        "colab": {
          "base_uri": "https://localhost:8080/",
          "height": 281
        },
        "outputId": "9504deac-1a2b-4c9f-904e-8b60f6bfb007"
      },
      "source": [
        "posterior = normalize_discrete(likelihood_saw_door * moved)\n",
        "plot_discrete_distribution(posterior, 'saw door, moved, saw door')"
      ],
      "execution_count": 56,
      "outputs": [
        {
          "output_type": "display_data",
          "data": {
            "image/png": "[encoded data removed]",
            "text/plain": [
              "<Figure size 432x288 with 1 Axes>"
            ]
          },
          "metadata": {
            "tags": [],
            "needs_background": "light"
          }
        }
      ]
    },
    {
      "cell_type": "code",
      "metadata": {
        "id": "remDzPqQvvPz",
        "colab_type": "code",
        "colab": {
          "base_uri": "https://localhost:8080/",
          "height": 281
        },
        "outputId": "81fa98c9-8bee-4e83-b265-ba9fc6424aae"
      },
      "source": [
        "moved = move_discrete(posterior, 1)\n",
        "posterior = normalize_discrete(likelihood_saw_walls*moved)\n",
        "plot_discrete_distribution(posterior, 'saw door, moved, saw door, moved, saw walls')"
      ],
      "execution_count": 57,
      "outputs": [
        {
          "output_type": "display_data",
          "data": {
            "image/png": "[encoded data removed]",
            "text/plain": [
              "<Figure size 432x288 with 1 Axes>"
            ]
          },
          "metadata": {
            "tags": [],
            "needs_background": "light"
          }
        }
      ]
    },
    {
      "cell_type": "code",
      "metadata": {
        "id": "-0WFrUCqxZ_n",
        "colab_type": "code",
        "colab": {
          "base_uri": "https://localhost:8080/",
          "height": 281
        },
        "outputId": "317f2b30-4103-472e-e198-18c4967bbb7e"
      },
      "source": [
        "moved = move_discrete(posterior, 1)\n",
        "posterior = normalize_discrete(likelihood_saw_walls*moved)\n",
        "plot_discrete_distribution(posterior, 'saw door, moved, saw door, moved, saw walls, moved, saw walls')\n"
      ],
      "execution_count": 58,
      "outputs": [
        {
          "output_type": "display_data",
          "data": {
            "image/png": "[encoded data removed]",
            "text/plain": [
              "<Figure size 432x288 with 1 Axes>"
            ]
          },
          "metadata": {
            "tags": [],
            "needs_background": "light"
          }
        }
      ]
    }
  ]
}