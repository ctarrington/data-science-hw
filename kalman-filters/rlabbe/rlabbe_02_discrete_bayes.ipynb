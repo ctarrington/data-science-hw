{
  "nbformat": 4,
  "nbformat_minor": 0,
  "metadata": {
    "colab": {
      "name": "rlabbe_02_discrete_bayes.ipynb",
      "provenance": [],
      "include_colab_link": true
    },
    "kernelspec": {
      "name": "python3",
      "display_name": "Python 3"
    }
  },
  "cells": [
    {
      "cell_type": "markdown",
      "metadata": {
        "id": "view-in-github",
        "colab_type": "text"
      },
      "source": [
        "<a href=\"https://colab.research.google.com/github/ctarrington/data-science-hw/blob/master/kalman-filters/rlabbe/rlabbe_02_discrete_bayes.ipynb\" target=\"_parent\"><img src=\"https://colab.research.google.com/assets/colab-badge.svg\" alt=\"Open In Colab\"/></a>"
      ]
    },
    {
      "cell_type": "code",
      "metadata": {
        "id": "lKCbA2Mwh-Iq",
        "colab_type": "code",
        "colab": {}
      },
      "source": [
        "import math\n",
        "\n",
        "import numpy as np\n",
        "from scipy.ndimage import convolve1d\n",
        "\n",
        "from matplotlib.pyplot import bar, plot\n",
        "from matplotlib import pyplot as plt\n",
        "\n",
        "from ipywidgets import fixed, interact\n",
        "import ipywidgets as widgets"
      ],
      "execution_count": 1,
      "outputs": []
    },
    {
      "cell_type": "code",
      "metadata": {
        "id": "ZfbAySKz2NQV",
        "colab_type": "code",
        "colab": {}
      },
      "source": [
        "def plot_discrete_distribution(heights, title = ''):\n",
        "  buckets = range(len(heights))\n",
        "  bar(buckets, heights)\n",
        "  plt.title(title)\n",
        "  plt.show()"
      ],
      "execution_count": 2,
      "outputs": []
    },
    {
      "cell_type": "code",
      "metadata": {
        "id": "1dp02mbMt1W5",
        "colab_type": "code",
        "colab": {}
      },
      "source": [
        "def move_discrete(heights, steps, uncertainty_kernel):\n",
        "  moved = np.roll(heights, steps)\n",
        "  blurred = convolve1d(moved, uncertainty_kernel, mode='wrap')\n",
        "  return blurred\n"
      ],
      "execution_count": 3,
      "outputs": []
    },
    {
      "cell_type": "code",
      "metadata": {
        "id": "By_Z7ETb33lQ",
        "colab_type": "code",
        "colab": {}
      },
      "source": [
        "def normalize_discrete(heights):\n",
        "  sum = np.sum(heights)\n",
        "  return heights / sum"
      ],
      "execution_count": 4,
      "outputs": []
    },
    {
      "cell_type": "code",
      "metadata": {
        "id": "ZWDDpAYNh13X",
        "colab_type": "code",
        "colab": {}
      },
      "source": [
        "def likelihood_hallway(hallway, z_door, confidence):\n",
        "  try:\n",
        "    scale = confidence / (1.-confidence)\n",
        "  except ZeroDivisionError:\n",
        "    scale = 1e8\n",
        "\n",
        "  lh = np.ones(len(hallway))\n",
        "  lh[hallway == z_door] *= scale\n",
        "  return lh"
      ],
      "execution_count": 5,
      "outputs": []
    },
    {
      "cell_type": "code",
      "metadata": {
        "id": "paoUC1ctizch",
        "colab_type": "code",
        "colab": {}
      },
      "source": [
        "flat_belief = np.array([1/10]*10)  # no clue where the thing is\n",
        "hallway = np.array([1,1, 0,0,0,0,0,0, 1, 0])  # doors at positions 0,1 and 8\n",
        "move_uncertainty_kernel = np.array([0.1, 0.8, 0.1])\n"
      ],
      "execution_count": 6,
      "outputs": []
    },
    {
      "cell_type": "code",
      "metadata": {
        "id": "UK9vl9nImpzt",
        "colab_type": "code",
        "colab": {
          "base_uri": "https://localhost:8080/",
          "height": 281
        },
        "outputId": "47897cc6-0db8-42c6-8246-c6c64c477742"
      },
      "source": [
        "likelihood_saw_door = likelihood_hallway(hallway, 1, 0.75)\n",
        "likelihood_saw_walls = likelihood_hallway(hallway, 0, 0.75)\n",
        "posterior = normalize_discrete(likelihood_saw_door * flat_belief)\n",
        "plot_discrete_distribution(posterior, 'saw door')"
      ],
      "execution_count": 7,
      "outputs": [
        {
          "output_type": "display_data",
          "data": {
            "image/png": "[encoded data removed]",
            "text/plain": [
              "<Figure size 432x288 with 1 Axes>"
            ]
          },
          "metadata": {
            "tags": [],
            "needs_background": "light"
          }
        }
      ]
    },
    {
      "cell_type": "code",
      "metadata": {
        "id": "TCf95Dh4mwla",
        "colab_type": "code",
        "colab": {
          "base_uri": "https://localhost:8080/",
          "height": 281
        },
        "outputId": "58806515-61ac-4bc4-b358-64f03331811b"
      },
      "source": [
        "moved = move_discrete(posterior, 1, move_uncertainty_kernel)\n",
        "plot_discrete_distribution(moved, 'saw door, moved')"
      ],
      "execution_count": 8,
      "outputs": [
        {
          "output_type": "display_data",
          "data": {
            "image/png": "[encoded data removed]",
            "text/plain": [
              "<Figure size 432x288 with 1 Axes>"
            ]
          },
          "metadata": {
            "tags": [],
            "needs_background": "light"
          }
        }
      ]
    },
    {
      "cell_type": "code",
      "metadata": {
        "id": "kAJoFR3A4pKZ",
        "colab_type": "code",
        "colab": {
          "base_uri": "https://localhost:8080/",
          "height": 281
        },
        "outputId": "67d11e0a-8dd7-4ace-ff70-465e61bf4c06"
      },
      "source": [
        "posterior = normalize_discrete(likelihood_saw_door * moved)\n",
        "plot_discrete_distribution(posterior, 'saw door, moved, saw door')"
      ],
      "execution_count": 9,
      "outputs": [
        {
          "output_type": "display_data",
          "data": {
            "image/png": "[encoded data removed]",
            "text/plain": [
              "<Figure size 432x288 with 1 Axes>"
            ]
          },
          "metadata": {
            "tags": [],
            "needs_background": "light"
          }
        }
      ]
    },
    {
      "cell_type": "code",
      "metadata": {
        "id": "remDzPqQvvPz",
        "colab_type": "code",
        "colab": {
          "base_uri": "https://localhost:8080/",
          "height": 281
        },
        "outputId": "bfcc5334-0489-4347-96ca-4be99f4801de"
      },
      "source": [
        "moved = move_discrete(posterior, 1, move_uncertainty_kernel)\n",
        "posterior = normalize_discrete(likelihood_saw_walls*moved)\n",
        "plot_discrete_distribution(posterior, 'saw door, moved, saw door, moved, saw walls')"
      ],
      "execution_count": 10,
      "outputs": [
        {
          "output_type": "display_data",
          "data": {
            "image/png": "[encoded data removed]",
            "text/plain": [
              "<Figure size 432x288 with 1 Axes>"
            ]
          },
          "metadata": {
            "tags": [],
            "needs_background": "light"
          }
        }
      ]
    },
    {
      "cell_type": "code",
      "metadata": {
        "id": "-0WFrUCqxZ_n",
        "colab_type": "code",
        "colab": {
          "base_uri": "https://localhost:8080/",
          "height": 281
        },
        "outputId": "2908f42f-31c6-4146-c149-6cd566cf7071"
      },
      "source": [
        "moved = move_discrete(posterior, 1, move_uncertainty_kernel)\n",
        "posterior = normalize_discrete(likelihood_saw_walls*moved)\n",
        "plot_discrete_distribution(posterior, 'saw door, moved, saw door, moved, saw walls, moved, saw walls')\n"
      ],
      "execution_count": 11,
      "outputs": [
        {
          "output_type": "display_data",
          "data": {
            "image/png": "[encoded data removed]",
            "text/plain": [
              "<Figure size 432x288 with 1 Axes>"
            ]
          },
          "metadata": {
            "tags": [],
            "needs_background": "light"
          }
        }
      ]
    }
  ]
}