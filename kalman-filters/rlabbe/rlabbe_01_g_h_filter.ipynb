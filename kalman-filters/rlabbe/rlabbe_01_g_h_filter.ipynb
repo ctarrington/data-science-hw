{
  "nbformat": 4,
  "nbformat_minor": 0,
  "metadata": {
    "colab": {
      "name": "rlabbe_01_g_h_filter.ipynb",
      "provenance": [],
      "include_colab_link": true
    },
    "kernelspec": {
      "name": "python3",
      "display_name": "Python 3"
    },
    "widgets": {
      "application/vnd.jupyter.widget-state+json": {
        "3954b785bf11428faa2097be3b3c3e41": {
          "model_module": "@jupyter-widgets/controls",
          "model_name": "VBoxModel",
          "state": {
            "_view_name": "VBoxView",
            "_dom_classes": [
              "widget-interact"
            ],
            "_model_name": "VBoxModel",
            "_view_module": "@jupyter-widgets/controls",
            "_model_module_version": "1.5.0",
            "_view_count": null,
            "_view_module_version": "1.5.0",
            "box_style": "",
            "layout": "IPY_MODEL_08508579da974c488ca63569293aaf83",
            "_model_module": "@jupyter-widgets/controls",
            "children": [
              "IPY_MODEL_ca500eb4361b48b198f28480d0b4c375",
              "IPY_MODEL_d765e41548fd4aef8d6890705986e2e3",
              "IPY_MODEL_36d6bc52c791450d95bc939f397167e8",
              "IPY_MODEL_0af6b0e879374469ba388611bd4d2b5c"
            ]
          }
        },
        "08508579da974c488ca63569293aaf83": {
          "model_module": "@jupyter-widgets/base",
          "model_name": "LayoutModel",
          "state": {
            "_view_name": "LayoutView",
            "grid_template_rows": null,
            "right": null,
            "justify_content": null,
            "_view_module": "@jupyter-widgets/base",
            "overflow": null,
            "_model_module_version": "1.2.0",
            "_view_count": null,
            "flex_flow": null,
            "width": null,
            "min_width": null,
            "border": null,
            "align_items": null,
            "bottom": null,
            "_model_module": "@jupyter-widgets/base",
            "top": null,
            "grid_column": null,
            "overflow_y": null,
            "overflow_x": null,
            "grid_auto_flow": null,
            "grid_area": null,
            "grid_template_columns": null,
            "flex": null,
            "_model_name": "LayoutModel",
            "justify_items": null,
            "grid_row": null,
            "max_height": null,
            "align_content": null,
            "visibility": null,
            "align_self": null,
            "height": null,
            "min_height": null,
            "padding": null,
            "grid_auto_rows": null,
            "grid_gap": null,
            "max_width": null,
            "order": null,
            "_view_module_version": "1.2.0",
            "grid_template_areas": null,
            "object_position": null,
            "object_fit": null,
            "grid_auto_columns": null,
            "margin": null,
            "display": null,
            "left": null
          }
        },
        "ca500eb4361b48b198f28480d0b4c375": {
          "model_module": "@jupyter-widgets/controls",
          "model_name": "FloatSliderModel",
          "state": {
            "_view_name": "FloatSliderView",
            "style": "IPY_MODEL_a70e04e251fb4788ae4873a93976aa60",
            "_dom_classes": [],
            "description": "g",
            "step": 0.1,
            "_model_name": "FloatSliderModel",
            "orientation": "horizontal",
            "max": 1,
            "_view_module": "@jupyter-widgets/controls",
            "_model_module_version": "1.5.0",
            "value": 0.5,
            "_view_count": null,
            "disabled": false,
            "_view_module_version": "1.5.0",
            "min": 0,
            "continuous_update": true,
            "readout_format": ".2f",
            "description_tooltip": null,
            "readout": true,
            "_model_module": "@jupyter-widgets/controls",
            "layout": "IPY_MODEL_8e5ed16d86bd414fbd58d74738dff8b3"
          }
        },
        "d765e41548fd4aef8d6890705986e2e3": {
          "model_module": "@jupyter-widgets/controls",
          "model_name": "FloatSliderModel",
          "state": {
            "_view_name": "FloatSliderView",
            "style": "IPY_MODEL_72fea3834b004ce09ab34121515b5827",
            "_dom_classes": [],
            "description": "h",
            "step": 0.1,
            "_model_name": "FloatSliderModel",
            "orientation": "horizontal",
            "max": 1,
            "_view_module": "@jupyter-widgets/controls",
            "_model_module_version": "1.5.0",
            "value": 0.5,
            "_view_count": null,
            "disabled": false,
            "_view_module_version": "1.5.0",
            "min": 0,
            "continuous_update": true,
            "readout_format": ".2f",
            "description_tooltip": null,
            "readout": true,
            "_model_module": "@jupyter-widgets/controls",
            "layout": "IPY_MODEL_b400b5171297432896bbda763bc39480"
          }
        },
        "36d6bc52c791450d95bc939f397167e8": {
          "model_module": "@jupyter-widgets/controls",
          "model_name": "IntSliderModel",
          "state": {
            "_view_name": "IntSliderView",
            "style": "IPY_MODEL_e4e8dae915b54354bc46a91b142a31fc",
            "_dom_classes": [],
            "description": "x0",
            "step": 1,
            "_model_name": "IntSliderModel",
            "orientation": "horizontal",
            "max": 200,
            "_view_module": "@jupyter-widgets/controls",
            "_model_module_version": "1.5.0",
            "value": 123,
            "_view_count": null,
            "disabled": false,
            "_view_module_version": "1.5.0",
            "min": 0,
            "continuous_update": true,
            "readout_format": "d",
            "description_tooltip": null,
            "readout": true,
            "_model_module": "@jupyter-widgets/controls",
            "layout": "IPY_MODEL_bc4f20c13375437d94e589cd42ddb737"
          }
        },
        "0af6b0e879374469ba388611bd4d2b5c": {
          "model_module": "@jupyter-widgets/output",
          "model_name": "OutputModel",
          "state": {
            "_view_name": "OutputView",
            "msg_id": "",
            "_dom_classes": [],
            "_model_name": "OutputModel",
            "outputs": [
              {
                "output_type": "display_data",
                "metadata": {
                  "tags": [],
                  "needs_background": "light"
                },
                "image/png": "iVBORw0KGgoAAAANSUhEUgAAAXcAAAEICAYAAACktLTqAAAABHNCSVQICAgIfAhkiAAAAAlwSFlzAAALEgAACxIB0t1+/AAAADh0RVh0U29mdHdhcmUAbWF0cGxvdGxpYiB2ZXJzaW9uMy4yLjIsIGh0dHA6Ly9tYXRwbG90bGliLm9yZy+WH4yJAAAgAElEQVR4nO3df3xcdZ3v8denSfq7SX+lbWgLBcGi5JaC2QGXH2WtIqCCum6EdaEK1xa1LuyS9SIqIvfuYxWDrCgXqJJL8SI2Kz9EBKWigr8gBiwlUEpLBWkJTdrSpKXNr+azf8xJmExmmknO/GgO7+fjMY/MfOecOd+cnLznzOd8zxlzd0REJFrGFLoDIiKSfQp3EZEIUriLiESQwl1EJIIU7iIiEaRwFxGJIIW7iEgEKdxFhmBm/2hmL5vZG2Z2n5lNP8i0Hky3N7h9P599FeljOolJJD0zOw54HPgA8BSwChjj7uenmd6BY9x9c/56KTJYcaE7IJJrZnYicBtwNPBzoBfY5O5fzmD2TwA/dffHgtf6CrDBzKa4+55c9VkkLJVlJNLMbCxwL3A7MB24C/hI0jS7zezUNC9xHPB03wN3fxHoAt5+kMU+Zmavmdk9ZrZgxJ0XCUHhLlF3MvFPqDe6e7e73wM0JE7g7lPd/Xdp5p8MtCW1tQFT0ky/BFgAHAu8CjxgZvqELHmncJeoOwzY5gMPLr0yjPn3AqVJbaVAypKMuz/m7l3uvhu4DDgSeMcwlieSFQp3ibpmYK6ZWULb/GHM/yxwfN8DMzsKGAe8kOH8DtiQU4lkmcJdou6PwAFgpZkVm9l5QGwY898JfMjMTjOzScC1wD2pDqaa2XFmttjMisxsMnA9sA3YEP7XEBkehbtEmrt3AR8FLgF2A/8EPAB09k0TjEc/Lc38zwKXEg/5FuK19s8mzPuQmV0VPJwNrAHagS3Ea+8fdPfu7P5WIkPTOHd5yzGzJ4Bb3P3/FbovIrmiPXeJPDNbYmZzgrLMMmAR8fHuIpE1ZLib2Xwz+7WZPWdmz5rZZUH7dDNba2abgp/TgnYzsxvNbLOZrQ9OIBEppIXEx6rvBq4APubuzYXtkkhuDVmWMbMKoMLdnzKzKcCTwIeBTwK73P3rZnYlMM3d/5eZnQN8HjgHOAn4truflMtfQkREBhpyz93dm939qeD+HuJH/ucC5wGrg8lWEw98gvY7PO5xYGrwBiEiInkyrDPnglOpTwCeAGYnfLR9jfhIAYgHf+JJIluDtgEfg81sObAcYNKkSe869thjh9l1EZG3tieffHKHu5enei7jcA/G7d4NXO7u7YnnhLi7B1fDy5i7ryJ+hT2qqqq8sbFxOLOLiLzlmdnL6Z7LaLSMmZUQD/Y7g2tzAGzvK7cEP1uC9m0MPANwXtAmIiJ5ksloGSN+udQN7v6thKfuB5YF95cBP0lovygYNXMy0KaRCSIi+ZVJWeYU4ELgGTNbF7RdBXwdqDezS4CXgerguQeJj5TZDOwDPpXVHouIyJCGDPfgUqjpLny0NMX0DnwuZL9ERCQEnaEqIhJBCncRkQhSuIuIRJDCXUQkghTuIiIRpHAXEYkghbuISAQp3EVEIkjhLiISQQp3EZEIUriLiESQwl1EJIIU7iIiEaRwFxGJIIW7iEgEDesLskVEAOqa6qhs20Gs4Q5o2wpl82iIXURT2Uwurry40N3LzPp6eOTa/v6z9GpYVD30fKNk+dpzL5C6pjoamhsGtDU0N1DXVFegHslbzvp6uKESrpka/7m+PuNZK9t2ULNxNQ2dLYDT0NlCzcbVVLbtyGj+gm//6+vhp/8Mba8AHv/5038e1jrIRG+v07a/m1d27eOZrW38btMOfra+mavv+jR/eOhfByy/4eErqFt7edaWrT33AqmcUUnNozXULqklVhGjobmh/7FIzvWFW/f++OO+cIOM9h5jDXdQ29lKzayZVLfvpb50MrUtrcTa7oBTvjDk/AXf/h+59s3fvU/3/nh70u/v7uzvPkDb/m527+umbX/8VrrpXio3fJvJna+xu2QWP5nxP3mkZAntwfO793fTvr+bXh+8+JtKf8OVc0qpbeki1tFJw/hx1EyfQu3zv4T3ZedXHDLczawO+CDQ4u6VQdsaYGEwyVRgt7svNrMFwAZgY/Dc4+5+aXa6Gi2xihi1S2qpebSG6oXV1G+s79/QRXJuGOGWUttWYjjV7Xu5dVoZK15vI9bRCR1bM1p8Ibb/zp54QLfv7+ZR2vgf48fF+xxoGD+OZ2jj97f/KQjyLtr299C2v4vuAwMT+viZt3NF9x+Y0rkXgGnd2zl697f5TenTlE28jCNmTKJsQgllE0qYOrGE0gklTA0el00sYeEtrZS3jE16c9xBrKMra79vJnvutwPfBe7oa3D3j/fdN7PrgbaE6V9098XZ6mCUxSpiVC+s5tb1t7Ji0QoFu+RPW5oQTteerGweDZ0t1JdOZsXrbdSXTibW0UFs3KyMuzCS7f9Ar9O+v5vbmuo4bMLbOWxcZX9gP7frKf66byOHcQ67g73ntoQ97f3dB/pf56bS8dTMmRIEarDnPGsmV7X20LKng7IJJSycM4WyCWMHhHRZENL+s3/ji9PLqG3p7p//qlll1L7xNLGLM/g/LptHrO2VwW+OZfMzXn9DyeQLsh8L9sgHMTMDqoH3ZK1Ho0RdUx2VMyoHbJANzQ007WzK+IBSQ3MD9RvrWbFoBfUb64nNiSngJS/qZs+jsq1l0J5rU9ksMtl6G2IXUbNxdbwU09FJrKODmlnl1C68iKG2YHdnb2cPj/71j/xwwxo+MO9C/v9zP2LP7iOYau/sD+O2/V0DSyH7utnT2QNA0cQuxs+9io5t/8iBfW+jaOKLjJ/7Q3z7P7HFdvQH8hEzJg4I5rKJ8bA+8rUrue7pawbuOe/aQ+zs6zlr0WlDr4DXX6V2f4g976VX0/DwFQPfHHuc2NKrM5s/A2Fr7qcB2919U0LbkWb2Z6Ad+LK7/zbkMg5JYWuGidPHKmLE5sQGPB5KNt5cJKRCj7YIoXLRwHCO77nGwzkTz5TO4D+OvpATX/8B3rGN44tm8Jnpf88P9xSz/rdbBtWn++rPu/d10d7RA+M3UzZ3Nf97eztnb/x3Hho3i690XEPbtmWM6Tyasglj+wN5dul4Fs6eEi9t9IX0hOPp2bqD74xZxcfb2qkvK+Ubx1zIuy9ZmdkKOP4SqJhC9R+uje8573diZ16f+d8v5J53Q/kCaioOo3bXG8R2txMrKo0/Ll8w5JtjpsKG+wXAXQmPm4HD3X2nmb0LuM/MjnP39uQZzWw5sBzg8MMPD9mN/AtbM2za2TRg+r7Xa9rZlNFrFPyA1FtdyAOShRY75QvUAjV2B9Vt7awpK+WK2f/A3hnLuPfPWwcEc19po7/Usb+btn2H0XVgDnBd/AU7gJ3xu/exgTHGgDpz6YQSDp8+kbIJxZRNKGH3jnv44LbtvLtrDxh8oKuFGbs6WH/Si3z6zM8TLwocxPp6eGYVLZPG9ofrux+9AUqPzHj9N5QvoH7qdFYE/7+x4QRryD3vpp1N1L7nO2/+/wO1wc5Ztj69m3uKQ7nJE8XLMg/0HVAN2oqBbcC73D1loc7MfgPUuHvjwV6/qqrKGxsPOskh67t//m5/zXDlCRnuNWRJX6DrgGwB3FAZDGNLUjYf/qUpP30IPjl421Z6S+ey6+QreXX+h1LuLSfvSffdekofYlz5r+hsfQ9dO84ctIgp44qT9pgTDxAOrkf3HTCcPLaYMWMOEtBh198NlfHhl8llkXGzMpo/+ZNz8uOM5v/V5+N73ju30jBjHjXTJw0I7HwwsyfdvSrVc2H23N8LPJ8Y7GZWDuxy9wNmdhRwDLAlxDIOaYWumeuAbOHU0UZlitEWTbRlVLNO5u680XWgP4iTDwYmHyAs7ryRS/b8htM69mJAUftWNjx6JdeX3M/TOz454LXHl4x5M4gnljB/+kQqJ5TQWbyRx/c2csLUj/N00c+55PRziFWc1B/SpeOLKS7K0akwIQ/oNgTDMPsOiMZr/jPjZaYM5g/7yTkfe95hZTIU8i7gDGCmmW0FvurutwHnM7AkA3A6cK2ZdQO9wKXuviu7XT40hK2ZA6FrtoV+cxnNNeewKovLqCnrHTTa4rq9xvb2joH15sTADm7P778fOufTvfeo/j1sH7+ZovFb6dq1ZNDyisfYgCF1n3mjkS/NGjha48uzyvj3tmeZcOm7+4O8bEIJ44qLBr1efPv9Lje994Zgz/VMah6tYfH8Wo6cmYdtqGxemj33eRnN3lRWTm3LmweEYx2d1LbsoKlsVkbhnuq4VKwi8/+fsPPnQ0ZlmVwbjWWZ0Ac0k2u2ACUT4EM3ZhSQYT9Whhay//2vcQi+OXQf6I2XM5Jrzv3jnrs5qvlnHPn6f/LF8rL+ssD/2d7Gj/dcxP29p6Z8XTMoHR8vYYydvIXWCd/nuOKVLJi0iI6ijTzWdgMfm38lx8/8m0HljoljiwbWoa+ZSsP4NKM1rtk95O9Y8APyYbefbGx/EXCwsozCvVBC1hzD/nOG/ucOWzPN8T9nb6+zp6MnKGl0JexFd/ePi043muONrgMHfe3J4+IHBc8b8zsYfxc/KCtmWXsPx5QtZ9vhH3ozmBNq0mUTS5gybmAdOtQxk2D9f3dqWf8BxZW72/Jb8w8r7Jv7IbpzkE+5qrlLmI0rZM0x7MfCyhmVaQ8IZSTsSTAZnCHZV4fu23vevb+r/9TuXzWv4R27W1n2yn1M7W5hZ1E5/1F6Fr8tKqVz5xLaO7o52H7LhPLHWNLTztc61lLuO9hVVM6tc87l2aNmcvKMjw04cFiWNOqjJKhDNzRPpubRX/aPtqhdcgrnVRyd2e9PyGMmeRgnnXOLqsOFcdj5I07hPlJhh8KFrDmGFWt9idrmV6mZPoXqA6XUT+qltvlVYq0vQSbj7IdxEkxH94FBZY6XD3L6953X/6a/FNKT6sIcwGmTXuDuuX/gb4t2E+t2tpS00TDlV5x74P10Lz6sP4inTkw9omN9w7PUbHyAl1vamd0Rn/8XRT+ndu4yYqccM+Tvn41jLg2/v476F+5gRVs79etuIbZvH7EMrssC+RknLaObyjIjdSiUJcJ8chjmx/qeA720d/T0HxzctO4/+c6OH3N9wkkwV8wq5+8638fz9vEB5ZCO7t5Br3dT6eV8Y07JoAOSX9lxgPvm3TVgb3nQ8LuJJVTUVdHYlXzhqsyHwoUdShe2rNXw++vSnES0LKOAL3jNXA4JqrnnwjVTgVTrzjI6oAWEC+cRvDn09jp7Onto39/NvBsP408pDsj9TUcXnz36kUH16b7TvhOdNuk+tsz9I+e3t7OmtJRFO05ny9jzE67BMbZ/xEby3nPFX3/Klt9fxb/NmDLw9O9MzxIM1v+gN6dM13/Y+UOqu7ky/Sefz4ySmrkUnGruuZCNssoIaoZ9lx8du/ZrFKeoWbc98BW+ueUdAw8c7n/zfl+V46bScr4xq2TQOOEvtnSzuWVvPIDLxnNsxZSEA4TxA4NTJ4wNatFLuOcvt7Hq+e8P/ySueRdSPnlcqNO/Q124KgsXvgrj4u1bSd45iP8dMjxmITIEhftILb069Z5zhge0Ei8/mriXnOoswuRx0t0HnC3jtkKKEwCndG7nwWdeS9hTHssRMyYNPINwQgnrXlrKdVt+NnCc8K49NL3r71n7vsHjrFNpaG7ggb/cPeJx9mFO/w5z4apszB9agY+5SPSN7nAPUdYI/TVhi6rpdfBHvsaY9m10TzqMzYuuYFPvKbT/8aWDXDhp8OVHU5kyvnhgGaNswoDTwPf/sYJJHc2D5rOp83jqXzK42n/VLYPWX2zp1cQyvS5HyAOKYedvKpsZr0+33QEdW4mNm0XtwvjfL6MzFEPOH1rInQORoYzemnvYk4DSHNC6bNY/MOGIFUl70CmuzbEvdR060YSSov4wLk1xgDB5REficLuig12XIwu/f1gFH2cfBRqnLSFF84BqmtEq3ZPn8tRHf5tybznxqna37ljGX8e1DzqgeNi+KZzadWP/640tGjP4wkn9oTw4rOO3eFiPLc7xV9QqHETe0qJ5QDXNyTJFe17l46seH9A2xkg4UzAevLN9B3M6Bn9NmI/p4ueXn9Y/2mN8yZihLz9aKDqJQ0TSGL3hnuaAVMfECu688KSEME9z+dEb0o+WOHZOaZ5+CRGR3Mhx3SCHll4drzEnKpnAxLO/xilHz6Rybhnzp0+kdHxJyutKN8Quio+OaNnByt1t1LbsoGZWOQ2xzL6JRkTkUDZ6w31RdfzgYdl8wOI/h3EwsX+0xLhZgAWjJZbRVDYzp90WEcmH0XtAVUTkLe5gB1RH7567iIikpXAXEYkghbuISAQp3EVEImjIcDezOjNrMbOmhLZrzGybma0LbuckPPdFM9tsZhvN7P256riIiKSXyZ777cBZKdpvcPfFwe1BADN7J3A+cFwwz/81s8FfvS4iIjk1ZLi7+2PArgxf7zzgR+7e6e5/ATaDvvVLRCTfwtTcV5rZ+qBsMy1omwskXhNga9A2iJktN7NGM2tsbW0N0Q0REUk20nC/GXgbsBhoBq4f7gu4+yp3r3L3qvLy8hF2Q0REUhlRuLv7dnc/4O69wPd4s/SyDZifMOm8oE1ERPJoROFuZhUJDz8C9I2kuR8438zGmdmRwDFAQ7guiojIcA15yV8zuws4A5hpZluBrwJnmNli4t/w+xKwAsDdnzWzeuA5oAf4nLsf/PvkREQk60bthcP0NW0i8lYXyQuHVc6opObRGhqa41Wfvi9crpxRWeCeiYgU3qj9JqZYRYzaJbXUPFpD9cJq6jfWU7ukdsCevIjIW9Wo3XOHeMBXL6zm1vW3Ur2wWsEuIhIY1eHe0NxA/cZ6VixaQf3G+v4SjYjIW92oDfe+GnvtklpWnrCyv0SjgBcRGcXh3rSzaUCNva8G37SzaYg5RUSib9QOhRQReauL5FBIERFJT+EuIhJBCncRkQhSuIuIRJDCXUQkghTuIiIRpHAXEYkghbuISAQp3EVEIkjhLiISQQp3EZEIGjLczazOzFrMrCmh7Ztm9ryZrTeze81satC+wMz2m9m64HZLLjsvIiKpZbLnfjtwVlLbWqDS3RcBLwBfTHjuRXdfHNwuzU43RURkOIYMd3d/DNiV1Pawu/cEDx8H5uWgbyIiMkLZqLlfDDyU8PhIM/uzmT1qZqelm8nMlptZo5k1tra2ZqEbIiLSJ1S4m9mXgB7gzqCpGTjc3U8A/hX4oZmVpprX3Ve5e5W7V5WXl4fphoiIJBlxuJvZJ4EPAp/w4Bs/3L3T3XcG958EXgTenoV+iojIMIwo3M3sLOALwLnuvi+hvdzMioL7RwHHAFuy0VEREclc8VATmNldwBnATDPbCnyV+OiYccBaMwN4PBgZczpwrZl1A73Ape6+K+ULi4hIzgwZ7u5+QYrm29JMezdwd9hOiYhIODpDVUQkghTuIiIRpHAXEYkghbuISAQp3EVEIkjhLiISQQp3EZEIUriLiESQwl1EJIIU7iIiEaRwFxGJIIW7iEgEKdxFRCJI4S4iEkEKdxGRCFK4i4hEkMJdRCSCFO4iIhGUUbibWZ2ZtZhZU0LbdDNba2abgp/TgnYzsxvNbLOZrTezE3PVeRERSS3TPffbgbOS2q4EHnH3Y4BHgscAZwPHBLflwM3huykiIsORUbi7+2PArqTm84DVwf3VwIcT2u/wuMeBqWZWkY3OiohIZsLU3Ge7e3Nw/zVgdnB/LvBKwnRbg7YBzGy5mTWaWWNra2uIboiISLKsHFB1dwd8mPOscvcqd68qLy/PRjdERCQQJty395Vbgp8tQfs2YH7CdPOCNhERyZMw4X4/sCy4vwz4SUL7RcGomZOBtoTyjYiI5EFxJhOZ2V3AGcBMM9sKfBX4OlBvZpcALwPVweQPAucAm4F9wKey3GcRERlCRuHu7hekeWppimkd+FyYTomISDg6Q1VEJIIU7iIiEaRwFxGJIIW7iEgEKdxFRCJI4S4iEkEKdxGRCFK4i4hEkMJdRCSCFO4iIhGkcBcRiSCFu4hIBCncRUQiSOEuIhJBCncRkQhSuIuIRJDCXUQkghTuIiIRlNHX7KViZguBNQlNRwFXA1OBTwOtQftV7v7giHsoIiLDNuJwd/eNwGIAMysCtgH3Ev9C7BvcvTYrPRQRkWHLVllmKfCiu7+cpdcTEZEQshXu5wN3JTxeaWbrzazOzKalmsHMlptZo5k1tra2pppERERGKHS4m9lY4Fzgv4Kmm4G3ES/ZNAPXp5rP3Ve5e5W7V5WXl4fthoiIJMjGnvvZwFPuvh3A3be7+wF37wW+B8SysAwRERmGbIT7BSSUZMysIuG5jwBNWViGiIgMw4hHywCY2STgfcCKhObrzGwx4MBLSc+JiEgehAp3d38DmJHUdmGoHomISGg6Q1VEJIIU7iIiEaRwFxGJIIW7iEgEKdxFRCJI4S4iEkEKdxGRCFK4i4hEkMJdRCSCFO4iIhGkcBcRiSCFu4hIBCncRUQiSOEuIhJBCncRkQhSuIuIRJDCXUQkghTuIiIRFOpr9gDM7CVgD3AA6HH3KjObDqwBFhD/HtVqd3897LJERCQz2dpz/zt3X+zuVcHjK4FH3P0Y4JHgsYiI5EmuyjLnAauD+6uBD+doOSIikkI2wt2Bh83sSTNbHrTNdvfm4P5rwOzkmcxsuZk1mllja2trFrohIiJ9QtfcgVPdfZuZzQLWmtnziU+6u5uZJ8/k7quAVQBVVVWDnhcRkZELvefu7tuCny3AvUAM2G5mFQDBz5awyxERkcyFCnczm2RmU/ruA2cCTcD9wLJgsmXAT8IsR0REhidsWWY2cK+Z9b3WD93952b2J6DezC4BXgaqQy5HRESGIVS4u/sW4PgU7TuBpWFeW0RERk5nqIqIRJDCXUQkghTuIiIRpHAXEYkghbuISAQp3EVEIkjhLiISQQp3EZEIUriLiESQwl1EJIIU7iIiEaRwFxGJIIW7iEgEKdxFRCJI4S4iEkEKdxGRCFK4i4hEkMJdRCSCRhzuZjbfzH5tZs+Z2bNmdlnQfo2ZbTOzdcHtnOx1V0REMhHmO1R7gCvc/SkzmwI8aWZrg+ducPfa8N0TEZGRGHG4u3sz0Bzc32NmG4C52eqYiIiMXFZq7ma2ADgBeCJoWmlm682szsymZWMZIiKSudDhbmaTgbuBy929HbgZeBuwmPie/fVp5ltuZo1m1tja2hq2GyIikiBUuJtZCfFgv9Pd7wFw9+3ufsDde4HvAbFU87r7Knevcveq8vLyMN0QEZEkYUbLGHAbsMHdv5XQXpEw2UeAppF3T0RERiLMaJlTgAuBZ8xsXdB2FXCBmS0GHHgJWBGqhyIiMmxhRsv8DrAUTz048u6IiEg26AxVEZEIUriLiESQwl1EJIIU7iIiEaRwFxGJIIW7iEgEKdxFRCJI4S4iEkEKdxGRCFK4i4hEkMJdRCSCFO4iIhGkcBcRiSCFu4hIBCncRUQiSOEuIhJBCncRkQhSuIuIRJDCXUQkgnIW7mZ2lpltNLPNZnZlrpYjIiKD5STczawIuAk4G3gncIGZvTMXyxIRkcFyteceAza7+xZ37wJ+BJyXo2WJiEiS4hy97lzglYTHW4GTEicws+XA8uDhXjPbGGJ5M4EdIebPNfUvHPUvHPUvnEO5f0ekeyJX4T4kd18FrMrGa5lZo7tXZeO1ckH9C0f9C0f9C+dQ7186uSrLbAPmJzyeF7SJiEge5Crc/wQcY2ZHmtlY4Hzg/hwtS0REkuSkLOPuPWa2EvgFUATUufuzuVhWICvlnRxS/8JR/8JR/8I51PuXkrl7ofsgIiJZpjNURUQiSOEuIhJBoybch7qcgZmNM7M1wfNPmNmCPPZtvpn92syeM7NnzeyyFNOcYWZtZrYuuF2dr/4l9OElM3smWH5jiufNzG4M1uF6MzsxT/1amLBe1plZu5ldnjRN3tefmdWZWYuZNSW0TTeztWa2Kfg5Lc28y4JpNpnZsjz275tm9nzw97vXzKammfeg20IO+3eNmW1L+Duek2benF++JE3/1iT07SUzW5dm3pyvv9Dc/ZC/ET8o+yJwFDAWeBp4Z9I0nwVuCe6fD6zJY/8qgBOD+1OAF1L07wzggQKvx5eAmQd5/hzgIcCAk4EnCvS3fg04otDrDzgdOBFoSmi7DrgyuH8l8I0U800HtgQ/pwX3p+Wpf2cCxcH9b6TqXybbQg77dw1Qk8E2cND/91z1L+n564GrC7X+wt5Gy557JpczOA9YHdz/MbDUzCwfnXP3Znd/Kri/B9hA/Czd0eY84A6PexyYamYVee7DUuBFd385z8sdxN0fA3YlNSduZ6uBD6eY9f3AWnff5e6vA2uBs/LRP3d/2N17goePEz/HpCDSrL9M5OXyJQfrX5Ad1cBd2V5uvoyWcE91OYPk8OyfJti424AZeeldgqAcdALwRIqn321mT5vZQ2Z2XF47FufAw2b2ZHD5h2SZrOdcO5/0/1CFXn8As929Obj/GjA7xTSHwnoEuJj4J7FUhtoWcmllUDaqS1PWOhTW32nAdnfflOb5Qq6/jIyWcB8VzGwycDdwubu3Jz39FPFSw/HAd4D78t0/4FR3P5H41To/Z2anF6APaQUnvJ0L/FeKpw+F9TeAxz+fH5Jjic3sS0APcGeaSQq1LdwMvA1YDDQTL30cii7g4Hvth/T/EoyecM/kcgb905hZMVAG7MxL7+LLLCEe7He6+z3Jz7t7u7vvDe4/CJSY2cx89S9Y7rbgZwtwL/GPv4kKfdmIs4Gn3H178hOHwvoLbO8rVQU/W1JMU9D1aGafBD4IfCJ4Axokg20hJ9x9u7sfcPde4Htpllvo9VcMfBRYk26aQq2/4Rgt4Z7J5QzuB/pGJXwM+FW6DTvbgvrcbcAGd/9Wmmnm9B0DMLMY8XWfzzefSWY2pe8+8QNvTUmT3Q9cFIyaORloSyhB5EPavaVCr78EidvZMuAnKab5BXCmmU0Lyg5nBm05Z2ZnAV8AznX3fWmmyWRbyFX/Eo/hfCTNcgt9+ZL3As+7+9ZUT0DpuSIAAADxSURBVBZy/Q1LoY/oZnojPpLjBeJH0b8UtF1LfCMGGE/84/xmoAE4Ko99O5X4x/P1wLrgdg5wKXBpMM1K4FniR/4fB/42z+vvqGDZTwf96FuHiX004l+y8iLwDFCVx/5NIh7WZQltBV1/xN9omoFu4nXfS4gfx3kE2AT8EpgeTFsFfD9h3ouDbXEz8Kk89m8z8Xp133bYN4LsMODBg20LeerfD4Jtaz3xwK5I7l/weND/ez76F7Tf3rfdJUyb9/UX9qbLD4iIRNBoKcuIiMgwKNxFRCJI4S4iEkEKdxGRCFK4i4hEkMJdRCSCFO4iIhH03yfX+D4y/XByAAAAAElFTkSuQmCC\n",
                "text/plain": "<Figure size 432x288 with 1 Axes>"
              }
            ],
            "_view_module": "@jupyter-widgets/output",
            "_model_module_version": "1.0.0",
            "_view_count": null,
            "_view_module_version": "1.0.0",
            "layout": "IPY_MODEL_817f0bf60595483a924b0482d0b0e55b",
            "_model_module": "@jupyter-widgets/output"
          }
        },
        "a70e04e251fb4788ae4873a93976aa60": {
          "model_module": "@jupyter-widgets/controls",
          "model_name": "SliderStyleModel",
          "state": {
            "_view_name": "StyleView",
            "handle_color": null,
            "_model_name": "SliderStyleModel",
            "description_width": "",
            "_view_module": "@jupyter-widgets/base",
            "_model_module_version": "1.5.0",
            "_view_count": null,
            "_view_module_version": "1.2.0",
            "_model_module": "@jupyter-widgets/controls"
          }
        },
        "8e5ed16d86bd414fbd58d74738dff8b3": {
          "model_module": "@jupyter-widgets/base",
          "model_name": "LayoutModel",
          "state": {
            "_view_name": "LayoutView",
            "grid_template_rows": null,
            "right": null,
            "justify_content": null,
            "_view_module": "@jupyter-widgets/base",
            "overflow": null,
            "_model_module_version": "1.2.0",
            "_view_count": null,
            "flex_flow": null,
            "width": null,
            "min_width": null,
            "border": null,
            "align_items": null,
            "bottom": null,
            "_model_module": "@jupyter-widgets/base",
            "top": null,
            "grid_column": null,
            "overflow_y": null,
            "overflow_x": null,
            "grid_auto_flow": null,
            "grid_area": null,
            "grid_template_columns": null,
            "flex": null,
            "_model_name": "LayoutModel",
            "justify_items": null,
            "grid_row": null,
            "max_height": null,
            "align_content": null,
            "visibility": null,
            "align_self": null,
            "height": null,
            "min_height": null,
            "padding": null,
            "grid_auto_rows": null,
            "grid_gap": null,
            "max_width": null,
            "order": null,
            "_view_module_version": "1.2.0",
            "grid_template_areas": null,
            "object_position": null,
            "object_fit": null,
            "grid_auto_columns": null,
            "margin": null,
            "display": null,
            "left": null
          }
        },
        "72fea3834b004ce09ab34121515b5827": {
          "model_module": "@jupyter-widgets/controls",
          "model_name": "SliderStyleModel",
          "state": {
            "_view_name": "StyleView",
            "handle_color": null,
            "_model_name": "SliderStyleModel",
            "description_width": "",
            "_view_module": "@jupyter-widgets/base",
            "_model_module_version": "1.5.0",
            "_view_count": null,
            "_view_module_version": "1.2.0",
            "_model_module": "@jupyter-widgets/controls"
          }
        },
        "b400b5171297432896bbda763bc39480": {
          "model_module": "@jupyter-widgets/base",
          "model_name": "LayoutModel",
          "state": {
            "_view_name": "LayoutView",
            "grid_template_rows": null,
            "right": null,
            "justify_content": null,
            "_view_module": "@jupyter-widgets/base",
            "overflow": null,
            "_model_module_version": "1.2.0",
            "_view_count": null,
            "flex_flow": null,
            "width": null,
            "min_width": null,
            "border": null,
            "align_items": null,
            "bottom": null,
            "_model_module": "@jupyter-widgets/base",
            "top": null,
            "grid_column": null,
            "overflow_y": null,
            "overflow_x": null,
            "grid_auto_flow": null,
            "grid_area": null,
            "grid_template_columns": null,
            "flex": null,
            "_model_name": "LayoutModel",
            "justify_items": null,
            "grid_row": null,
            "max_height": null,
            "align_content": null,
            "visibility": null,
            "align_self": null,
            "height": null,
            "min_height": null,
            "padding": null,
            "grid_auto_rows": null,
            "grid_gap": null,
            "max_width": null,
            "order": null,
            "_view_module_version": "1.2.0",
            "grid_template_areas": null,
            "object_position": null,
            "object_fit": null,
            "grid_auto_columns": null,
            "margin": null,
            "display": null,
            "left": null
          }
        },
        "e4e8dae915b54354bc46a91b142a31fc": {
          "model_module": "@jupyter-widgets/controls",
          "model_name": "SliderStyleModel",
          "state": {
            "_view_name": "StyleView",
            "handle_color": null,
            "_model_name": "SliderStyleModel",
            "description_width": "",
            "_view_module": "@jupyter-widgets/base",
            "_model_module_version": "1.5.0",
            "_view_count": null,
            "_view_module_version": "1.2.0",
            "_model_module": "@jupyter-widgets/controls"
          }
        },
        "bc4f20c13375437d94e589cd42ddb737": {
          "model_module": "@jupyter-widgets/base",
          "model_name": "LayoutModel",
          "state": {
            "_view_name": "LayoutView",
            "grid_template_rows": null,
            "right": null,
            "justify_content": null,
            "_view_module": "@jupyter-widgets/base",
            "overflow": null,
            "_model_module_version": "1.2.0",
            "_view_count": null,
            "flex_flow": null,
            "width": null,
            "min_width": null,
            "border": null,
            "align_items": null,
            "bottom": null,
            "_model_module": "@jupyter-widgets/base",
            "top": null,
            "grid_column": null,
            "overflow_y": null,
            "overflow_x": null,
            "grid_auto_flow": null,
            "grid_area": null,
            "grid_template_columns": null,
            "flex": null,
            "_model_name": "LayoutModel",
            "justify_items": null,
            "grid_row": null,
            "max_height": null,
            "align_content": null,
            "visibility": null,
            "align_self": null,
            "height": null,
            "min_height": null,
            "padding": null,
            "grid_auto_rows": null,
            "grid_gap": null,
            "max_width": null,
            "order": null,
            "_view_module_version": "1.2.0",
            "grid_template_areas": null,
            "object_position": null,
            "object_fit": null,
            "grid_auto_columns": null,
            "margin": null,
            "display": null,
            "left": null
          }
        },
        "817f0bf60595483a924b0482d0b0e55b": {
          "model_module": "@jupyter-widgets/base",
          "model_name": "LayoutModel",
          "state": {
            "_view_name": "LayoutView",
            "grid_template_rows": null,
            "right": null,
            "justify_content": null,
            "_view_module": "@jupyter-widgets/base",
            "overflow": null,
            "_model_module_version": "1.2.0",
            "_view_count": null,
            "flex_flow": null,
            "width": null,
            "min_width": null,
            "border": null,
            "align_items": null,
            "bottom": null,
            "_model_module": "@jupyter-widgets/base",
            "top": null,
            "grid_column": null,
            "overflow_y": null,
            "overflow_x": null,
            "grid_auto_flow": null,
            "grid_area": null,
            "grid_template_columns": null,
            "flex": null,
            "_model_name": "LayoutModel",
            "justify_items": null,
            "grid_row": null,
            "max_height": null,
            "align_content": null,
            "visibility": null,
            "align_self": null,
            "height": null,
            "min_height": null,
            "padding": null,
            "grid_auto_rows": null,
            "grid_gap": null,
            "max_width": null,
            "order": null,
            "_view_module_version": "1.2.0",
            "grid_template_areas": null,
            "object_position": null,
            "object_fit": null,
            "grid_auto_columns": null,
            "margin": null,
            "display": null,
            "left": null
          }
        }
      }
    }
  },
  "cells": [
    {
      "cell_type": "markdown",
      "metadata": {
        "id": "view-in-github",
        "colab_type": "text"
      },
      "source": [
        "<a href=\"https://colab.research.google.com/github/ctarrington/data-science-hw/blob/master/kalman-filters/rlabbe/rlabbe_01_g_h_filter.ipynb\" target=\"_parent\"><img src=\"https://colab.research.google.com/assets/colab-badge.svg\" alt=\"Open In Colab\"/></a>"
      ]
    },
    {
      "cell_type": "code",
      "metadata": {
        "id": "r1DtwrCDOAOO",
        "colab_type": "code",
        "colab": {}
      },
      "source": [
        "import math\n",
        "\n",
        "import numpy as np\n",
        "\n",
        "from matplotlib.pyplot import plot\n",
        "from matplotlib import pyplot as plt\n",
        "\n",
        "from ipywidgets import fixed, interact\n",
        "import ipywidgets as widgets\n"
      ],
      "execution_count": 17,
      "outputs": []
    },
    {
      "cell_type": "code",
      "metadata": {
        "id": "j6MBGj2gmlF7",
        "colab_type": "code",
        "colab": {}
      },
      "source": [
        "def data_and_noise(x0 = 0, x_dot = 1, std = 1, count = 20):\n",
        "  xs = np.array([x0 + t * x_dot for t in range(count)])\n",
        "  noise = np.array(np.random.normal(0, std, count))\n",
        "  return (xs, xs + noise)\n",
        "  "
      ],
      "execution_count": 3,
      "outputs": []
    },
    {
      "cell_type": "code",
      "metadata": {
        "id": "rqlooWNdLwuF",
        "colab_type": "code",
        "colab": {}
      },
      "source": [
        "def g_h_filter(zs, x0, x_dot0, g, h, dt):\n",
        "  x = x0\n",
        "  x_dot = x_dot0\n",
        "\n",
        "  estimates = []\n",
        "  for z in zs:\n",
        "    predicted_x = x + x_dot * dt\n",
        "\n",
        "    residual = z - predicted_x\n",
        "    x = predicted_x + g * residual\n",
        "    x_dot = x_dot + h * residual / dt\n",
        "\n",
        "    estimates.append(x)\n",
        "\n",
        "  return np.array(estimates)\n",
        "\n"
      ],
      "execution_count": 4,
      "outputs": []
    },
    {
      "cell_type": "code",
      "metadata": {
        "id": "z1ASj20IHCLh",
        "colab_type": "code",
        "colab": {}
      },
      "source": [
        "def show_scenario(g, h, x0, actuals, weights):\n",
        "  estimates = g_h_filter(weights, x0, 1, g, h, 1)\n",
        "\n",
        "  plot(actuals, label='Actual')\n",
        "  plot(weights, 'o', label='Measurements')\n",
        "  plot(estimates, 'x', label='Estimates')\n",
        "  plt.title('g: {}'.format(g))\n",
        "  plt.ylim(bottom=0, top=200)\n",
        "  plt.show()"
      ],
      "execution_count": 32,
      "outputs": []
    },
    {
      "cell_type": "code",
      "metadata": {
        "id": "OFcN6rDGHe4Z",
        "colab_type": "code",
        "colab": {
          "base_uri": "https://localhost:8080/",
          "height": 394,
          "referenced_widgets": [
            "3954b785bf11428faa2097be3b3c3e41",
            "08508579da974c488ca63569293aaf83",
            "ca500eb4361b48b198f28480d0b4c375",
            "d765e41548fd4aef8d6890705986e2e3",
            "36d6bc52c791450d95bc939f397167e8",
            "0af6b0e879374469ba388611bd4d2b5c",
            "a70e04e251fb4788ae4873a93976aa60",
            "8e5ed16d86bd414fbd58d74738dff8b3",
            "72fea3834b004ce09ab34121515b5827",
            "b400b5171297432896bbda763bc39480",
            "e4e8dae915b54354bc46a91b142a31fc",
            "bc4f20c13375437d94e589cd42ddb737",
            "817f0bf60595483a924b0482d0b0e55b"
          ]
        },
        "outputId": "df4dbab4-8018-4520-aafe-4f75a527a77f"
      },
      "source": [
        "actuals, weights = data_and_noise(x0=160, x_dot=1, std=3, count=20)\n",
        "interact(show_scenario,\n",
        "         g=widgets.FloatSlider(min=0., max=1.),\n",
        "         h=widgets.FloatSlider(min=0., max=1.),\n",
        "         x0=widgets.IntSlider(min=0, max=200),\n",
        "         actuals=fixed(actuals),\n",
        "         weights=fixed(weights))"
      ],
      "execution_count": 33,
      "outputs": [
        {
          "output_type": "display_data",
          "data": {
            "application/vnd.jupyter.widget-view+json": {
              "model_id": "3954b785bf11428faa2097be3b3c3e41",
              "version_minor": 0,
              "version_major": 2
            },
            "text/plain": [
              "interactive(children=(FloatSlider(value=0.0, description='g', max=1.0), FloatSlider(value=0.0, description='h'…"
            ]
          },
          "metadata": {
            "tags": []
          }
        },
        {
          "output_type": "execute_result",
          "data": {
            "text/plain": [
              "<function __main__.show_scenario>"
            ]
          },
          "metadata": {
            "tags": []
          },
          "execution_count": 33
        }
      ]
    },
    {
      "cell_type": "code",
      "metadata": {
        "id": "NwR6lxvhOJ4y",
        "colab_type": "code",
        "colab": {}
      },
      "source": [
        "actuals, weights = data_and_noise(x0=160, x_dot=1, std=3, count=20)"
      ],
      "execution_count": 6,
      "outputs": []
    },
    {
      "cell_type": "code",
      "metadata": {
        "id": "04sB4j5pOMvC",
        "colab_type": "code",
        "colab": {
          "base_uri": "https://localhost:8080/",
          "height": 529
        },
        "outputId": "1604efa6-92bb-4c1d-c8b2-3babcaaaf251"
      },
      "source": [
        "h = 2./3\n",
        "figure, subplots = plt.subplots(2, 3, sharex=True, sharey=True, figsize=(9, 7), constrained_layout=True)\n",
        "\n",
        "for raw_g in range(0, 12, 2):\n",
        "  g = raw_g/10\n",
        "  plot_number = math.floor(raw_g/2)\n",
        "  row_index = math.floor(plot_number/3)\n",
        "  column_index = plot_number % 3\n",
        "  estimates = g_h_filter(weights, 160, 1, g, h, 1)\n",
        "  subplots[row_index, column_index].plot(actuals, label='Actual')\n",
        "  subplots[row_index, column_index].plot(weights, 'o', label='Measurements')\n",
        "  subplots[row_index, column_index].plot(estimates, 'x', label='Estimates')\n",
        "  subplots[row_index, column_index].set_title('g: {}'.format(g))\n",
        "plt.show()"
      ],
      "execution_count": 7,
      "outputs": [
        {
          "output_type": "display_data",
          "data": {
            "image/png": "[encoded data removed]",
            "text/plain": [
              "<Figure size 648x504 with 6 Axes>"
            ]
          },
          "metadata": {
            "tags": [],
            "needs_background": "light"
          }
        }
      ]
    },
    {
      "cell_type": "code",
      "metadata": {
        "id": "c6VGEMwXUoEZ",
        "colab_type": "code",
        "colab": {}
      },
      "source": [
        ""
      ],
      "execution_count": 7,
      "outputs": []
    }
  ]
}