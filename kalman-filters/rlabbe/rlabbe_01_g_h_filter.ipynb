{
  "nbformat": 4,
  "nbformat_minor": 0,
  "metadata": {
    "colab": {
      "name": "rlabbe_01_g_h_filter.ipynb",
      "provenance": [],
      "authorship_tag": "ABX9TyOW0bK+bOHXW2NTpdhfnMRL",
      "include_colab_link": true
    },
    "kernelspec": {
      "name": "python3",
      "display_name": "Python 3"
    }
  },
  "cells": [
    {
      "cell_type": "markdown",
      "metadata": {
        "id": "view-in-github",
        "colab_type": "text"
      },
      "source": [
        "<a href=\"https://colab.research.google.com/github/ctarrington/data-science-hw/blob/master/kalman-filters/rlabbe/rlabbe_01_g_h_filter.ipynb\" target=\"_parent\"><img src=\"https://colab.research.google.com/assets/colab-badge.svg\" alt=\"Open In Colab\"/></a>"
      ]
    },
    {
      "cell_type": "code",
      "metadata": {
        "id": "r1DtwrCDOAOO",
        "colab_type": "code",
        "colab": {}
      },
      "source": [
        "import numpy as np"
      ],
      "execution_count": 1,
      "outputs": []
    },
    {
      "cell_type": "code",
      "metadata": {
        "id": "rqlooWNdLwuF",
        "colab_type": "code",
        "colab": {}
      },
      "source": [
        "def g_h_filter(zs, x0, x_dot0, g, h, dt):\n",
        "  x = x0\n",
        "  x_dot = x_dot0\n",
        "\n",
        "  estimates = []\n",
        "  for z in zs:\n",
        "    predicted_x = x + x_dot * dt\n",
        "\n",
        "    residual = z - predicted_x\n",
        "    x = predicted_x + g * residual\n",
        "    x_dot = x_dot + h * residual / dt\n",
        "\n",
        "    estimates.append(x)\n",
        "\n",
        "  return np.array(estimates)\n",
        "\n"
      ],
      "execution_count": 2,
      "outputs": []
    },
    {
      "cell_type": "code",
      "metadata": {
        "id": "NwR6lxvhOJ4y",
        "colab_type": "code",
        "colab": {}
      },
      "source": [
        "weights = [158.0, 164.2, 160.3, 159.9, 162.1, 164.6, \n",
        "           169.6, 167.4, 166.4, 171.0, 171.2, 172.6]"
      ],
      "execution_count": 3,
      "outputs": []
    },
    {
      "cell_type": "code",
      "metadata": {
        "id": "04sB4j5pOMvC",
        "colab_type": "code",
        "colab": {}
      },
      "source": [
        "estimates = g_h_filter(weights, 160, 1, .6, 2./3, 1)"
      ],
      "execution_count": 4,
      "outputs": []
    },
    {
      "cell_type": "code",
      "metadata": {
        "id": "kh4wBkT_Ojdy",
        "colab_type": "code",
        "colab": {
          "base_uri": "https://localhost:8080/",
          "height": 68
        },
        "outputId": "0810021c-c175-457f-e180-ecc2715ada1e"
      },
      "source": [
        "print(estimates)"
      ],
      "execution_count": 5,
      "outputs": [
        {
          "output_type": "stream",
          "text": [
            "[159.2        161.8        162.1        160.78       160.98533333\n",
            " 163.31057778 168.10029037 169.69598183 168.20360386 169.1642501\n",
            " 170.89234186 172.62868399]\n"
          ],
          "name": "stdout"
        }
      ]
    },
    {
      "cell_type": "code",
      "metadata": {
        "id": "2VyDfaOIOy8z",
        "colab_type": "code",
        "colab": {}
      },
      "source": [
        ""
      ],
      "execution_count": null,
      "outputs": []
    }
  ]
}