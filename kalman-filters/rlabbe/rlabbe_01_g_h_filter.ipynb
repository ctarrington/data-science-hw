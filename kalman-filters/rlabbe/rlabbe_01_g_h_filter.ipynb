{
  "nbformat": 4,
  "nbformat_minor": 0,
  "metadata": {
    "colab": {
      "name": "rlabbe_01_g_h_filter.ipynb",
      "provenance": [],
      "include_colab_link": true
    },
    "kernelspec": {
      "name": "python3",
      "display_name": "Python 3"
    },
    "widgets": {
      "application/vnd.jupyter.widget-state+json": {
        "d461646d5fc243678529303eff2ade67": {
          "model_module": "@jupyter-widgets/controls",
          "model_name": "VBoxModel",
          "state": {
            "_view_name": "VBoxView",
            "_dom_classes": [
              "widget-interact"
            ],
            "_model_name": "VBoxModel",
            "_view_module": "@jupyter-widgets/controls",
            "_model_module_version": "1.5.0",
            "_view_count": null,
            "_view_module_version": "1.5.0",
            "box_style": "",
            "layout": "IPY_MODEL_768450a28ad94f03bbf040950429838e",
            "_model_module": "@jupyter-widgets/controls",
            "children": [
              "IPY_MODEL_2ec535fab2184355a7ee8c3f0bae4a30",
              "IPY_MODEL_bcb9c482599a48a3a4217e4f63bab7cb",
              "IPY_MODEL_6654279968da484ea0732eebd013867b",
              "IPY_MODEL_1fda7183e5204d7f8d56bc80c1a43dcc"
            ]
          }
        },
        "768450a28ad94f03bbf040950429838e": {
          "model_module": "@jupyter-widgets/base",
          "model_name": "LayoutModel",
          "state": {
            "_view_name": "LayoutView",
            "grid_template_rows": null,
            "right": null,
            "justify_content": null,
            "_view_module": "@jupyter-widgets/base",
            "overflow": null,
            "_model_module_version": "1.2.0",
            "_view_count": null,
            "flex_flow": null,
            "width": null,
            "min_width": null,
            "border": null,
            "align_items": null,
            "bottom": null,
            "_model_module": "@jupyter-widgets/base",
            "top": null,
            "grid_column": null,
            "overflow_y": null,
            "overflow_x": null,
            "grid_auto_flow": null,
            "grid_area": null,
            "grid_template_columns": null,
            "flex": null,
            "_model_name": "LayoutModel",
            "justify_items": null,
            "grid_row": null,
            "max_height": null,
            "align_content": null,
            "visibility": null,
            "align_self": null,
            "height": null,
            "min_height": null,
            "padding": null,
            "grid_auto_rows": null,
            "grid_gap": null,
            "max_width": null,
            "order": null,
            "_view_module_version": "1.2.0",
            "grid_template_areas": null,
            "object_position": null,
            "object_fit": null,
            "grid_auto_columns": null,
            "margin": null,
            "display": null,
            "left": null
          }
        },
        "2ec535fab2184355a7ee8c3f0bae4a30": {
          "model_module": "@jupyter-widgets/controls",
          "model_name": "FloatSliderModel",
          "state": {
            "_view_name": "FloatSliderView",
            "style": "IPY_MODEL_dbfbf43a23fd4a1fb390811986523a3c",
            "_dom_classes": [],
            "description": "g",
            "step": 0.1,
            "_model_name": "FloatSliderModel",
            "orientation": "horizontal",
            "max": 1,
            "_view_module": "@jupyter-widgets/controls",
            "_model_module_version": "1.5.0",
            "value": 0.4,
            "_view_count": null,
            "disabled": false,
            "_view_module_version": "1.5.0",
            "min": 0,
            "continuous_update": true,
            "readout_format": ".2f",
            "description_tooltip": null,
            "readout": true,
            "_model_module": "@jupyter-widgets/controls",
            "layout": "IPY_MODEL_94969d7cd32f4e88adcbba4001ed581c"
          }
        },
        "bcb9c482599a48a3a4217e4f63bab7cb": {
          "model_module": "@jupyter-widgets/controls",
          "model_name": "FloatSliderModel",
          "state": {
            "_view_name": "FloatSliderView",
            "style": "IPY_MODEL_8fab566be2144017a431ec6037eee473",
            "_dom_classes": [],
            "description": "h",
            "step": 0.1,
            "_model_name": "FloatSliderModel",
            "orientation": "horizontal",
            "max": 1,
            "_view_module": "@jupyter-widgets/controls",
            "_model_module_version": "1.5.0",
            "value": 0.6,
            "_view_count": null,
            "disabled": false,
            "_view_module_version": "1.5.0",
            "min": 0,
            "continuous_update": true,
            "readout_format": ".2f",
            "description_tooltip": null,
            "readout": true,
            "_model_module": "@jupyter-widgets/controls",
            "layout": "IPY_MODEL_c457e125c77748ef9e4708667a26be5f"
          }
        },
        "6654279968da484ea0732eebd013867b": {
          "model_module": "@jupyter-widgets/controls",
          "model_name": "IntSliderModel",
          "state": {
            "_view_name": "IntSliderView",
            "style": "IPY_MODEL_c4cee49575c045048d8decbcc8105a63",
            "_dom_classes": [],
            "description": "x0",
            "step": 1,
            "_model_name": "IntSliderModel",
            "orientation": "horizontal",
            "max": 200,
            "_view_module": "@jupyter-widgets/controls",
            "_model_module_version": "1.5.0",
            "value": 112,
            "_view_count": null,
            "disabled": false,
            "_view_module_version": "1.5.0",
            "min": 0,
            "continuous_update": true,
            "readout_format": "d",
            "description_tooltip": null,
            "readout": true,
            "_model_module": "@jupyter-widgets/controls",
            "layout": "IPY_MODEL_b105e3f2ff6941069b0a707563fcbbce"
          }
        },
        "1fda7183e5204d7f8d56bc80c1a43dcc": {
          "model_module": "@jupyter-widgets/output",
          "model_name": "OutputModel",
          "state": {
            "_view_name": "OutputView",
            "msg_id": "",
            "_dom_classes": [],
            "_model_name": "OutputModel",
            "outputs": [
              {
                "output_type": "display_data",
                "metadata": {
                  "tags": [],
                  "needs_background": "light"
                },
                "image/png": "iVBORw0KGgoAAAANSUhEUgAAAXcAAAEICAYAAACktLTqAAAABHNCSVQICAgIfAhkiAAAAAlwSFlzAAALEgAACxIB0t1+/AAAADh0RVh0U29mdHdhcmUAbWF0cGxvdGxpYiB2ZXJzaW9uMy4yLjIsIGh0dHA6Ly9tYXRwbG90bGliLm9yZy+WH4yJAAAgAElEQVR4nO3dd3hUVfrA8e+bQgIhtAAhlJCiAlISmiBNIyqICFaERVfWgqw/XF07ugi6usuCa90Vl7WALosgCuraQARRinQEpUgggYQYeiCUQJL398edhEkjk0wKDO/neeaZO+e2MzeTd86ce4qoKsYYY3yLX3VnwBhjTMWz4G6MMT7IgrsxxvggC+7GGOODLLgbY4wPsuBujDE+yIK7Mcb4IAvuxpRCRH4jIskiclRE5opIAw/2+a2IqIjcXRV5NKYwC+7GnIGItAX+BdwOhAPHgNdL2ac+8CTwU6Vn0JgSWHA3Pk9EOonIWhE5IiIfiMhMEXnOw92HA5+q6mJVzQTGAjeKSOgZ9vkr8Cqwz8usG1NuFtyNTxORGsAcYCrQAJgB3FBom0Mi0quEQ7QF1ue9UNVE4CRwUQnnuwToArzhbd6N8UZAdWfAmErWHedz/qo6Ayl9JCIr3DdQ1Xpn2L82kFEoLQMoUnIXEX+cKpvRqporIl5l3BhvWMnd+LqmQKoWHCFvVxn2zwTqFEqrAxwpZtv7gB9VdXnZsmhMxbOSu/F1aUAzERG3AN8CSPRw/5+AuLwXIhIDBAFbi9m2L3CZiAxwvW4AdBSReFUdXa7cG1NOVnI3vm4ZkAOMFpEAERkMXFKG/acD14lIbxEJAZ4FPlLV4kruI4A2QLzrsQp4BnjKi/wbUy4W3I1PU9WTwI3AXcAh4Dbgf0BW3jYikikivUvY/ydgFE6Q34NT136f275fiMiTrm0PqeqveQ+cG6+HVbVwnb0xlU5ssg5zvhGRH4A3VPWd6s6LMZXFSu7G54nIZSLSxFUtcwfQAfiyuvNlTGUqNbiLSAsRWSgiP4vITyLygCu9gYjMF5FfXM/1XekiIq+KyDYR+VFEOlX2mzCmFK1w2qofAh4GblbVtOrNkjGVq9RqGRGJACJUdY2rV95q4Hqcm0cHVHWCiDwB1FfVx10tBe4HBgDdgFdUtVtlvgljjDEFlVpyV9U0VV3jWj4CbAKaAYOBaa7NpuEEfFzp76pjOVDP9QVhjDGmipSpnbuIRAEdgR+AcLeftr/iDKoETuB37ySS4kor8DNYREYCIwFCQkI6t27duoxZN8aY89vq1av3qWqj4tZ5HNxFpDbwIfCgqh5271qtqioiZWp2o6pTgCkAXbp00VWrVpVld2OMOe+JSHJJ6zxqLSMigTiBfbqqfuRKTs+rbnE973Glp+L0AMzT3JVmjDGminjSWkaAt4BNqvqi26pPgDtcy3cAH7ul/9bVaqY7kGEtE4wxpmp5Ui3TE2eigg0iss6V9iQwAZglIncBycAQ17rPcVrKbMOZ2OB3FZpjY4wxpSo1uKvq90BJY5f2LWZ7Bf7Py3wZYyrJqVOnSElJ4cSJE9WdFeOh4OBgmjdvTmBgoMf72KiQxpxnUlJSCA0NJSoqChtz/uynquzfv5+UlBSio6M93s+GHzDmPHPixAnCwsIssJ8jRISwsLAy/9Ky4G7MecgC+7mlPH8vC+7GGOODLLgbY6rF3LlzERE2b958xu1efvlljh07Vu7zTJ06ldGjz7+JsCy4G2OqxYwZM+jVqxczZsw443beBvfzlQV3Y0yVy8zM5Pvvv+ett97i/fffByAnJ4dHHnmEdu3a0aFDB1577TVeffVVdu/eTUJCAgkJCQDUrl07/zizZ89mxIgRAHz66ad069aNjh07cuWVV5Kenl7l7+tsYk0hjTmPPfggrFtX+nZlER8PL7985m0+/vhj+vfvz0UXXURYWBirV69mxYoVJCUlsW7dOgICAjhw4AANGjTgxRdfZOHChTRs2PCMx+zVqxfLly9HRHjzzTeZOHEif//73yvwnZ1bLLgbY6rcjBkzeOCBBwAYOnQoM2bMYMeOHYwaNYqAACcsNWjQoEzHTElJ4dZbbyUtLY2TJ0+WqU24L7Lgbsx5rLQSdmU4cOAA33zzDRs2bEBEyMnJQUTo2rWrR/u7Nwt0b/t9//3389BDDzFo0CAWLVrE+PHjKzrr5xSrczfGVKnZs2dz++23k5ycTFJSErt27SI6Opq4uDj+9a9/kZ2dDThfAgChoaEcOXIkf//w8HA2bdpEbm4uc+bMyU/PyMigWbNmAEybNo3znQV3Y0yVmjFjBjfccEOBtJtuuom0tDQiIyPp0KEDcXFx/Pe//wVg5MiR9O/fP/+G6oQJExg4cCA9evQgIuL0JG/jx4/nlltuoXPnzqXWz58PSp1DtSrYZB3GVJ1NmzbRpk2b6s6GKaPi/m4islpVuxS3vZXcjTHGB1lwN8YYH2TB3RhjfJAFd2OM8UEW3I0xxgd5MkH22yKyR0Q2uqXNFJF1rkdS3tyqIhIlIsfd1r1RmZk3xhhTPE9K7lOB/u4JqnqrqsarajzwIfCR2+rEvHWqOqrismqM8RUiwm233Zb/Ojs7m0aNGjFw4MBqzFXVWbRoEUuXLq3Uc5Qa3FV1MXCguHXi9AMeApx5zE5jzDlreno6UcuW4bdoEVHLljG9AkZbDAkJYePGjRw/fhyA+fPn5/curWp5PWKr0lkR3EvRG0hX1V/c0qJFZK2IfCsivb08vjGmGk1PT2fkli0kZ2WhQHJWFiO3bKmQAD9gwAA+++wzwOm1OmzYsPx1R48e5c477+SSSy6hY8eOfPzxxwAkJSXRu3dvOnXqRKdOnfIDZFpaGn369CE+Pp527drx3XffASUPDzxixAhGjRpFt27deOyxx0hMTKR///507tyZ3r17508gMmLECH7/+9/TvXt3YmJiWLRoEXfeeSdt2rTJPxbAvHnzuPTSS+nUqRO33HILmZmZAERFRTFu3Dg6depE+/bt2bx5M0lJSbzxxhu89NJLxMfH89133/HBBx/Qrl074uLi6NOnj9fXFnBm1i7tAUQBG4tJnww87PY6CAhzLXcGdgF1SjjmSGAVsCoyMlKNMVXj559/9njblkuXKgsXFnm0XLrUqzyEhITo+vXr9aabbtLjx49rXFycLly4UK+99lpVVR0zZoy+9957qqp68OBBvfDCCzUzM1OPHj2qx48fV1XVrVu3aufOnVVV9YUXXtDnnntOVVWzs7P18OHD+efJ88EHH+gdd9yhqqp33HGHXnvttZqdna2qqldccYVu3bpVVVWXL1+uCQkJ+dvdeuutmpubq3PnztXQ0FD98ccfNScnRzt16qRr167VvXv3au/evTUzM1NVVSdMmKDPPPOMc/1attRXX31VVVX/+c9/6l133aWqquPGjdNJkybl561du3aakpKS/36LU9zfDVilJcTtco8KKSIBwI2uIJ73RZEFZLmWV4tIInCRK4gX/lKZAkwBZ/iB8ubDGFN5dmZllSm9LDp06EBSUhIzZsxgwIABBdbNmzePTz75hBdeeAFwRn/cuXMnTZs2ZfTo0axbtw5/f3+2bt0KQNeuXbnzzjs5deoU119/PfHx8aWe/5ZbbsHf35/MzEyWLl3KLbfckr8uy+39XXfddYgI7du3Jzw8nPbt2wPQtm1bkpKSSElJ4eeff6Znz54AnDx5kksvvTR//xtvvBGAzp0789FH7rcnT+vZsycjRoxgyJAh+dt7y5shf68ENqtqSl6CiDQCDqhqjojEABcC273MozGmmkQGBZFcTCCPDAqqkOMPGjSIRx55hEWLFrF///78dFXlww8/pFWrVgW2Hz9+POHh4axfv57c3FyCg4MB6NOnD4sXL+azzz5jxIgRPPTQQ/z2t78tcXhgcOr9AXJzc6lXrx7rSpi1JMj1Xv38/PKX815nZ2fj7+/PVVddVeJ0gXn7+Pv7l1i//8Ybb/DDDz/w2Wef0blzZ1avXk1YWFix23rKk6aQM4BlQCsRSRGRu1yrhlL0Rmof4EdX08jZwChVLfZmrDHm7Pd8TAy1/AqGiVp+fjwfE1Mhx7/zzjsZN25cfmk4T79+/XjttdfyqnBZu3Yt4AzrGxERgZ+fH++99x45OTkAJCcnEx4ezj333MPdd9/NmjVrgJKHB3ZXp04doqOj+eCDDwDni2X9+vUev4fu3buzZMkStm3bBjj3C/J+UZSk8DDGiYmJdOvWjWeffZZGjRqxa9cuj89fEk9aywxT1QhVDVTV5qr6lit9hKq+UWjbD1W1rTrNIDup6qde59AYU22Gh4czpVUrWgYFIUDLoCCmtGrF8PDwCjl+8+bN+cMf/lAkfezYsZw6dYoOHTrQtm1bxo4dC8B9993HtGnTiIuLY/Pmzfml70WLFhEXF0fHjh2ZOXNm/ixPJQ0PXNj06dN56623iIuLo23btvk3cD3RqFEjpk6dyrBhw+jQoQOXXnpp/g3Zklx33XXMmTMn/4bqo48+Svv27WnXrh09evQgLi7O4/OXxIb8NeY8Y0P+nptsyF9jjDEW3I0xxhdZcDfGGB9kwd0YY3yQBXdjjPFBFtyNMcYHWXA3xlQ5f39/4uPj8x8TJkwocdu5c+fy888/579++umn+frrr73Ow6FDh3j99de9Ps7ZypvhB4wxPm7ikol0bdqVhOiE/LSFOxaycvdKHuv5WLmPW7NmzRK7+xc2d+5cBg4cyMUXXwzAs88+W+7zussL7vfdd1+FHO9sYyV3Y0yJujbtypDZQ1i4YyHgBPYhs4fQtWnXSjnfE088wcUXX0yHDh145JFHWLp0KZ988gmPPvoo8fHxJCYmMmLECGbPng04Q+qOGTOG+Ph4unTpwpo1a+jXrx+xsbG88YbTgT4zM5O+ffvmD7ub1/v0iSeeIDExkfj4eB599FEAJk2aRNeuXenQoQPjxo0DnOEErr32WuLi4mjXrh0zZ86slPde0azkbsx57vKplxdJG9J2CPd1vY9uzbvRNLQp/f7Tj4jQCNKOpNGmURuSM5IB2HdsHzfPurnAvotGLCr1nMePHy8wcuOYMWO48sormTNnDps3b0ZEOHToEPXq1WPQoEEMHDiQm2++udhjRUZGsm7dOv74xz8yYsQIlixZwokTJ2jXrh2jRo0iODiYOXPmUKdOHfbt20f37t0ZNGgQEyZMYOPGjfm/IObNm8cvv/zCihUrUFUGDRrE4sWL2bt3L02bNs0fez4jI8OTy1rtLLgbY86ofnB9IkIj2Jmxk8i6kdQPru/1MYurlsnOziY4OJi77rqLgQMHejzl3qBBgwBo3749mZmZhIaGEhoaSlBQEIcOHSIkJIQnn3ySxYsX4+fnR2pqKunFTDYyb9485s2bR8eOHQGnxP/LL7/Qu3dvHn74YR5//HEGDhxI797nxhxEFtyNOc+dqaRdK7AW4y4bx5DZQxjbZyyTV01m3GXj8uvgG9Zq6FFJ3RMBAQGsWLGCBQsWMHv2bP7xj3/wzTfflLpfaUPyTp8+nb1797J69WoCAwOJiooqMvwvOKNBjhkzhnvvvbfIujVr1vD555/zpz/9ib59+/L000978U6rhgV3Y0yJ8urYZ908i4ToBBKiEgq8rkiZmZkcO3aMAQMG0LNnT2JcwwoXHh63rDIyMmjcuDGBgYEsXLiQ5OTkYo/br18/xo4dy/Dhw6lduzapqakEBgaSnZ1NgwYNuO2226hXrx5vvvmmd2+0ilhwN8aUaOXulQUCeUJ0ArNunsXK3Su9Cu6F69z79+/PAw88wODBgzlx4gSqyosvvgjA0KFDueeee3j11Vfzb6SWxfDhw7nuuuto3749Xbp0oXXr1gCEhYXRs2dP2rVrxzXXXMOkSZPYtGlT/ixKtWvX5j//+Q/btm3j0Ucfxc/Pj8DAQCZPnlzu912VbMhfY84zNuTvucmG/DXGGGPB3RhjfJEFd2POQ2dDdazxXHn+Xp5MkP22iOwRkY1uaeNFJFVE1rkeA9zWjRGRbSKyRUT6lTlHxphKFRwczP79+y3AnyNUlf379xMcHFym/TxpLTMV+AfwbqH0l1T1BfcEEbkYGAq0BZoCX4vIRaqaU6ZcGWMqTfPmzUlJSWHv3r3VnRXjoeDgYJo3b16mfUoN7qq6WESiPDzeYOB9Vc0CdojINuASYFmZcmWMqTSBgYFER0dXdzZMJfOmzn20iPzoqrbJ64/cDNjltk2KK60IERkpIqtEZJWVIIwxpmKVN7hPBmKBeCAN+HtZD6CqU1S1i6p2adSoUTmzYYwxpjjlCu6qmq6qOaqaC/wbp+oFIBVo4bZpc1eaMcaYKlSu4C4iEW4vbwDyWtJ8AgwVkSARiQYuBFZ4l0VjjDFlVeoNVRGZAVwONBSRFGAccLmIxAMKJAH3AqjqTyIyC/gZyAb+z1rKGGNM1bOxZYwx5hxlY8sYY8x5xoK7Mcb4IAvuxhhTDtPT04latgy/RYuIWraM6cVM3VedLLgbY845E5dMZOGOhQXSFu5YyMQlE6vk/NPT0xm5ZQvJWVkokJyVxcgtW86qAG/B3RhzzunatCtDZg/JD/B50wF2bdrVo/29/XJ4avt2juXmFkg7lpvLU9u3e7R/VbDgbow55yREJ/Dv6/7NoPcHccW0Kxg0YxD3dLqHzJOZHD91HIAjWUfIOJFBruYW2d/bL4edWVllSi+JKpw8WaZdPGZzqBpjzhk5uTkoSoBfAIkHEsk8mcnCJCdA//X7vwKQ/kg6NQNrMnHJRJ777jkEITQolLpBdakbXJcVd68gITqBkZ1HMuC/A+jatCtr09byx0v/iIigqojIGfNRd/cHHKp5AdTveDrx4FrqHt+G0y3ILc85sGsXJCbC9u3Oc95j+3a4/nqYOrUCL5KLBXdjzFkv6VAS76x9h6nrp/JcwnPcHnc7sQ1iqR9cn1FdRjFl9RRe6vcSrRu2JqxmGAADLhxA/Zr1yTiRQUZWBodOHOJw1mGCA5xx0XNd1Srf7fwOgD8v/jMvLnuRzCczARgxdwRfbvuSxiGN8x/R9aJ5vu/z3Nf6Cv7yxQiIugua9IPDm2HTM1wZ8xYvvlgwkCclwalTp99LYCBERUFsLPToAX36VM41s05MxphqMT09nae2b2dnVhaRQUE8HxPD8PDw/PW5msvMjTN5e93bLNi+AICrYq/iiZ5PADB41s3UavcMe0La0fjoRo5tHMfHQ2aTEJ3g0fnzqmLu7Xwvb6x6g0lXTaJVw1b0aNEDgGnrprF011LSj6az5+ge0g7vIUjr8qfGq0lMhEnajqPyE07ttj8k3w//+TOcqkXduk7wznvExJxebt4c/P0r5hqeqROTBXdjTJUb9uVY5mSFkVU3Pj8tKGMdNwTt54Ueo2hWpxmqSvy/4jmcdZjfxf+OEfEjiKwbWer+M/r/udTz5wX2WTfPIiE6wXn9wRBe6jmLxkcTClSb5D1nZp7eXwQat9tIbq/n2Bs+k0BCOMVR+oQPZs6QuTRoANm52QT4VW7liAV3Y8xZpcln/yB9/Z+gzTin3nrfEtj0HAFBDQnKPkjaw2mEBoWSejiViNAI/KRg24+oZctILubmZcugIJIuvbTE8x4+7ATqvy+fSK2DXSEpIT+AJ8tCciNWwpLHAAgKKljidl+OioJlac4XxO+7/J7JqyYzptcYLm1+KZe2uJTUw6m0n9yewa0Hc2vbW+kb3ZdA/8AKvYZw5uBude7GmHIprVrlTPaEtHMC+89PQ42GcCwJgGz/YF66fEJ+MG9Wp9i5fs7YWmX3boqUvPMe+/blbekE8LAwJ1h36wa/iU0gNjaB2L84aRER4FdCe8LCJf+EqIT81wAnc04yuPVgPtr0EVPXTSWsZhg3tbmJp/o8RWTdSCYumUjXpl0LVCEt3LGQlbtX8ljPxzy6hqWx4G6MKbO8Tjx5bb3zOvEAHgX4FjVqsLN+R2h0OaT9D2q3goseomXD9oy+pOSSN0BWFkT4BbE7t5gAnx5EM7cqdz8/iIx0gvUNNxStB69b1+O3XMDK3SvzAzs4TTNn3TyLlbtXkhCdQHT9aN4Z/A5vXPsGXyV+xfsb3+f9n95n/OXjAQgJDOHGmTcye8hs+sb0LfBlUVGsWsYYU2blrRbZc3QP4xeNZ8Phfays1YOsn8ZDxHWQ9ilBbcfzVvdhDA8P5+DB4psNJiY6zQr1inR4ZAsEn27D7n/Kj6t/bMXAmuH5ATwyEmrUKD4v3vzyKI+TOSep4e9k5roZ1/G/rf/DT/x4rMdjvLn2zQJfFp6yahljTIUqayee46eO8/Lyl/nr93/l2KljXHfRIAJ+/jO12jzHwXrtqFWrGyfXjuPZyXHcv8IJ7u7Cw51g3adPXsk7nMQQeEu2k5rtCs5tYhh+lWfB2dtfHuWRF9gB/nvjf/lkyydMXjWZCUsmMLbP2DIH9tJYcDfGlFlkUFCxJffIoKD85ePHYccO+OzH5fxl6xAO6S7CDw6m4ZK/8Wmtj8nZeT9Hk5yAdjLgchp3a4teuJKhQxMKVJ3ExEDt2sXlIpzxlC8Qn2n4gMosvecJDQqlaWhTtuzfwtg+Y5m8ajIJUQkVGuAtuBtjyuz5mJgCJV+AwBw/IufH0Odxp/pk995jcKoW1I6Cm2Oo+cO7RARdTmws3BL7GDG/OV3/3aIFBAQkABVbei1JRQ0fUF5nuiFbUQHegrsxpkTZ2ae7zhes+w4npxlw23ZonAV7gjj1ZgyJm8KJaLeVgOGP0yJkD3+94HsuuKAJsbGLCAtz2oefDTz55VGZSrshWxFKvaEqIm8DA4E9qtrOlTYJuA44CSQCv1PVQyISBWwCtrh2X66qo0rLhN1QNab6ZGYW7KzjHsiTk50An6dGDYiOBnpOpE3drlwWmZBffbLh1FxeWz2JFbtXUDOgJmN6jeHRno9Wekee8ihc5w5Qy8+PKa1aVUm1TEXx9obqVOAfwLtuafOBMaqaLSJ/A8YAj7vWJapqPMaYs4IqpKeXPHBV4SHI69d3qkq6dIEhQwo2HWzWzOk6v3CHM6riHwY7pc/XV7zO6C9GIwj3drmX8ZePp3FI4+p5wx7IC+BV2VqmsMpurVNqcFfVxa4SuXvaPLeXy4GbKyxHxpwnKvKf++RJp5RdUgA/duz0tiJOHXdsLAwcWLTtd/36pZ8vITqBd69/l5tm3cToS0YzeeVk+sX248V+L9KmUZtyvYeqNjw8vNpK6VXRWsejdu6u4P6/vGqZQus+BWaq6n9c2/0EbAUOA39S1e9KOOZIYCRAZGRk5+Tk5PK9A2POQeWpFsjIKLnn5a5d4N74o2bN0y1NCgfvqCina315ZOdms2D7AqZvmM5Hmz4iwC+AjKwMxvYZy7MJz5bvoOeh8vYTKKzS2rmLyFNANjDdlZQGRKrqfhHpDMwVkbaqerjwvqo6BZgCTp27N/kw5lxTUlO8x3/ZTvPN4cWWvvfvL3iMhg2dgN2zZ9GxTyIiSr95WdZfDtPWTePxrx8n/Wg6dYPqclnLy1iyawl/6v2nSmnK58uqorVOuYO7iIzAudHaV13Ff1XNArJcy6tFJBG4CLC7pcYAJ04443vvPJEFxQTf1JNZXN7XWfb3P911/uabiw5iVadO+fPhSbXAtgPbmP7jdG7rcBuxDWIJqxVGz8ieDG8/nJDAEG6bcxtzbp1DQnQCV0RfUeFN+XxZVbTWKVdwF5H+OCPvXKaqx9zSGwEHVDVHRGKAC4GzZ1JBY6rAgQPFd5tPTITUVOcGJzOCoEnRf+4G2UHM+MoJ3i1bOhM7FMfbgadGL3iWY4VmEjq2fzX/99U7HGjViekbpvND6g8IQou6LYhtEMvAiwYy8KKB+eev7KZ8vqy4fgK1/Px4Piamws7hSVPIGTjzRjUE0oFxOK1jgoC8H4rLVXWUiNwEPAucAnKBcar6aWmZsKaQ5lySkwMpKSXfvDx0qOD2TZoUrTaZxlgW1w7jZL0KHI+8DCVnmfMSbHrGGZmxXjwcWgc/j4ec46CniAuPY3j74QxrP4zmdZqX9RIZD1TEDXUbz934pMpsSnbsWMltv880bVrhG5jR0RASUvT4C3csLHEmoV6RvfKnhct7XBF9BX7ix/zE+Xyb/C2HThxi877NfLfzO1rUaUFGVgazbp7Fhj0b+HLbl/nnERFqBtRk9pDZAExaMonFOxez4MBBjmcdhMytENQIco5Bm3GE5R5kUe8htGtcpO2EOQvZwGHG53jblEwV9u4tufXJr78W3D5v2rS4OLjxxoJ13y1alG3aNFWleZ3m3Bl3O5NXPUyzkMYcP3Wcj4fMZumupVzx7hVF9jn4+EHqBddjwY4FTFo6iXrB9agXXI8GwQ1IPJiYP/DUspRl7DvmDFquOAW3mgE1849z6MQhdh/ZTTjZJGs2GlAHTqRB5G3UCuvMK61a0a7xudOJx5TMSu7mnORJU7JTp2DnzpKrT9ynTQNnbsvimg7GxkKDBhXTdX5+4nzu+fQekjOcpr91gupwOOswD3R7gJf7v8zi5MV8m/RtfvDOe3Rr3o0a/jU4lXOKAL8ARCS/KiZvJqCy3sx8as2HTPjybnIjrsMv7VOe6P8mz3e6yfs3aaqMldyNzympyVjyiSyuusoJ3snJTv14nqAgp5okNhYuv7xgII+OhuBgz89f2g3NE9kn+H7n93y9/Wvmb5/P4z0fZ0jbITSr04xOEZ14vOfj1K5Rm4fmPZQ/KuDgVoNJiE6gT8s+JZ43b6o2bweeWrhjIVMWjOLrYR8VqLO/sn4DuyHqIyy4m7OaqlNFUrjUHXhTECfrFw3wfnuDyMiASy6BoUMLlsKbNj09bdrEJRPp4EVrk65NuxZbZ/7+je9x9XtX893O7ziRfYIAvwB6tOhBrcBaAFzc6GI+uvUjr4OztwNPVcXAVaZ6WbWMKbeKuqF58qRzk7Kk6pPjx09v6+fn1HHXui6drYO3kBNwuilZTfHj3609G/ipLK1NcnJzOJ59nNo1nEHF16atZfqujbzy8zyyd82G4HA4kUZQh7/xZrehTF/wO1qHtebKmCu5LOqy/P3cVcUcmsb3WWsZU+HK2n3+0KGiwdt92jT3zpq1ap2uMinccScqyhmZcHmWlRMAABZHSURBVOKSiWTUjGV6VtP8L5fhQbupezyx1OC4+8huth3YxpfbvuSVH16hQ+MOrE9fz2e/+YyE6AQe/uphvkz8kowTGWRkZZB5MpOLwi5iy2jnhu3lUy/n2+RvCx40tA10er3M3ce9UdXTxJmzj9W5mwpXUieYUV/NJCv7n0VK3wcOFNy/cWMnYPfqVfQGZpMmpd+87Nq0azEl71HMunkWOw7uYH36enZm7GRXxi52Ht7Jr5m/suiORYgIT33zFFPXTc0/1vLU5UhAKLtrXQxAWK0w2jRsQ92gutQNrkudoDo0C22Wv/3L/V+m44plcGwnJL4OTQdD2idwcK0z6XMVqI5p4sy5xYK78VjetGmJiXCo5gWnO8HU7wgH18KmZ8hsPY67bnKaBkZFOcG68LCxMTEw+cfiqyXe276SxyIKlryzc7PZf2w/9WvWp4Z/DTakb2Ddr+u4MvpKrpl+DU1Dm7IzYyezh8wmITqBsd+M5bnvngMgOCCYyLqRtKjTgmOnjhFSI4T7L7mfJs0H8Pdtazm17Z/QdDCa9gl3LZ8B3YfxZO8nz3gd4pvEE+7/PenbJ8PF4533X68jbHqGxnHP4fT5q1zVPU2cOfud18HdftYWpOoMTlW43juv9J2a6trQ7xS8WQcaXQEbHoeazeF4KsTcQ+P63Zm7YTefp/+LmjWCCPIPIijAee4QfQWxDWLZf2w/OZrDDTNvYPzl44mtH8u3yd/yzrp3mH3LbL5N+pZnvn2GPUf3kH40nf3H9qMoq0euplNEJ5alLOOheQ8R6BdIcEAwOw7toE3DNlzS7BIA7up0F9e3vp7IupE0rNUQKfQzoFNEJwasWcqpxNcLBOesn8bzcEAAw68dXeq1SvBPZ07b8WTVdfUwrd+RoLbjSfBPP/OOFaS6p4kzZ7/zNrifrz9rc3JKmjbNeRwuNH5nkwiledskYgYvp1/jFlxxQS+CI3Zx83d3Oxv4BcOxHeBXkxo16vHixTH4Zyfz3IdFh399/6b3iW0Qy/r09Ty5wCkd//GrP+avfy7hORKiE/g26VuycrK4KOwiekX2IjwknMYhjWka2hSA37T/DbdcfAtr09Zy64e38mD3B5m8ajJb9m2haWhToupFEVUv6ozXIX3/htO/OsB5bjPOSffAjP5/Llo46D6syj471T1NnDn7nbc3VCtqPOWz0dGjZ+46n50N9JwIqV0JTE0gOtqpKglqvZCc8JXc3eZRFp6awNYTS1mV9gN7j+0FYET8CN4Z/A6qysdbPmbB/j28/u3jxXaCUVVO5pwkKyfLec7Ool5wPUJqhHA46zCb9m4iKyeLKaunMH3DdP7Q7Q9MumoSNfxrePQevR1b5Vz/+/vKNHHGO3ZDtRhnw8/a8lYLqcKePTB5azr/yNrOfv8sQo4G0fTzGI7MCS/Sdb5ePae+u2NHZ+jY2Fg4HNaV57YM4S99nwfJZe7muXyV/C2f3/o5CdHCnyb/l5zcHK696Fq6NetGt2bd8scbERHqBtXl/aX3lNgJRkSc6piAoiXJOkF16Na8Gwt3LOSrxK/yO/Fc3+p6j9tYe9tOuypG5atMZ8M0cebsds6W3L1tJ1zdJbfSSl6nThU/bdr27a6u893S4ZEtEHx6f7+TfvT+oRVX+4cXuIHZoAEcOH6Arfu30r15dwBG/W8Ub655kxx1unAKQt+Yvsy/fT4AJ3NOnrEU7e3197bkXRHsnos51/lkO3dvg0N1/6wt6csl+FAQEQ9dys6dBbvOBwcXnDZtStz/cbxewaaIHFxLvePbOPibf7IydSWfbv2Udb+uY92v69h1eBf+4k/mk5kEBwTz1pq3+DhlPV+n/sjxPd9SJ3oEr/ebUGXBzZt26sYYh09Wy+T9DL9h5g20atiKzfs2M/OmmR6X+qriZ21uLqSlFV/3nfzXLPArus+Jull07w7DhxfsxBMRcbrrPMArc1xNEaPuAvGD/cvhwDIOtX4KgMXJi3n+u+dp3bA1vVv2Ji48jvgm8fiJc5DgZgOZt+sIWQffhcjbOZwyh7uWx0EV3RRsdsEdPLNlC8dynS+45KwsXj7ViCmtelX6uY05H5yzJfc8V793NfO3O1UJwQHBXNbyMvpf0J/Rl4wmwK/yv7uysk53nS/c+mT7dmdatTx+fqenTfvhj8vIDCl7tZCqIiI0+ewfpK99AnKOnl5ZK4qIuD+z++rbOJJ1hAC/AGoG1iz2OE0++wfp6/9UpJ16eNxz/OpBU0BvVXe1mDG+wCdL7uBUzaz9dS1P9HyCyasmc2X0lfy07yde+eEVHuj2AADvrH2H+jXrc0X0FdQJOj3pZFnqjA8eLLnpYEqKa9o0l5AQp7R90UVwzTUFS9/u06ZNT/fshl52bjbLU5bz5bYv+XLbl4zqMoq7O93Nk6178tCuHuRkH4P9S5zxuGPvYVKrVgCEBoWe8dp52xTQW2fDDW1jfNk5G9wL17FfHXt1/utOEZ0QEVSV5797nsSDifmj8/WP7c+gVoMKdF+/rGUCs1YuZNSCIdxTdxZPflYwkB88WPDc4eHFDxsbG+t0q/dk3O/UbdN4sHbROufUbcsh/DGyc7MZ9uEw5ifOJyMrA3/xp0eLHjSo2QCAP8R2JD3jXmc87sjb8Uv7lAfjrmd4eMnDxbpreeGIoiXn+h1p2aS7R/t7y9ppG1O5PAruIvI2MBDYo6rtXGkNgJlAFJAEDFHVg+J0B3wFGAAcA0ao6pqKzrgnTeFEhE3/t4llKcv4dPOXfLb5S5785km++P5X4na/QszeGVyZMRjdMBRt/RHM+oAXkhIICDg9bVq3bkUHrypu2rSycv9y6dGiB6+teI2nv3ia/hf0ByDAL4AT2ScY0nYI/S/oT9/ovtQNrpu/v7fjcVd3U8DqPr8xvs6jOncR6QNkAu+6BfeJwAFVnSAiTwD1VfVxERkA3I8T3LsBr6hqtzMdvyI6ManCvn0ljzy4e7drw9q/gl82dWhOky7L2NqnR/4xQgMaEFU3mr9d/Reuuehq9h3bx+rdq4mpH0PLei0LNA0sS2uPzJOZpGem82vmr+w5uocb2twAwKPzHuWVH15BUbJzswnwC+DaC69lzq1zinSZL6wihoyt7qaA1X1+Y851Xte5q+piEYkqlDyY0yMkTQMWAY+70t9V51tjuYjUE5EIVU0re9bPbPNmeOqp0wH8yJGC65s2dUrbV1/tXvJuQmwshIXBgh1HGfJBffpG9+WLbV9weXRPTuacJDTYmVhh6a6lDH5/MOC0A29epznR9aN5tf+rZNSM5S9f3Aktb4PgZiRnrOMvuz+lU+Rl/L7L7wkNCuVv3/+NPy/+M0dPHS2Qr8wxmYTUCKFOUB0a1GxA+tF0hrYdypuD3iSkhmc/C4oL4AnRCWVqIz48PLxag2l1n98YX+ZNnXu4W8D+Fcj7L20G7HLbLsWVViC4i8hIYCRAZGRkuTIgAj/9VPzQsdHRULP4hiKAU8od9uEwPhzyYZF28r0ineZ4l7W8jMUjFrP94HZ2HNqR/1wrsBbTs5pC477OkK9u1qU6ExSHBoXSIbwD93S6hya1mxR45PXa7BXZi1dXvJrfQ3NF6gqbBccYUyEq5IaqqqqIlKlNpapOAaaAUy1TnvOuqpfOiXe284Xbz/rrPCwJelJnXze4Lr1b9qZ3y95F9t+ZleqU2rOPwJ6vodlNEDMS9atBdP1oAK658BquufCaYs/v7TRrxhhzJsV0o/FYuohEALie97jSU4EWbts1d6VVqLwepslZWSinR3Wcnu7ZkKuP9XysSBBNiE7wuL46MigIjibDwZUQebsT4DN+8ri1x5m+XIwxxlveBPdPgDtcy3cAH7ul/1Yc3YGMyqhvP9NkBVVheNDu05NVRN/pPG96xkn3gLdfLsYYcyaeNoWcgXPztKGIpADjgAnALBG5C0gGhrg2/xynpcw2nKaQv6vgPAPV3wmm7vFEnuz/1unWMk26M7zlW9Q9nlgl5zfGmDM5Z4cfsO7rxpjz3ZmaQnpTLVOtno+JoZZfwexbJxhjjHGcs8F9eHg4U1q1omVQEIJTYrdZaIwxxnHOji0D1gnGGGNKcs6W3I0xxpTMgrsxxvggC+7GGOODLLgbY4wPsuBujDE+yIK7Mcb4IAvuxhjjgyy4G2OMD7LgbowxPsiCuzHG+CAL7sYY44MsuBtjjA+y4G6MMT7IgrsxxvggC+7GGOODyj2eu4i0Ama6JcUATwP1gHuAva70J1X183Ln0BhjTJmVO7ir6hYgHkBE/IFUYA7OhNgvqeoLFZJDY4wxZVZR1TJ9gURVTa6g4xljjPFCRQX3ocAMt9ejReRHEXlbROoXt4OIjBSRVSKyau/evcVtYowxppy8Du4iUgMYBHzgSpoMxOJU2aQBfy9uP1WdoqpdVLVLo0aNvM2GMcYYNxVRcr8GWKOq6QCqmq6qOaqaC/wbuKQCzmGMMaYMKiK4D8OtSkZEItzW3QBsrIBzGGOMKYNyt5YBEJEQ4CrgXrfkiSISDyiQVGidMcaYKuBVcFfVo0BYobTbvcqRMcYYr1kPVWOM8UEW3I0xxgdZcDfGGB9kwd0YY3yQBXdjjPFBFtyNMcYHWXA3xhgfZMHdGGN8kAV3Y4zxQRbcjTHGB1lwN8YYH2TB3RhjfJAFd2OM8UEW3I0xxgdZcDfGGB9kwd0YY3yQBXdjjPFBFtyNMcYHeTXNHoCIJAFHgBwgW1W7iEgDYCYQhTOP6hBVPejtuYwxxnimokruCaoar6pdXK+fABao6oXAAtdrY4wxVaSyqmUGA9Ncy9OA6yvpPMYYY4pREcFdgXkislpERrrSwlU1zbX8KxBeeCcRGSkiq0Rk1d69eysgG8YYY/J4XecO9FLVVBFpDMwXkc3uK1VVRUQL76SqU4ApAF26dCmy3hhjTPl5XXJX1VTX8x5gDnAJkC4iEQCu5z3enscYY4znvAruIhIiIqF5y8DVwEbgE+AO12Z3AB97cx5jjDFl4221TDgwR0TyjvVfVf1SRFYCs0TkLiAZGOLleYwxxpSBV8FdVbcDccWk7wf6enNsY4wx5Wc9VI0xxgdZcDfGGB9kwd0YY3yQBXdjjPFBFtyNMcYHWXA3xhgfZMHdGGN8kAV3Y4zxQRbcjTHGB1lwN8YYH2TB3RhjfJAFd2OM8UEW3I0xxgdZcDfGGB9kwd0YY3yQBXdjjPFBFtyNMcYHWXA3xhgfVO7gLiItRGShiPwsIj+JyAOu9PEikioi61yPARWXXWOMMZ7wZg7VbOBhVV0jIqHAahGZ71r3kqq+4H32jDHGlEe5g7uqpgFpruUjIrIJaFZRGTPGGFN+FVLnLiJRQEfgB1fSaBH5UUTeFpH6FXEOY4wxnvM6uItIbeBD4EFVPQxMBmKBeJyS/d9L2G+kiKwSkVV79+71NhvGGGPceBXcRSQQJ7BPV9WPAFQ1XVVzVDUX+DdwSXH7quoUVe2iql0aNWrkTTaMMcYU4k1rGQHeAjap6otu6RFum90AbCx/9owxxpSHN61legK3AxtEZJ0r7UlgmIjEAwokAfd6lUNjjDFl5k1rme8BKWbV5+XPjjHGmIpgPVSNMcYHWXA3xhgfZMHdGGN8kAV3Y4zxQRbcjTHGB1lwN8YYH2TB3RhjfJAFd2OM8UEW3I0xxgdZcDfGGB9kwd0YY3yQBXdjjPFBFtyNMcYHWXA3xhgfZMHdGGN8kAV3Y4zxQRbcjTHGB1lwN8YYH2TB3RhjfFClBXcR6S8iW0Rkm4g8UVnnMcYYU1SlBHcR8Qf+CVwDXAwME5GLK+NcxhhjiqqskvslwDZV3a6qJ4H3gcGVdC5jjDGFBFTScZsBu9xepwDd3DcQkZHASNfLTBHZ4sX5GgL7vNi/sln+vGP5847lzztnc/5alrSisoJ7qVR1CjClIo4lIqtUtUtFHKsyWP68Y/nzjuXPO2d7/kpSWdUyqUALt9fNXWnGGGOqQGUF95XAhSISLSI1gKHAJ5V0LmOMMYVUSrWMqmaLyGjgK8AfeFtVf6qMc7lUSPVOJbL8ecfy5x3Ln3fO9vwVS1S1uvNgjDGmglkPVWOM8UEW3I0xxgedM8G9tOEMRCRIRGa61v8gIlFVmLcWIrJQRH4WkZ9E5IFitrlcRDJEZJ3r8XRV5c8tD0kissF1/lXFrBcRedV1DX8UkU5VlK9WbtdlnYgcFpEHC21T5ddPRN4WkT0istEtrYGIzBeRX1zP9UvY9w7XNr+IyB1VmL9JIrLZ9febIyL1Stj3jJ+FSszfeBFJdfs7Dihh30ofvqSE/M10y1uSiKwrYd9Kv35eU9Wz/oFzUzYRiAFqAOuBiwttcx/whmt5KDCzCvMXAXRyLYcCW4vJ3+XA/6r5OiYBDc+wfgDwBSBAd+CHavpb/wq0rO7rB/QBOgEb3dImAk+4lp8A/lbMfg2A7a7n+q7l+lWUv6uBANfy34rLnyefhUrM33jgEQ8+A2f8f6+s/BVa/3fg6eq6ft4+zpWSuyfDGQwGprmWZwN9RUSqInOqmqaqa1zLR4BNOL10zzWDgXfVsRyoJyIRVZyHvkCiqiZX8XmLUNXFwIFCye6fs2nA9cXs2g+Yr6oHVPUgMB/oXxX5U9V5qprterkcp49JtSjh+nmiSoYvOVP+XLFjCDCjos9bVc6V4F7ccAaFg2f+Nq4PdwYQViW5c+OqDuoI/FDM6ktFZL2IfCEibas0Yw4F5onIatfwD4V5cp0r21BK/oeq7usHEK6qaa7lX4HwYrY5G64jwJ04v8SKU9pnoTKNdlUbvV1CtdbZcP16A+mq+ksJ66vz+nnkXAnu5wQRqQ18CDyoqocLrV6DU9UQB7wGzK3q/AG9VLUTzmid/ycifaohDyVydXgbBHxQzOqz4foVoM7v87OyLbGIPAVkA9NL2KS6PguTgVggHkjDqfo4Gw3jzKX2s/p/Cc6d4O7JcAb524hIAFAX2F8luXPOGYgT2Ker6keF16vqYVXNdC1/DgSKSMOqyp/rvKmu5z3AHJyfv+6qe9iIa4A1qppeeMXZcP1c0vOqqlzPe4rZplqvo4iMAAYCw11fQEV48FmoFKqarqo5qpoL/LuE81b39QsAbgRmlrRNdV2/sjhXgrsnwxl8AuS1SrgZ+KakD3ZFc9XPvQVsUtUXS9imSd49ABG5BOfaV+WXT4iIhOYt49x421hos0+A37pazXQHMtyqIKpCiaWl6r5+btw/Z3cAHxezzVfA1SJS31XtcLUrrdKJSH/gMWCQqh4rYRtPPguVlT/3ezg3lHDe6h6+5Epgs6qmFLeyOq9fmVT3HV1PHzgtObbi3EV/ypX2LM6HGCAY5+f8NmAFEFOFeeuF8/P8R2Cd6zEAGAWMcm0zGvgJ587/cqBHFV+/GNe517vykXcN3fMoOJOsJAIbgC5VmL8QnGBd1y2tWq8fzhdNGnAKp973Lpz7OAuAX4CvgQaubbsAb7rte6frs7gN+F0V5m8bTn113ucwrwVZU+DzM30Wqih/77k+Wz/iBOyIwvlzvS7y/14V+XOlT8373LltW+XXz9uHDT9gjDE+6FypljHGGFMGFtyNMcYHWXA3xhgfZMHdGGN8kAV3Y4zxQRbcjTHGB1lwN8YYH/T/OKO8LXfpXskAAAAASUVORK5CYII=\n",
                "text/plain": "<Figure size 432x288 with 1 Axes>"
              }
            ],
            "_view_module": "@jupyter-widgets/output",
            "_model_module_version": "1.0.0",
            "_view_count": null,
            "_view_module_version": "1.0.0",
            "layout": "IPY_MODEL_563dbdb85cfe4d699b5e6046da75af4f",
            "_model_module": "@jupyter-widgets/output"
          }
        },
        "dbfbf43a23fd4a1fb390811986523a3c": {
          "model_module": "@jupyter-widgets/controls",
          "model_name": "SliderStyleModel",
          "state": {
            "_view_name": "StyleView",
            "handle_color": null,
            "_model_name": "SliderStyleModel",
            "description_width": "",
            "_view_module": "@jupyter-widgets/base",
            "_model_module_version": "1.5.0",
            "_view_count": null,
            "_view_module_version": "1.2.0",
            "_model_module": "@jupyter-widgets/controls"
          }
        },
        "94969d7cd32f4e88adcbba4001ed581c": {
          "model_module": "@jupyter-widgets/base",
          "model_name": "LayoutModel",
          "state": {
            "_view_name": "LayoutView",
            "grid_template_rows": null,
            "right": null,
            "justify_content": null,
            "_view_module": "@jupyter-widgets/base",
            "overflow": null,
            "_model_module_version": "1.2.0",
            "_view_count": null,
            "flex_flow": null,
            "width": null,
            "min_width": null,
            "border": null,
            "align_items": null,
            "bottom": null,
            "_model_module": "@jupyter-widgets/base",
            "top": null,
            "grid_column": null,
            "overflow_y": null,
            "overflow_x": null,
            "grid_auto_flow": null,
            "grid_area": null,
            "grid_template_columns": null,
            "flex": null,
            "_model_name": "LayoutModel",
            "justify_items": null,
            "grid_row": null,
            "max_height": null,
            "align_content": null,
            "visibility": null,
            "align_self": null,
            "height": null,
            "min_height": null,
            "padding": null,
            "grid_auto_rows": null,
            "grid_gap": null,
            "max_width": null,
            "order": null,
            "_view_module_version": "1.2.0",
            "grid_template_areas": null,
            "object_position": null,
            "object_fit": null,
            "grid_auto_columns": null,
            "margin": null,
            "display": null,
            "left": null
          }
        },
        "8fab566be2144017a431ec6037eee473": {
          "model_module": "@jupyter-widgets/controls",
          "model_name": "SliderStyleModel",
          "state": {
            "_view_name": "StyleView",
            "handle_color": null,
            "_model_name": "SliderStyleModel",
            "description_width": "",
            "_view_module": "@jupyter-widgets/base",
            "_model_module_version": "1.5.0",
            "_view_count": null,
            "_view_module_version": "1.2.0",
            "_model_module": "@jupyter-widgets/controls"
          }
        },
        "c457e125c77748ef9e4708667a26be5f": {
          "model_module": "@jupyter-widgets/base",
          "model_name": "LayoutModel",
          "state": {
            "_view_name": "LayoutView",
            "grid_template_rows": null,
            "right": null,
            "justify_content": null,
            "_view_module": "@jupyter-widgets/base",
            "overflow": null,
            "_model_module_version": "1.2.0",
            "_view_count": null,
            "flex_flow": null,
            "width": null,
            "min_width": null,
            "border": null,
            "align_items": null,
            "bottom": null,
            "_model_module": "@jupyter-widgets/base",
            "top": null,
            "grid_column": null,
            "overflow_y": null,
            "overflow_x": null,
            "grid_auto_flow": null,
            "grid_area": null,
            "grid_template_columns": null,
            "flex": null,
            "_model_name": "LayoutModel",
            "justify_items": null,
            "grid_row": null,
            "max_height": null,
            "align_content": null,
            "visibility": null,
            "align_self": null,
            "height": null,
            "min_height": null,
            "padding": null,
            "grid_auto_rows": null,
            "grid_gap": null,
            "max_width": null,
            "order": null,
            "_view_module_version": "1.2.0",
            "grid_template_areas": null,
            "object_position": null,
            "object_fit": null,
            "grid_auto_columns": null,
            "margin": null,
            "display": null,
            "left": null
          }
        },
        "c4cee49575c045048d8decbcc8105a63": {
          "model_module": "@jupyter-widgets/controls",
          "model_name": "SliderStyleModel",
          "state": {
            "_view_name": "StyleView",
            "handle_color": null,
            "_model_name": "SliderStyleModel",
            "description_width": "",
            "_view_module": "@jupyter-widgets/base",
            "_model_module_version": "1.5.0",
            "_view_count": null,
            "_view_module_version": "1.2.0",
            "_model_module": "@jupyter-widgets/controls"
          }
        },
        "b105e3f2ff6941069b0a707563fcbbce": {
          "model_module": "@jupyter-widgets/base",
          "model_name": "LayoutModel",
          "state": {
            "_view_name": "LayoutView",
            "grid_template_rows": null,
            "right": null,
            "justify_content": null,
            "_view_module": "@jupyter-widgets/base",
            "overflow": null,
            "_model_module_version": "1.2.0",
            "_view_count": null,
            "flex_flow": null,
            "width": null,
            "min_width": null,
            "border": null,
            "align_items": null,
            "bottom": null,
            "_model_module": "@jupyter-widgets/base",
            "top": null,
            "grid_column": null,
            "overflow_y": null,
            "overflow_x": null,
            "grid_auto_flow": null,
            "grid_area": null,
            "grid_template_columns": null,
            "flex": null,
            "_model_name": "LayoutModel",
            "justify_items": null,
            "grid_row": null,
            "max_height": null,
            "align_content": null,
            "visibility": null,
            "align_self": null,
            "height": null,
            "min_height": null,
            "padding": null,
            "grid_auto_rows": null,
            "grid_gap": null,
            "max_width": null,
            "order": null,
            "_view_module_version": "1.2.0",
            "grid_template_areas": null,
            "object_position": null,
            "object_fit": null,
            "grid_auto_columns": null,
            "margin": null,
            "display": null,
            "left": null
          }
        },
        "563dbdb85cfe4d699b5e6046da75af4f": {
          "model_module": "@jupyter-widgets/base",
          "model_name": "LayoutModel",
          "state": {
            "_view_name": "LayoutView",
            "grid_template_rows": null,
            "right": null,
            "justify_content": null,
            "_view_module": "@jupyter-widgets/base",
            "overflow": null,
            "_model_module_version": "1.2.0",
            "_view_count": null,
            "flex_flow": null,
            "width": null,
            "min_width": null,
            "border": null,
            "align_items": null,
            "bottom": null,
            "_model_module": "@jupyter-widgets/base",
            "top": null,
            "grid_column": null,
            "overflow_y": null,
            "overflow_x": null,
            "grid_auto_flow": null,
            "grid_area": null,
            "grid_template_columns": null,
            "flex": null,
            "_model_name": "LayoutModel",
            "justify_items": null,
            "grid_row": null,
            "max_height": null,
            "align_content": null,
            "visibility": null,
            "align_self": null,
            "height": null,
            "min_height": null,
            "padding": null,
            "grid_auto_rows": null,
            "grid_gap": null,
            "max_width": null,
            "order": null,
            "_view_module_version": "1.2.0",
            "grid_template_areas": null,
            "object_position": null,
            "object_fit": null,
            "grid_auto_columns": null,
            "margin": null,
            "display": null,
            "left": null
          }
        }
      }
    }
  },
  "cells": [
    {
      "cell_type": "markdown",
      "metadata": {
        "id": "view-in-github",
        "colab_type": "text"
      },
      "source": [
        "<a href=\"https://colab.research.google.com/github/ctarrington/data-science-hw/blob/master/kalman-filters/rlabbe/rlabbe_01_g_h_filter.ipynb\" target=\"_parent\"><img src=\"https://colab.research.google.com/assets/colab-badge.svg\" alt=\"Open In Colab\"/></a>"
      ]
    },
    {
      "cell_type": "code",
      "metadata": {
        "id": "r1DtwrCDOAOO",
        "colab_type": "code",
        "colab": {}
      },
      "source": [
        "import math\n",
        "\n",
        "import numpy as np\n",
        "\n",
        "from matplotlib.pyplot import plot\n",
        "from matplotlib import pyplot as plt\n",
        "\n",
        "from ipywidgets import fixed, interact\n",
        "import ipywidgets as widgets\n"
      ],
      "execution_count": 34,
      "outputs": []
    },
    {
      "cell_type": "code",
      "metadata": {
        "id": "j6MBGj2gmlF7",
        "colab_type": "code",
        "colab": {}
      },
      "source": [
        "def data_and_noise(x0 = 0, x_dot = 1, std = 1, count = 20):\n",
        "  xs = np.array([x0 + t * x_dot for t in range(count)])\n",
        "  noise = np.array(np.random.normal(0, std, count))\n",
        "  return (xs, xs + noise)\n",
        "  "
      ],
      "execution_count": 35,
      "outputs": []
    },
    {
      "cell_type": "code",
      "metadata": {
        "id": "rqlooWNdLwuF",
        "colab_type": "code",
        "colab": {}
      },
      "source": [
        "def g_h_filter(zs, x0, x_dot0, g, h, dt):\n",
        "  x = x0\n",
        "  x_dot = x_dot0\n",
        "\n",
        "  estimates = []\n",
        "  for z in zs:\n",
        "    predicted_x = x + x_dot * dt\n",
        "\n",
        "    residual = z - predicted_x\n",
        "    x = predicted_x + g * residual\n",
        "    x_dot = x_dot + h * residual / dt\n",
        "\n",
        "    estimates.append(x)\n",
        "\n",
        "  return np.array(estimates)\n",
        "\n"
      ],
      "execution_count": 36,
      "outputs": []
    },
    {
      "cell_type": "code",
      "metadata": {
        "id": "z1ASj20IHCLh",
        "colab_type": "code",
        "colab": {}
      },
      "source": [
        "def show_scenario(g, h, x0, actuals, weights):\n",
        "  estimates = g_h_filter(weights, x0, 0, g, h, 1)\n",
        "\n",
        "  plot(actuals, '-b', label='Actual')\n",
        "  plot(weights, 'co', label='Measurements')\n",
        "  plot(estimates, '--gx', label='Estimates')\n",
        "  plt.title('g: {}'.format(g))\n",
        "  plt.ylim(bottom=0, top=200)\n",
        "  plt.legend()\n",
        "  plt.show()\n"
      ],
      "execution_count": 59,
      "outputs": []
    },
    {
      "cell_type": "code",
      "metadata": {
        "id": "OFcN6rDGHe4Z",
        "colab_type": "code",
        "colab": {
          "base_uri": "https://localhost:8080/",
          "height": 394,
          "referenced_widgets": [
            "d461646d5fc243678529303eff2ade67",
            "768450a28ad94f03bbf040950429838e",
            "2ec535fab2184355a7ee8c3f0bae4a30",
            "bcb9c482599a48a3a4217e4f63bab7cb",
            "6654279968da484ea0732eebd013867b",
            "1fda7183e5204d7f8d56bc80c1a43dcc",
            "dbfbf43a23fd4a1fb390811986523a3c",
            "94969d7cd32f4e88adcbba4001ed581c",
            "8fab566be2144017a431ec6037eee473",
            "c457e125c77748ef9e4708667a26be5f",
            "c4cee49575c045048d8decbcc8105a63",
            "b105e3f2ff6941069b0a707563fcbbce",
            "563dbdb85cfe4d699b5e6046da75af4f"
          ]
        },
        "outputId": "3cb682b1-058d-4bae-8ed3-e30c4669ea61"
      },
      "source": [
        "actuals, weights = data_and_noise(x0=100, x_dot=2, std=5, count=20)\n",
        "interact(show_scenario,\n",
        "         g=widgets.FloatSlider(min=0., max=1.),\n",
        "         h=widgets.FloatSlider(min=0., max=1.),\n",
        "         x0=widgets.IntSlider(min=0, max=200),\n",
        "         actuals=fixed(actuals),\n",
        "         weights=fixed(weights))"
      ],
      "execution_count": 61,
      "outputs": [
        {
          "output_type": "display_data",
          "data": {
            "application/vnd.jupyter.widget-view+json": {
              "model_id": "d461646d5fc243678529303eff2ade67",
              "version_minor": 0,
              "version_major": 2
            },
            "text/plain": [
              "interactive(children=(FloatSlider(value=0.0, description='g', max=1.0), FloatSlider(value=0.0, description='h'…"
            ]
          },
          "metadata": {
            "tags": []
          }
        },
        {
          "output_type": "execute_result",
          "data": {
            "text/plain": [
              "<function __main__.show_scenario>"
            ]
          },
          "metadata": {
            "tags": []
          },
          "execution_count": 61
        }
      ]
    },
    {
      "cell_type": "code",
      "metadata": {
        "id": "NwR6lxvhOJ4y",
        "colab_type": "code",
        "colab": {}
      },
      "source": [
        "actuals, weights = data_and_noise(x0=160, x_dot=1, std=3, count=20)"
      ],
      "execution_count": 62,
      "outputs": []
    },
    {
      "cell_type": "code",
      "metadata": {
        "id": "04sB4j5pOMvC",
        "colab_type": "code",
        "colab": {
          "base_uri": "https://localhost:8080/",
          "height": 529
        },
        "outputId": "d51177f5-748c-4675-b746-5db3b56b7a42"
      },
      "source": [
        "h = 2./3\n",
        "figure, subplots = plt.subplots(2, 3, sharex=True, sharey=True, figsize=(9, 7), constrained_layout=True)\n",
        "\n",
        "for raw_g in range(0, 12, 2):\n",
        "  g = raw_g/10\n",
        "  plot_number = math.floor(raw_g/2)\n",
        "  row_index = math.floor(plot_number/3)\n",
        "  column_index = plot_number % 3\n",
        "  estimates = g_h_filter(weights, 160, 1, g, h, 1)\n",
        "  subplots[row_index, column_index].plot(actuals, label='Actual')\n",
        "  subplots[row_index, column_index].plot(weights, 'o', label='Measurements')\n",
        "  subplots[row_index, column_index].plot(estimates, 'x', label='Estimates')\n",
        "  subplots[row_index, column_index].set_title('g: {}'.format(g))\n",
        "plt.show()"
      ],
      "execution_count": 40,
      "outputs": [
        {
          "output_type": "display_data",
          "data": {
            "image/png": "[encoded data removed]",
            "text/plain": [
              "<Figure size 648x504 with 6 Axes>"
            ]
          },
          "metadata": {
            "tags": [],
            "needs_background": "light"
          }
        }
      ]
    },
    {
      "cell_type": "code",
      "metadata": {
        "id": "c6VGEMwXUoEZ",
        "colab_type": "code",
        "colab": {}
      },
      "source": [
        ""
      ],
      "execution_count": 40,
      "outputs": []
    }
  ]
}