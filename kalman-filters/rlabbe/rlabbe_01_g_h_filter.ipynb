{
  "nbformat": 4,
  "nbformat_minor": 0,
  "metadata": {
    "colab": {
      "name": "rlabbe_01_g_h_filter.ipynb",
      "provenance": [],
      "include_colab_link": true
    },
    "kernelspec": {
      "name": "python3",
      "display_name": "Python 3"
    },
    "widgets": {
      "application/vnd.jupyter.widget-state+json": {
        "3435af4afd304483b31be07fa235525b": {
          "model_module": "@jupyter-widgets/controls",
          "model_name": "VBoxModel",
          "state": {
            "_view_name": "VBoxView",
            "_dom_classes": [
              "widget-interact"
            ],
            "_model_name": "VBoxModel",
            "_view_module": "@jupyter-widgets/controls",
            "_model_module_version": "1.5.0",
            "_view_count": null,
            "_view_module_version": "1.5.0",
            "box_style": "",
            "layout": "IPY_MODEL_a47f301fbfe94ebbbb114caf97167367",
            "_model_module": "@jupyter-widgets/controls",
            "children": [
              "IPY_MODEL_350e071091574fcdbd863d66366086d8",
              "IPY_MODEL_a8d74338b2c54278b168f27418a2012a",
              "IPY_MODEL_af367bdc18864a67ab9a003b26ffacb5",
              "IPY_MODEL_c1c4947535b94437a949992725d3a454",
              "IPY_MODEL_11710e7ee4df4b089015889c17f9b633",
              "IPY_MODEL_f2933b0ec1a04b54b29c29bd0af66dba",
              "IPY_MODEL_70245123e77a4143916d28d7e837501a"
            ]
          }
        },
        "a47f301fbfe94ebbbb114caf97167367": {
          "model_module": "@jupyter-widgets/base",
          "model_name": "LayoutModel",
          "state": {
            "_view_name": "LayoutView",
            "grid_template_rows": null,
            "right": null,
            "justify_content": null,
            "_view_module": "@jupyter-widgets/base",
            "overflow": null,
            "_model_module_version": "1.2.0",
            "_view_count": null,
            "flex_flow": null,
            "width": null,
            "min_width": null,
            "border": null,
            "align_items": null,
            "bottom": null,
            "_model_module": "@jupyter-widgets/base",
            "top": null,
            "grid_column": null,
            "overflow_y": null,
            "overflow_x": null,
            "grid_auto_flow": null,
            "grid_area": null,
            "grid_template_columns": null,
            "flex": null,
            "_model_name": "LayoutModel",
            "justify_items": null,
            "grid_row": null,
            "max_height": null,
            "align_content": null,
            "visibility": null,
            "align_self": null,
            "height": null,
            "min_height": null,
            "padding": null,
            "grid_auto_rows": null,
            "grid_gap": null,
            "max_width": null,
            "order": null,
            "_view_module_version": "1.2.0",
            "grid_template_areas": null,
            "object_position": null,
            "object_fit": null,
            "grid_auto_columns": null,
            "margin": null,
            "display": null,
            "left": null
          }
        },
        "350e071091574fcdbd863d66366086d8": {
          "model_module": "@jupyter-widgets/controls",
          "model_name": "FloatSliderModel",
          "state": {
            "_view_name": "FloatSliderView",
            "style": "IPY_MODEL_70cce665599e4cd794f9dc066d951c73",
            "_dom_classes": [],
            "description": "g",
            "step": 0.1,
            "_model_name": "FloatSliderModel",
            "orientation": "horizontal",
            "max": 1,
            "_view_module": "@jupyter-widgets/controls",
            "_model_module_version": "1.5.0",
            "value": 0.5,
            "_view_count": null,
            "disabled": false,
            "_view_module_version": "1.5.0",
            "min": 0,
            "continuous_update": true,
            "readout_format": ".2f",
            "description_tooltip": null,
            "readout": true,
            "_model_module": "@jupyter-widgets/controls",
            "layout": "IPY_MODEL_1b65d548decb41a8b1f3130360024190"
          }
        },
        "a8d74338b2c54278b168f27418a2012a": {
          "model_module": "@jupyter-widgets/controls",
          "model_name": "FloatSliderModel",
          "state": {
            "_view_name": "FloatSliderView",
            "style": "IPY_MODEL_6c68ee66dc424df08951b39114177821",
            "_dom_classes": [],
            "description": "h",
            "step": 0.1,
            "_model_name": "FloatSliderModel",
            "orientation": "horizontal",
            "max": 1,
            "_view_module": "@jupyter-widgets/controls",
            "_model_module_version": "1.5.0",
            "value": 0.5,
            "_view_count": null,
            "disabled": false,
            "_view_module_version": "1.5.0",
            "min": 0,
            "continuous_update": true,
            "readout_format": ".2f",
            "description_tooltip": null,
            "readout": true,
            "_model_module": "@jupyter-widgets/controls",
            "layout": "IPY_MODEL_ae8a83a6df3b4c52b720d8555c5501e5"
          }
        },
        "af367bdc18864a67ab9a003b26ffacb5": {
          "model_module": "@jupyter-widgets/controls",
          "model_name": "IntSliderModel",
          "state": {
            "_view_name": "IntSliderView",
            "style": "IPY_MODEL_4892e2880c5a4fb19ec1c3863d1b3263",
            "_dom_classes": [],
            "description": "x0",
            "step": 1,
            "_model_name": "IntSliderModel",
            "orientation": "horizontal",
            "max": 200,
            "_view_module": "@jupyter-widgets/controls",
            "_model_module_version": "1.5.0",
            "value": 25,
            "_view_count": null,
            "disabled": false,
            "_view_module_version": "1.5.0",
            "min": 0,
            "continuous_update": true,
            "readout_format": "d",
            "description_tooltip": null,
            "readout": true,
            "_model_module": "@jupyter-widgets/controls",
            "layout": "IPY_MODEL_b0cf6662531041e5aa2537012361464d"
          }
        },
        "c1c4947535b94437a949992725d3a454": {
          "model_module": "@jupyter-widgets/controls",
          "model_name": "IntSliderModel",
          "state": {
            "_view_name": "IntSliderView",
            "style": "IPY_MODEL_554a3be66ce045be8f8bf6c3d20635e3",
            "_dom_classes": [],
            "description": "data_v0",
            "step": 1,
            "_model_name": "IntSliderModel",
            "orientation": "horizontal",
            "max": 5,
            "_view_module": "@jupyter-widgets/controls",
            "_model_module_version": "1.5.0",
            "value": 2,
            "_view_count": null,
            "disabled": false,
            "_view_module_version": "1.5.0",
            "min": 0,
            "continuous_update": true,
            "readout_format": "d",
            "description_tooltip": null,
            "readout": true,
            "_model_module": "@jupyter-widgets/controls",
            "layout": "IPY_MODEL_3dfa30350c554fa093b64e4b4c75f2d3"
          }
        },
        "11710e7ee4df4b089015889c17f9b633": {
          "model_module": "@jupyter-widgets/controls",
          "model_name": "FloatSliderModel",
          "state": {
            "_view_name": "FloatSliderView",
            "style": "IPY_MODEL_1a18b857d88945bd96e2695e700d20f6",
            "_dom_classes": [],
            "description": "data_a0",
            "step": 0.1,
            "_model_name": "FloatSliderModel",
            "orientation": "horizontal",
            "max": 1,
            "_view_module": "@jupyter-widgets/controls",
            "_model_module_version": "1.5.0",
            "value": 0,
            "_view_count": null,
            "disabled": false,
            "_view_module_version": "1.5.0",
            "min": 0,
            "continuous_update": true,
            "readout_format": ".2f",
            "description_tooltip": null,
            "readout": true,
            "_model_module": "@jupyter-widgets/controls",
            "layout": "IPY_MODEL_bd19e6df3dcb4d26a367def286881dbf"
          }
        },
        "f2933b0ec1a04b54b29c29bd0af66dba": {
          "model_module": "@jupyter-widgets/controls",
          "model_name": "IntSliderModel",
          "state": {
            "_view_name": "IntSliderView",
            "style": "IPY_MODEL_e47ef716c328435eb9280125297a6f93",
            "_dom_classes": [],
            "description": "data_std",
            "step": 1,
            "_model_name": "IntSliderModel",
            "orientation": "horizontal",
            "max": 25,
            "_view_module": "@jupyter-widgets/controls",
            "_model_module_version": "1.5.0",
            "value": 8,
            "_view_count": null,
            "disabled": false,
            "_view_module_version": "1.5.0",
            "min": 0,
            "continuous_update": true,
            "readout_format": "d",
            "description_tooltip": null,
            "readout": true,
            "_model_module": "@jupyter-widgets/controls",
            "layout": "IPY_MODEL_d141678fab6745138705cd9a3b99a730"
          }
        },
        "70245123e77a4143916d28d7e837501a": {
          "model_module": "@jupyter-widgets/output",
          "model_name": "OutputModel",
          "state": {
            "_view_name": "OutputView",
            "msg_id": "",
            "_dom_classes": [],
            "_model_name": "OutputModel",
            "outputs": [
              {
                "output_type": "display_data",
                "metadata": {
                  "tags": [],
                  "needs_background": "light"
                },
                "image/png": "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\n",
                "text/plain": "<Figure size 648x504 with 2 Axes>"
              }
            ],
            "_view_module": "@jupyter-widgets/output",
            "_model_module_version": "1.0.0",
            "_view_count": null,
            "_view_module_version": "1.0.0",
            "layout": "IPY_MODEL_55919b880fb64f33b86151c4d03f1bee",
            "_model_module": "@jupyter-widgets/output"
          }
        },
        "70cce665599e4cd794f9dc066d951c73": {
          "model_module": "@jupyter-widgets/controls",
          "model_name": "SliderStyleModel",
          "state": {
            "_view_name": "StyleView",
            "handle_color": null,
            "_model_name": "SliderStyleModel",
            "description_width": "",
            "_view_module": "@jupyter-widgets/base",
            "_model_module_version": "1.5.0",
            "_view_count": null,
            "_view_module_version": "1.2.0",
            "_model_module": "@jupyter-widgets/controls"
          }
        },
        "1b65d548decb41a8b1f3130360024190": {
          "model_module": "@jupyter-widgets/base",
          "model_name": "LayoutModel",
          "state": {
            "_view_name": "LayoutView",
            "grid_template_rows": null,
            "right": null,
            "justify_content": null,
            "_view_module": "@jupyter-widgets/base",
            "overflow": null,
            "_model_module_version": "1.2.0",
            "_view_count": null,
            "flex_flow": null,
            "width": null,
            "min_width": null,
            "border": null,
            "align_items": null,
            "bottom": null,
            "_model_module": "@jupyter-widgets/base",
            "top": null,
            "grid_column": null,
            "overflow_y": null,
            "overflow_x": null,
            "grid_auto_flow": null,
            "grid_area": null,
            "grid_template_columns": null,
            "flex": null,
            "_model_name": "LayoutModel",
            "justify_items": null,
            "grid_row": null,
            "max_height": null,
            "align_content": null,
            "visibility": null,
            "align_self": null,
            "height": null,
            "min_height": null,
            "padding": null,
            "grid_auto_rows": null,
            "grid_gap": null,
            "max_width": null,
            "order": null,
            "_view_module_version": "1.2.0",
            "grid_template_areas": null,
            "object_position": null,
            "object_fit": null,
            "grid_auto_columns": null,
            "margin": null,
            "display": null,
            "left": null
          }
        },
        "6c68ee66dc424df08951b39114177821": {
          "model_module": "@jupyter-widgets/controls",
          "model_name": "SliderStyleModel",
          "state": {
            "_view_name": "StyleView",
            "handle_color": null,
            "_model_name": "SliderStyleModel",
            "description_width": "",
            "_view_module": "@jupyter-widgets/base",
            "_model_module_version": "1.5.0",
            "_view_count": null,
            "_view_module_version": "1.2.0",
            "_model_module": "@jupyter-widgets/controls"
          }
        },
        "ae8a83a6df3b4c52b720d8555c5501e5": {
          "model_module": "@jupyter-widgets/base",
          "model_name": "LayoutModel",
          "state": {
            "_view_name": "LayoutView",
            "grid_template_rows": null,
            "right": null,
            "justify_content": null,
            "_view_module": "@jupyter-widgets/base",
            "overflow": null,
            "_model_module_version": "1.2.0",
            "_view_count": null,
            "flex_flow": null,
            "width": null,
            "min_width": null,
            "border": null,
            "align_items": null,
            "bottom": null,
            "_model_module": "@jupyter-widgets/base",
            "top": null,
            "grid_column": null,
            "overflow_y": null,
            "overflow_x": null,
            "grid_auto_flow": null,
            "grid_area": null,
            "grid_template_columns": null,
            "flex": null,
            "_model_name": "LayoutModel",
            "justify_items": null,
            "grid_row": null,
            "max_height": null,
            "align_content": null,
            "visibility": null,
            "align_self": null,
            "height": null,
            "min_height": null,
            "padding": null,
            "grid_auto_rows": null,
            "grid_gap": null,
            "max_width": null,
            "order": null,
            "_view_module_version": "1.2.0",
            "grid_template_areas": null,
            "object_position": null,
            "object_fit": null,
            "grid_auto_columns": null,
            "margin": null,
            "display": null,
            "left": null
          }
        },
        "4892e2880c5a4fb19ec1c3863d1b3263": {
          "model_module": "@jupyter-widgets/controls",
          "model_name": "SliderStyleModel",
          "state": {
            "_view_name": "StyleView",
            "handle_color": null,
            "_model_name": "SliderStyleModel",
            "description_width": "",
            "_view_module": "@jupyter-widgets/base",
            "_model_module_version": "1.5.0",
            "_view_count": null,
            "_view_module_version": "1.2.0",
            "_model_module": "@jupyter-widgets/controls"
          }
        },
        "b0cf6662531041e5aa2537012361464d": {
          "model_module": "@jupyter-widgets/base",
          "model_name": "LayoutModel",
          "state": {
            "_view_name": "LayoutView",
            "grid_template_rows": null,
            "right": null,
            "justify_content": null,
            "_view_module": "@jupyter-widgets/base",
            "overflow": null,
            "_model_module_version": "1.2.0",
            "_view_count": null,
            "flex_flow": null,
            "width": null,
            "min_width": null,
            "border": null,
            "align_items": null,
            "bottom": null,
            "_model_module": "@jupyter-widgets/base",
            "top": null,
            "grid_column": null,
            "overflow_y": null,
            "overflow_x": null,
            "grid_auto_flow": null,
            "grid_area": null,
            "grid_template_columns": null,
            "flex": null,
            "_model_name": "LayoutModel",
            "justify_items": null,
            "grid_row": null,
            "max_height": null,
            "align_content": null,
            "visibility": null,
            "align_self": null,
            "height": null,
            "min_height": null,
            "padding": null,
            "grid_auto_rows": null,
            "grid_gap": null,
            "max_width": null,
            "order": null,
            "_view_module_version": "1.2.0",
            "grid_template_areas": null,
            "object_position": null,
            "object_fit": null,
            "grid_auto_columns": null,
            "margin": null,
            "display": null,
            "left": null
          }
        },
        "554a3be66ce045be8f8bf6c3d20635e3": {
          "model_module": "@jupyter-widgets/controls",
          "model_name": "SliderStyleModel",
          "state": {
            "_view_name": "StyleView",
            "handle_color": null,
            "_model_name": "SliderStyleModel",
            "description_width": "",
            "_view_module": "@jupyter-widgets/base",
            "_model_module_version": "1.5.0",
            "_view_count": null,
            "_view_module_version": "1.2.0",
            "_model_module": "@jupyter-widgets/controls"
          }
        },
        "3dfa30350c554fa093b64e4b4c75f2d3": {
          "model_module": "@jupyter-widgets/base",
          "model_name": "LayoutModel",
          "state": {
            "_view_name": "LayoutView",
            "grid_template_rows": null,
            "right": null,
            "justify_content": null,
            "_view_module": "@jupyter-widgets/base",
            "overflow": null,
            "_model_module_version": "1.2.0",
            "_view_count": null,
            "flex_flow": null,
            "width": null,
            "min_width": null,
            "border": null,
            "align_items": null,
            "bottom": null,
            "_model_module": "@jupyter-widgets/base",
            "top": null,
            "grid_column": null,
            "overflow_y": null,
            "overflow_x": null,
            "grid_auto_flow": null,
            "grid_area": null,
            "grid_template_columns": null,
            "flex": null,
            "_model_name": "LayoutModel",
            "justify_items": null,
            "grid_row": null,
            "max_height": null,
            "align_content": null,
            "visibility": null,
            "align_self": null,
            "height": null,
            "min_height": null,
            "padding": null,
            "grid_auto_rows": null,
            "grid_gap": null,
            "max_width": null,
            "order": null,
            "_view_module_version": "1.2.0",
            "grid_template_areas": null,
            "object_position": null,
            "object_fit": null,
            "grid_auto_columns": null,
            "margin": null,
            "display": null,
            "left": null
          }
        },
        "1a18b857d88945bd96e2695e700d20f6": {
          "model_module": "@jupyter-widgets/controls",
          "model_name": "SliderStyleModel",
          "state": {
            "_view_name": "StyleView",
            "handle_color": null,
            "_model_name": "SliderStyleModel",
            "description_width": "",
            "_view_module": "@jupyter-widgets/base",
            "_model_module_version": "1.5.0",
            "_view_count": null,
            "_view_module_version": "1.2.0",
            "_model_module": "@jupyter-widgets/controls"
          }
        },
        "bd19e6df3dcb4d26a367def286881dbf": {
          "model_module": "@jupyter-widgets/base",
          "model_name": "LayoutModel",
          "state": {
            "_view_name": "LayoutView",
            "grid_template_rows": null,
            "right": null,
            "justify_content": null,
            "_view_module": "@jupyter-widgets/base",
            "overflow": null,
            "_model_module_version": "1.2.0",
            "_view_count": null,
            "flex_flow": null,
            "width": null,
            "min_width": null,
            "border": null,
            "align_items": null,
            "bottom": null,
            "_model_module": "@jupyter-widgets/base",
            "top": null,
            "grid_column": null,
            "overflow_y": null,
            "overflow_x": null,
            "grid_auto_flow": null,
            "grid_area": null,
            "grid_template_columns": null,
            "flex": null,
            "_model_name": "LayoutModel",
            "justify_items": null,
            "grid_row": null,
            "max_height": null,
            "align_content": null,
            "visibility": null,
            "align_self": null,
            "height": null,
            "min_height": null,
            "padding": null,
            "grid_auto_rows": null,
            "grid_gap": null,
            "max_width": null,
            "order": null,
            "_view_module_version": "1.2.0",
            "grid_template_areas": null,
            "object_position": null,
            "object_fit": null,
            "grid_auto_columns": null,
            "margin": null,
            "display": null,
            "left": null
          }
        },
        "e47ef716c328435eb9280125297a6f93": {
          "model_module": "@jupyter-widgets/controls",
          "model_name": "SliderStyleModel",
          "state": {
            "_view_name": "StyleView",
            "handle_color": null,
            "_model_name": "SliderStyleModel",
            "description_width": "",
            "_view_module": "@jupyter-widgets/base",
            "_model_module_version": "1.5.0",
            "_view_count": null,
            "_view_module_version": "1.2.0",
            "_model_module": "@jupyter-widgets/controls"
          }
        },
        "d141678fab6745138705cd9a3b99a730": {
          "model_module": "@jupyter-widgets/base",
          "model_name": "LayoutModel",
          "state": {
            "_view_name": "LayoutView",
            "grid_template_rows": null,
            "right": null,
            "justify_content": null,
            "_view_module": "@jupyter-widgets/base",
            "overflow": null,
            "_model_module_version": "1.2.0",
            "_view_count": null,
            "flex_flow": null,
            "width": null,
            "min_width": null,
            "border": null,
            "align_items": null,
            "bottom": null,
            "_model_module": "@jupyter-widgets/base",
            "top": null,
            "grid_column": null,
            "overflow_y": null,
            "overflow_x": null,
            "grid_auto_flow": null,
            "grid_area": null,
            "grid_template_columns": null,
            "flex": null,
            "_model_name": "LayoutModel",
            "justify_items": null,
            "grid_row": null,
            "max_height": null,
            "align_content": null,
            "visibility": null,
            "align_self": null,
            "height": null,
            "min_height": null,
            "padding": null,
            "grid_auto_rows": null,
            "grid_gap": null,
            "max_width": null,
            "order": null,
            "_view_module_version": "1.2.0",
            "grid_template_areas": null,
            "object_position": null,
            "object_fit": null,
            "grid_auto_columns": null,
            "margin": null,
            "display": null,
            "left": null
          }
        },
        "55919b880fb64f33b86151c4d03f1bee": {
          "model_module": "@jupyter-widgets/base",
          "model_name": "LayoutModel",
          "state": {
            "_view_name": "LayoutView",
            "grid_template_rows": null,
            "right": null,
            "justify_content": null,
            "_view_module": "@jupyter-widgets/base",
            "overflow": null,
            "_model_module_version": "1.2.0",
            "_view_count": null,
            "flex_flow": null,
            "width": null,
            "min_width": null,
            "border": null,
            "align_items": null,
            "bottom": null,
            "_model_module": "@jupyter-widgets/base",
            "top": null,
            "grid_column": null,
            "overflow_y": null,
            "overflow_x": null,
            "grid_auto_flow": null,
            "grid_area": null,
            "grid_template_columns": null,
            "flex": null,
            "_model_name": "LayoutModel",
            "justify_items": null,
            "grid_row": null,
            "max_height": null,
            "align_content": null,
            "visibility": null,
            "align_self": null,
            "height": null,
            "min_height": null,
            "padding": null,
            "grid_auto_rows": null,
            "grid_gap": null,
            "max_width": null,
            "order": null,
            "_view_module_version": "1.2.0",
            "grid_template_areas": null,
            "object_position": null,
            "object_fit": null,
            "grid_auto_columns": null,
            "margin": null,
            "display": null,
            "left": null
          }
        }
      }
    }
  },
  "cells": [
    {
      "cell_type": "markdown",
      "metadata": {
        "id": "view-in-github",
        "colab_type": "text"
      },
      "source": [
        "<a href=\"https://colab.research.google.com/github/ctarrington/data-science-hw/blob/master/kalman-filters/rlabbe/rlabbe_01_g_h_filter.ipynb\" target=\"_parent\"><img src=\"https://colab.research.google.com/assets/colab-badge.svg\" alt=\"Open In Colab\"/></a>"
      ]
    },
    {
      "cell_type": "code",
      "metadata": {
        "id": "r1DtwrCDOAOO",
        "colab_type": "code",
        "colab": {}
      },
      "source": [
        "import math\n",
        "\n",
        "import numpy as np\n",
        "\n",
        "from matplotlib.pyplot import plot\n",
        "from matplotlib import pyplot as plt\n",
        "\n",
        "from ipywidgets import fixed, interact\n",
        "import ipywidgets as widgets\n"
      ],
      "execution_count": 17,
      "outputs": []
    },
    {
      "cell_type": "markdown",
      "metadata": {
        "id": "hE841vbFCCzV",
        "colab_type": "text"
      },
      "source": [
        "## My cut at the exercises from\n",
        "https://github.com/rlabbe/Kalman-and-Bayesian-Filters-in-Python/blob/master/01-g-h-filter.ipynb"
      ]
    },
    {
      "cell_type": "code",
      "metadata": {
        "id": "j6MBGj2gmlF7",
        "colab_type": "code",
        "colab": {}
      },
      "source": [
        "def data_and_noise(x0 = 0, v = 2, a = 0, std = 1, count = 30, seed = 123):\n",
        "  np.random.seed(seed)\n",
        "\n",
        "  xs = np.array([x0 + t * v + 0.5 * a * t ** 2 for t in range(count)])\n",
        "  noise = np.array(np.random.normal(0, std, count))\n",
        "  return (xs, xs + noise)\n",
        "  "
      ],
      "execution_count": 18,
      "outputs": []
    },
    {
      "cell_type": "code",
      "metadata": {
        "id": "rqlooWNdLwuF",
        "colab_type": "code",
        "colab": {}
      },
      "source": [
        "def g_h_filter(zs, x0, v0, g, h, dt):\n",
        "  x = x0\n",
        "  v = v0\n",
        "\n",
        "  estimates = []\n",
        "  for z in zs:\n",
        "    predicted_x = x + v * dt\n",
        "\n",
        "    residual = z - predicted_x\n",
        "    x = predicted_x + g * residual\n",
        "    v = v + h * residual / dt\n",
        "\n",
        "    estimates.append(x)\n",
        "\n",
        "  return np.array(estimates)\n",
        "\n"
      ],
      "execution_count": 19,
      "outputs": []
    },
    {
      "cell_type": "code",
      "metadata": {
        "id": "z1ASj20IHCLh",
        "colab_type": "code",
        "colab": {}
      },
      "source": [
        "def show_scenario(g, h, x0, data_x0, data_v0, data_a0, data_std):\n",
        "  actuals, weights = data_and_noise(x0=data_x0, v=data_v0, a=data_a0, std=data_std)\n",
        "  estimates = g_h_filter(weights, x0, 0, g, h, 1)\n",
        "\n",
        "  burn_in = 6\n",
        "  measurement_error = weights[burn_in:] - actuals[burn_in:]\n",
        "  estimate_error = estimates[burn_in:] - actuals[burn_in:]\n",
        "  estimate_advantage = np.abs(measurement_error) - np.abs(estimate_error)\n",
        "  mean_advantage = np.mean(estimate_advantage)\n",
        "\n",
        "  # everything together\n",
        "  _, subplots = plt.subplots(1,2, figsize=(9, 7), constrained_layout=True)\n",
        "  subplots[0].plot(actuals, '-b', label='Actual')\n",
        "  subplots[0].plot(weights, 'c.', label='Measurements')\n",
        "  subplots[0].plot(estimates, '--gx', label='Estimates')\n",
        "  subplots[0].set_title('g: {}'.format(g))\n",
        "  subplots[0].set_ylim(bottom=0, top=200)\n",
        "  subplots[0].legend()\n",
        "\n",
        "  # advantage\n",
        "  burnt_times = range(burn_in, len(estimates))\n",
        "  subplots[1].plot(burnt_times, estimate_advantage, 'go')\n",
        "  subplots[1].set_xlim(left=0)\n",
        "  subplots[1].hlines(0, burn_in, len(estimates))\n",
        "  subplots[1].set_title('Estimate advantage %.1f' % mean_advantage)\n",
        "  \n",
        "  plt.show()"
      ],
      "execution_count": 20,
      "outputs": []
    },
    {
      "cell_type": "code",
      "metadata": {
        "id": "OFcN6rDGHe4Z",
        "colab_type": "code",
        "colab": {
          "base_uri": "https://localhost:8080/",
          "height": 738,
          "referenced_widgets": [
            "3435af4afd304483b31be07fa235525b",
            "a47f301fbfe94ebbbb114caf97167367",
            "350e071091574fcdbd863d66366086d8",
            "a8d74338b2c54278b168f27418a2012a",
            "af367bdc18864a67ab9a003b26ffacb5",
            "c1c4947535b94437a949992725d3a454",
            "11710e7ee4df4b089015889c17f9b633",
            "f2933b0ec1a04b54b29c29bd0af66dba",
            "70245123e77a4143916d28d7e837501a",
            "70cce665599e4cd794f9dc066d951c73",
            "1b65d548decb41a8b1f3130360024190",
            "6c68ee66dc424df08951b39114177821",
            "ae8a83a6df3b4c52b720d8555c5501e5",
            "4892e2880c5a4fb19ec1c3863d1b3263",
            "b0cf6662531041e5aa2537012361464d",
            "554a3be66ce045be8f8bf6c3d20635e3",
            "3dfa30350c554fa093b64e4b4c75f2d3",
            "1a18b857d88945bd96e2695e700d20f6",
            "bd19e6df3dcb4d26a367def286881dbf",
            "e47ef716c328435eb9280125297a6f93",
            "d141678fab6745138705cd9a3b99a730",
            "55919b880fb64f33b86151c4d03f1bee"
          ]
        },
        "outputId": "fa1d060e-064e-40df-bd58-280e4694f4e9"
      },
      "source": [
        "interact(show_scenario,\n",
        "         g=widgets.FloatSlider(0.5, min=0., max=1.),\n",
        "         h=widgets.FloatSlider(0.5, min=0., max=1.),\n",
        "         x0=widgets.IntSlider(25, min=0, max=200),\n",
        "         data_x0=fixed(100),\n",
        "         data_v0=widgets.IntSlider(2, min=0, max=5),\n",
        "         data_a0=widgets.FloatSlider(0., min=0., max=1.),\n",
        "         data_std=widgets.IntSlider(8, min=0, max=25))"
      ],
      "execution_count": 21,
      "outputs": [
        {
          "output_type": "display_data",
          "data": {
            "application/vnd.jupyter.widget-view+json": {
              "model_id": "3435af4afd304483b31be07fa235525b",
              "version_minor": 0,
              "version_major": 2
            },
            "text/plain": [
              "interactive(children=(FloatSlider(value=0.5, description='g', max=1.0), FloatSlider(value=0.5, description='h'…"
            ]
          },
          "metadata": {
            "tags": []
          }
        },
        {
          "output_type": "execute_result",
          "data": {
            "text/plain": [
              "<function __main__.show_scenario>"
            ]
          },
          "metadata": {
            "tags": []
          },
          "execution_count": 21
        }
      ]
    },
    {
      "cell_type": "code",
      "metadata": {
        "id": "NwR6lxvhOJ4y",
        "colab_type": "code",
        "colab": {
          "base_uri": "https://localhost:8080/",
          "height": 529
        },
        "outputId": "cba592b4-22c9-4cdf-c2eb-c1ef523db235"
      },
      "source": [
        "show_scenario(g=0.5, h=0.5, x0=25, data_x0=100, data_v0=2, data_a0=0, data_std=8)"
      ],
      "execution_count": 22,
      "outputs": [
        {
          "output_type": "display_data",
          "data": {
            "image/png": "[encoded data removed]",
            "text/plain": [
              "<Figure size 648x504 with 2 Axes>"
            ]
          },
          "metadata": {
            "tags": [],
            "needs_background": "light"
          }
        }
      ]
    },
    {
      "cell_type": "code",
      "metadata": {
        "id": "c6VGEMwXUoEZ",
        "colab_type": "code",
        "colab": {}
      },
      "source": [
        ""
      ],
      "execution_count": 22,
      "outputs": []
    }
  ]
}