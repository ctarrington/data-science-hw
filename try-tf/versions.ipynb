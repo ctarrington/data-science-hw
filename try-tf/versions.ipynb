{
 "cells": [
  {
   "cell_type": "code",
   "execution_count": 9,
   "id": "0b194597-bb26-4ef3-98d8-25cdab058696",
   "metadata": {},
   "outputs": [
    {
     "name": "stdout",
     "output_type": "stream",
     "text": [
      "python 3.11.0rc1 (main, Aug 12 2022, 10:02:14) [GCC 11.2.0]\n",
      "tensorflow 2.15.0\n",
      "keras 2.15.0\n",
      "no sklearn\n"
     ]
    }
   ],
   "source": [
    "import sys\n",
    "import tensorflow as tf\n",
    "import keras\n",
    "\n",
    "print('python', sys.version)\n",
    "print('tensorflow', tf.__version__)\n",
    "print('keras', keras.__version__)\n",
    "\n",
    "print('no sklearn')\n",
    "\n",
    "\n"
   ]
  },
  {
   "cell_type": "code",
   "execution_count": null,
   "id": "717a2743-e3cf-4039-a2eb-50bfa1842a72",
   "metadata": {},
   "outputs": [],
   "source": []
  }
 ],
 "metadata": {
  "kernelspec": {
   "display_name": "Python 3 (ipykernel)",
   "language": "python",
   "name": "python3"
  },
  "language_info": {
   "codemirror_mode": {
    "name": "ipython",
    "version": 3
   },
   "file_extension": ".py",
   "mimetype": "text/x-python",
   "name": "python",
   "nbconvert_exporter": "python",
   "pygments_lexer": "ipython3",
   "version": "3.11.0rc1"
  }
 },
 "nbformat": 4,
 "nbformat_minor": 5
}
